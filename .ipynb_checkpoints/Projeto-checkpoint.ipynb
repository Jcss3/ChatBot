{
 "cells": [
  {
   "cell_type": "markdown",
   "metadata": {},
   "source": [
    "### Loading Imports"
   ]
  },
  {
   "cell_type": "code",
   "execution_count": 1,
   "metadata": {},
   "outputs": [],
   "source": [
    "import pandas as pd\n",
    "import numpy as np\n",
    "import re\n",
    "import spacy\n",
    "import random\n",
    "import tensorflow as tf\n",
    "from sklearn.model_selection import train_test_split\n",
    "from sklearn.preprocessing import LabelEncoder\n",
    "from tensorflow.keras import Sequential\n",
    "from tensorflow.keras.utils import to_categorical\n",
    "from tensorflow.keras.layers import Dense, Embedding, GlobalAveragePooling1D, MaxPooling1D, Dropout, Activation\n",
    "#from keras.layers.experimental.preprocessing import TextVectorization\n",
    "from tensorflow.keras.preprocessing.text import Tokenizer\n",
    "from tensorflow.keras.preprocessing.sequence import pad_sequences"
   ]
  },
  {
   "cell_type": "markdown",
   "metadata": {},
   "source": [
    "### Loading Data"
   ]
  },
  {
   "cell_type": "code",
   "execution_count": 2,
   "metadata": {},
   "outputs": [],
   "source": [
    "atis_1_train = pd.read_csv(\"dados/Atis_1/atis.train.csv\")\n",
    "atis_1_val = pd.read_csv(\"dados/Atis_1/atis.dev.csv\")\n",
    "atis_1_test = pd.read_csv(\"dados/Atis_1/atis.test.csv\")\n",
    "\n",
    "atis_2_train = pd.read_csv(\"dados/Atis_2/atis_intents_train.csv\")\n",
    "atis_2_test = pd.read_csv(\"dados/Atis_2/atis_intents_test.csv\")"
   ]
  },
  {
   "cell_type": "code",
   "execution_count": 3,
   "metadata": {},
   "outputs": [
    {
     "name": "stdout",
     "output_type": "stream",
     "text": [
      "Atis 1:  (4274, 4)\n",
      "Atis 1:  (572, 4)\n",
      "Atis 1:  (586, 4)\n",
      "##############################\n",
      "Atis 2:  (4833, 2)\n",
      "Atis 2:  (799, 2)\n"
     ]
    }
   ],
   "source": [
    "print(\"Atis 1: \",atis_1_train.shape)\n",
    "print(\"Atis 1: \",atis_1_val.shape)\n",
    "print(\"Atis 1: \",atis_1_test.shape)\n",
    "print(\"##############################\")\n",
    "print(\"Atis 2: \",atis_2_train.shape)\n",
    "print(\"Atis 2: \",atis_2_test.shape)"
   ]
  },
  {
   "cell_type": "markdown",
   "metadata": {},
   "source": [
    "### Pre processamento dos Dados\n",
    "* Dataset a ser utilizado: <strong>Atis_1</strong>\n",
    "* Verificar  <strong>Intents</strong>\n",
    "* Verificar se existe algum <strong>valor Nan</strong>\n",
    "* Escolher colunas com <strong>Tokens(sentenças) e Intents</strong>\n",
    "* <strong>Eliminar</strong> caracter <strong>BOS</strong> do inicio das sentenças\n",
    "* <strong>Eliminar</strong> caracter <strong>EOS</strong> do final das sentenças"
   ]
  },
  {
   "cell_type": "code",
   "execution_count": 4,
   "metadata": {},
   "outputs": [
    {
     "data": {
      "text/html": [
       "<div>\n",
       "<style scoped>\n",
       "    .dataframe tbody tr th:only-of-type {\n",
       "        vertical-align: middle;\n",
       "    }\n",
       "\n",
       "    .dataframe tbody tr th {\n",
       "        vertical-align: top;\n",
       "    }\n",
       "\n",
       "    .dataframe thead th {\n",
       "        text-align: right;\n",
       "    }\n",
       "</style>\n",
       "<table border=\"1\" class=\"dataframe\">\n",
       "  <thead>\n",
       "    <tr style=\"text-align: right;\">\n",
       "      <th></th>\n",
       "      <th>id</th>\n",
       "      <th>tokens</th>\n",
       "      <th>slots</th>\n",
       "      <th>intent</th>\n",
       "    </tr>\n",
       "  </thead>\n",
       "  <tbody>\n",
       "    <tr>\n",
       "      <th>0</th>\n",
       "      <td>train-00001</td>\n",
       "      <td>BOS what is the cost of a round trip flight fr...</td>\n",
       "      <td>O O O O O O O B-round_trip I-round_trip O O B-...</td>\n",
       "      <td>atis_airfare</td>\n",
       "    </tr>\n",
       "    <tr>\n",
       "      <th>1</th>\n",
       "      <td>train-00002</td>\n",
       "      <td>BOS now i need a flight leaving fort worth and...</td>\n",
       "      <td>O O O O O O O B-fromloc.city_name I-fromloc.ci...</td>\n",
       "      <td>atis_flight</td>\n",
       "    </tr>\n",
       "    <tr>\n",
       "      <th>2</th>\n",
       "      <td>train-00003</td>\n",
       "      <td>BOS i need to fly from kansas city to chicago ...</td>\n",
       "      <td>O O O O O O B-fromloc.city_name I-fromloc.city...</td>\n",
       "      <td>atis_flight</td>\n",
       "    </tr>\n",
       "  </tbody>\n",
       "</table>\n",
       "</div>"
      ],
      "text/plain": [
       "            id                                             tokens  \\\n",
       "0  train-00001  BOS what is the cost of a round trip flight fr...   \n",
       "1  train-00002  BOS now i need a flight leaving fort worth and...   \n",
       "2  train-00003  BOS i need to fly from kansas city to chicago ...   \n",
       "\n",
       "                                               slots        intent  \n",
       "0  O O O O O O O B-round_trip I-round_trip O O B-...  atis_airfare  \n",
       "1  O O O O O O O B-fromloc.city_name I-fromloc.ci...   atis_flight  \n",
       "2  O O O O O O B-fromloc.city_name I-fromloc.city...   atis_flight  "
      ]
     },
     "execution_count": 4,
     "metadata": {},
     "output_type": "execute_result"
    }
   ],
   "source": [
    "atis_1_train.head(3)"
   ]
  },
  {
   "cell_type": "code",
   "execution_count": 5,
   "metadata": {},
   "outputs": [
    {
     "data": {
      "text/plain": [
       "atis_flight                 3173\n",
       "atis_airfare                 351\n",
       "atis_ground_service          207\n",
       "atis_airline                 139\n",
       "atis_abbreviation             94\n",
       "atis_aircraft                 70\n",
       "atis_quantity                 41\n",
       "atis_flight_time              38\n",
       "atis_capacity                 29\n",
       "atis_distance                 24\n",
       "atis_airport                  23\n",
       "atis_flight#atis_airfare      21\n",
       "atis_city                     18\n",
       "atis_ground_fare              18\n",
       "atis_flight_no                16\n",
       "atis_meal                      9\n",
       "atis_restriction               3\n",
       "Name: intent, dtype: int64"
      ]
     },
     "execution_count": 5,
     "metadata": {},
     "output_type": "execute_result"
    }
   ],
   "source": [
    "atis_1_train['intent'].value_counts()"
   ]
  },
  {
   "cell_type": "code",
   "execution_count": 6,
   "metadata": {},
   "outputs": [
    {
     "name": "stdout",
     "output_type": "stream",
     "text": [
      "Valores Nan em train:\n",
      " id        0\n",
      "tokens    0\n",
      "slots     0\n",
      "intent    0\n",
      "dtype: int64\n",
      "#########################################################\n",
      "Valores Nan em val:\n",
      " id        0\n",
      "tokens    0\n",
      "slots     0\n",
      "intent    0\n",
      "dtype: int64\n",
      "#########################################################\n",
      "Valores Nan em test:\n",
      " id        0\n",
      "tokens    0\n",
      "slots     0\n",
      "intent    0\n",
      "dtype: int64\n"
     ]
    }
   ],
   "source": [
    "print(\"Valores Nan em train:\\n\",atis_1_train.isnull().sum())\n",
    "print(\"#########################################################\")\n",
    "print(\"Valores Nan em val:\\n\",atis_1_val.isnull().sum())\n",
    "print(\"#########################################################\")\n",
    "print(\"Valores Nan em test:\\n\",atis_1_test.isnull().sum())"
   ]
  },
  {
   "cell_type": "code",
   "execution_count": 7,
   "metadata": {},
   "outputs": [],
   "source": [
    "atis_1_train = atis_1_train.loc[:,['tokens','intent']]\n",
    "atis_1_val = atis_1_val.loc[:,['tokens','intent']]\n",
    "atis_1_test = atis_1_test.loc[:,['tokens','intent']]"
   ]
  },
  {
   "cell_type": "code",
   "execution_count": 8,
   "metadata": {},
   "outputs": [
    {
     "data": {
      "text/html": [
       "<div>\n",
       "<style scoped>\n",
       "    .dataframe tbody tr th:only-of-type {\n",
       "        vertical-align: middle;\n",
       "    }\n",
       "\n",
       "    .dataframe tbody tr th {\n",
       "        vertical-align: top;\n",
       "    }\n",
       "\n",
       "    .dataframe thead th {\n",
       "        text-align: right;\n",
       "    }\n",
       "</style>\n",
       "<table border=\"1\" class=\"dataframe\">\n",
       "  <thead>\n",
       "    <tr style=\"text-align: right;\">\n",
       "      <th></th>\n",
       "      <th>tokens</th>\n",
       "      <th>intent</th>\n",
       "    </tr>\n",
       "  </thead>\n",
       "  <tbody>\n",
       "    <tr>\n",
       "      <th>0</th>\n",
       "      <td>BOS what is the cost of a round trip flight fr...</td>\n",
       "      <td>atis_airfare</td>\n",
       "    </tr>\n",
       "    <tr>\n",
       "      <th>1</th>\n",
       "      <td>BOS now i need a flight leaving fort worth and...</td>\n",
       "      <td>atis_flight</td>\n",
       "    </tr>\n",
       "    <tr>\n",
       "      <th>2</th>\n",
       "      <td>BOS i need to fly from kansas city to chicago ...</td>\n",
       "      <td>atis_flight</td>\n",
       "    </tr>\n",
       "  </tbody>\n",
       "</table>\n",
       "</div>"
      ],
      "text/plain": [
       "                                              tokens        intent\n",
       "0  BOS what is the cost of a round trip flight fr...  atis_airfare\n",
       "1  BOS now i need a flight leaving fort worth and...   atis_flight\n",
       "2  BOS i need to fly from kansas city to chicago ...   atis_flight"
      ]
     },
     "execution_count": 8,
     "metadata": {},
     "output_type": "execute_result"
    }
   ],
   "source": [
    "atis_1_train.head(3)"
   ]
  },
  {
   "cell_type": "code",
   "execution_count": 9,
   "metadata": {},
   "outputs": [],
   "source": [
    "# eliminando caracter indesejado do inicio BOS e final EOS sentenças\n",
    "atis_1_train['tokens'] = [x.replace('BOS ','') for x in atis_1_train['tokens']]\n",
    "atis_1_val['tokens'] = [x.replace('BOS ','') for x in atis_1_val['tokens']]\n",
    "atis_1_test['tokens'] = [x.replace('BOS ','') for x in atis_1_test['tokens']]\n",
    "\n",
    "atis_1_train['tokens'] = [x.replace(' EOS','') for x in atis_1_train['tokens']]\n",
    "atis_1_val['tokens'] = [x.replace(' EOS','') for x in atis_1_val['tokens']]\n",
    "atis_1_test['tokens'] = [x.replace(' EOS','') for x in atis_1_test['tokens']]"
   ]
  },
  {
   "cell_type": "code",
   "execution_count": 10,
   "metadata": {},
   "outputs": [],
   "source": [
    "dict_Labels = {}\n",
    "count = 0\n",
    "for intent in atis_1_train['intent']:\n",
    "    if intent not in dict_Labels:\n",
    "        dict_Labels[intent] = count\n",
    "        count += 1"
   ]
  },
  {
   "cell_type": "code",
   "execution_count": 11,
   "metadata": {},
   "outputs": [
    {
     "name": "stdout",
     "output_type": "stream",
     "text": [
      "{'atis_airfare': 0, 'atis_flight': 1, 'atis_abbreviation': 2, 'atis_ground_service': 3, 'atis_restriction': 4, 'atis_airport': 5, 'atis_quantity': 6, 'atis_meal': 7, 'atis_airline': 8, 'atis_city': 9, 'atis_flight_no': 10, 'atis_ground_fare': 11, 'atis_flight_time': 12, 'atis_flight#atis_airfare': 13, 'atis_distance': 14, 'atis_aircraft': 15, 'atis_capacity': 16}\n"
     ]
    }
   ],
   "source": [
    "print(dict_Labels)"
   ]
  },
  {
   "cell_type": "code",
   "execution_count": 12,
   "metadata": {},
   "outputs": [],
   "source": [
    "atis_1_train['Label_intent'] = [dict_Labels[x] for x in atis_1_train['intent']]\n",
    "atis_1_val['Label_intent'] = [dict_Labels[x] for x in atis_1_val['intent']]\n",
    "atis_1_test['Label_intent'] = [dict_Labels[x] for x in atis_1_test['intent']]"
   ]
  },
  {
   "cell_type": "code",
   "execution_count": 13,
   "metadata": {},
   "outputs": [
    {
     "data": {
      "text/plain": [
       "'what is the meaning of meal code s'"
      ]
     },
     "execution_count": 13,
     "metadata": {},
     "output_type": "execute_result"
    }
   ],
   "source": [
    "atis_1_train[\"tokens\"][3]"
   ]
  },
  {
   "cell_type": "code",
   "execution_count": 14,
   "metadata": {},
   "outputs": [
    {
     "data": {
      "text/plain": [
       "'what is the cost of a round trip flight from pittsburgh to atlanta beginning on april twenty fifth and returning on may sixth'"
      ]
     },
     "execution_count": 14,
     "metadata": {},
     "output_type": "execute_result"
    }
   ],
   "source": [
    "atis_1_train[\"tokens\"][0]"
   ]
  },
  {
   "cell_type": "code",
   "execution_count": 15,
   "metadata": {},
   "outputs": [
    {
     "data": {
      "text/html": [
       "<div>\n",
       "<style scoped>\n",
       "    .dataframe tbody tr th:only-of-type {\n",
       "        vertical-align: middle;\n",
       "    }\n",
       "\n",
       "    .dataframe tbody tr th {\n",
       "        vertical-align: top;\n",
       "    }\n",
       "\n",
       "    .dataframe thead th {\n",
       "        text-align: right;\n",
       "    }\n",
       "</style>\n",
       "<table border=\"1\" class=\"dataframe\">\n",
       "  <thead>\n",
       "    <tr style=\"text-align: right;\">\n",
       "      <th></th>\n",
       "      <th>tokens</th>\n",
       "      <th>intent</th>\n",
       "      <th>Label_intent</th>\n",
       "    </tr>\n",
       "  </thead>\n",
       "  <tbody>\n",
       "    <tr>\n",
       "      <th>0</th>\n",
       "      <td>what is the cost of a round trip flight from p...</td>\n",
       "      <td>atis_airfare</td>\n",
       "      <td>0</td>\n",
       "    </tr>\n",
       "    <tr>\n",
       "      <th>1</th>\n",
       "      <td>now i need a flight leaving fort worth and arr...</td>\n",
       "      <td>atis_flight</td>\n",
       "      <td>1</td>\n",
       "    </tr>\n",
       "    <tr>\n",
       "      <th>2</th>\n",
       "      <td>i need to fly from kansas city to chicago leav...</td>\n",
       "      <td>atis_flight</td>\n",
       "      <td>1</td>\n",
       "    </tr>\n",
       "    <tr>\n",
       "      <th>3</th>\n",
       "      <td>what is the meaning of meal code s</td>\n",
       "      <td>atis_abbreviation</td>\n",
       "      <td>2</td>\n",
       "    </tr>\n",
       "    <tr>\n",
       "      <th>4</th>\n",
       "      <td>show me all flights from denver to pittsburgh ...</td>\n",
       "      <td>atis_flight</td>\n",
       "      <td>1</td>\n",
       "    </tr>\n",
       "    <tr>\n",
       "      <th>5</th>\n",
       "      <td>show me all us air flights from atlanta to den...</td>\n",
       "      <td>atis_flight</td>\n",
       "      <td>1</td>\n",
       "    </tr>\n",
       "    <tr>\n",
       "      <th>6</th>\n",
       "      <td>list the nonstop flights early tuesday morning...</td>\n",
       "      <td>atis_flight</td>\n",
       "      <td>1</td>\n",
       "    </tr>\n",
       "    <tr>\n",
       "      <th>7</th>\n",
       "      <td>show me the flights from st. petersburg to tor...</td>\n",
       "      <td>atis_flight</td>\n",
       "      <td>1</td>\n",
       "    </tr>\n",
       "    <tr>\n",
       "      <th>8</th>\n",
       "      <td>i need a listing of flights from new york city...</td>\n",
       "      <td>atis_flight</td>\n",
       "      <td>1</td>\n",
       "    </tr>\n",
       "    <tr>\n",
       "      <th>9</th>\n",
       "      <td>show me the flights on american airlines which...</td>\n",
       "      <td>atis_flight</td>\n",
       "      <td>1</td>\n",
       "    </tr>\n",
       "  </tbody>\n",
       "</table>\n",
       "</div>"
      ],
      "text/plain": [
       "                                              tokens             intent  \\\n",
       "0  what is the cost of a round trip flight from p...       atis_airfare   \n",
       "1  now i need a flight leaving fort worth and arr...        atis_flight   \n",
       "2  i need to fly from kansas city to chicago leav...        atis_flight   \n",
       "3                 what is the meaning of meal code s  atis_abbreviation   \n",
       "4  show me all flights from denver to pittsburgh ...        atis_flight   \n",
       "5  show me all us air flights from atlanta to den...        atis_flight   \n",
       "6  list the nonstop flights early tuesday morning...        atis_flight   \n",
       "7  show me the flights from st. petersburg to tor...        atis_flight   \n",
       "8  i need a listing of flights from new york city...        atis_flight   \n",
       "9  show me the flights on american airlines which...        atis_flight   \n",
       "\n",
       "   Label_intent  \n",
       "0             0  \n",
       "1             1  \n",
       "2             1  \n",
       "3             2  \n",
       "4             1  \n",
       "5             1  \n",
       "6             1  \n",
       "7             1  \n",
       "8             1  \n",
       "9             1  "
      ]
     },
     "execution_count": 15,
     "metadata": {},
     "output_type": "execute_result"
    }
   ],
   "source": [
    "atis_1_train.head(10)"
   ]
  },
  {
   "cell_type": "markdown",
   "metadata": {},
   "source": [
    "### Codificação"
   ]
  },
  {
   "cell_type": "code",
   "execution_count": 16,
   "metadata": {},
   "outputs": [
    {
     "name": "stdout",
     "output_type": "stream",
     "text": [
      "(4274, 17)\n",
      "(572, 17)\n"
     ]
    }
   ],
   "source": [
    "atis_1_train_label_intent = atis_1_train['Label_intent']\n",
    "atis_1_train_label_intent = to_categorical(np.asarray(atis_1_train_label_intent))\n",
    "atis_1_val_label_intent = atis_1_val['Label_intent']\n",
    "atis_1_val_label_intent = to_categorical(np.asarray(atis_1_val_label_intent))\n",
    "print(atis_1_train_label_intent.shape)\n",
    "print(atis_1_val_label_intent.shape)"
   ]
  },
  {
   "cell_type": "code",
   "execution_count": 17,
   "metadata": {},
   "outputs": [
    {
     "name": "stdout",
     "output_type": "stream",
     "text": [
      "{'<OOV>': 1, 'to': 2, 'from': 3, 'flights': 4, 'the': 5, 'on': 6, 'flight': 7, 'me': 8, 'what': 9, 'show': 10, 'san': 11, 'boston': 12, 'a': 13, 'denver': 14, 'in': 15, 'francisco': 16, 'and': 17, 'i': 18, 'atlanta': 19, 'is': 20, 'dallas': 21, 'pittsburgh': 22, 'all': 23, 'list': 24, 'baltimore': 25, 'philadelphia': 26, 'like': 27, 'are': 28, 'airlines': 29, 'that': 30, 'washington': 31, 'of': 32, 'between': 33, 'please': 34, 'morning': 35, 'leaving': 36, 'pm': 37, 'would': 38, 'fly': 39, 'city': 40, 'for': 41, 'need': 42, 'fare': 43, 'wednesday': 44, 'first': 45, 'after': 46, 'there': 47, 'oakland': 48, 'trip': 49, 'ground': 50, 'arriving': 51, 'you': 52, 'cheapest': 53, 'which': 54, 'round': 55, 'transportation': 56, \"i'd\": 57, 'before': 58, 'does': 59, 'class': 60, 'with': 61, 'available': 62, 'st': 63, 'afternoon': 64, 'one': 65, 'milwaukee': 66, 'new': 67, 'have': 68, 'at': 69, 'way': 70, 'fares': 71, 'american': 72, 'dc': 73, 'give': 74, 'york': 75, 'leave': 76, 'thursday': 77, 'airport': 78, 'monday': 79, 'how': 80, 'tuesday': 81, 'want': 82, 'arrive': 83, 'nonstop': 84, 'information': 85, 'earliest': 86, 'chicago': 87, 'united': 88, 'vegas': 89, 'phoenix': 90, 'find': 91, 'las': 92, 'orlando': 93, 'miami': 94, 'go': 95, 'saturday': 96, 'can': 97, 'sunday': 98, 'twenty': 99, 'am': 100, 'toronto': 101, 'evening': 102, 'newark': 103, 'noon': 104, 'delta': 105, 'diego': 106, 'indianapolis': 107, 'seattle': 108, 'salt': 109, 'lake': 110, 'charlotte': 111, 'houston': 112, 'kansas': 113, 'any': 114, 'continental': 115, 'us': 116, 'air': 117, 'next': 118, 'august': 119, 'seventh': 120, 'friday': 121, 'memphis': 122, 'airline': 123, 'cleveland': 124, 'do': 125, 'fort': 126, 'worth': 127, 'los': 128, 'angeles': 129, 'july': 130, \"o'clock\": 131, \"what's\": 132, 'aircraft': 133, 'early': 134, 'stop': 135, 'downtown': 136, '5': 137, 'tell': 138, 'montreal': 139, '6': 140, 'june': 141, 'or': 142, 'louis': 143, 'cincinnati': 144, 'petersburg': 145, 'tampa': 146, 'minneapolis': 147, 'get': 148, 'tomorrow': 149, 'many': 150, 'detroit': 151, 'stopover': 152, 'an': 153, 'latest': 154, 'nashville': 155, 'going': 156, 'around': 157, 'departing': 158, 'cost': 159, '10': 160, 'about': 161, 'tacoma': 162, 'jose': 163, 'code': 164, 'by': 165, '8': 166, 'could': 167, 'may': 168, '7': 169, 'leaves': 170, 'type': 171, 'burbank': 172, 'service': 173, 'ticket': 174, 'much': 175, 'long': 176, 'mean': 177, 'expensive': 178, '12': 179, 'paul': 180, 'travel': 181, 'twa': 182, 'april': 183, 'california': 184, 'daily': 185, \"i'm\": 186, 'international': 187, 'depart': 188, 'coach': 189, 'columbus': 190, '4': 191, 'see': 192, 'beach': 193, 'dollars': 194, 'lowest': 195, 'northwest': 196, 'economy': 197, 'time': 198, 'book': 199, 'than': 200, 'okay': 201, 'night': 202, 'know': 203, 'least': 204, 'meal': 205, 'la': 206, 'used': 207, '9': 208, 'airports': 209, 'december': 210, 'return': 211, 'into': 212, 'last': 213, 'ontario': 214, 'november': 215, 'arrives': 216, 'flying': 217, 'westchester': 218, 'now': 219, 'day': 220, 'september': 221, 'less': 222, 'serve': 223, 'county': 224, 'eighth': 225, 'second': 226, 'as': 227, 'serves': 228, 'take': 229, 'it': 230, 'kind': 231, 'fifth': 232, 'schedule': 233, 'stopping': 234, 'capacity': 235, 'direct': 236, 'be': 237, 'love': 238, 'field': 239, 'dinner': 240, 'flies': 241, 'make': 242, 'seating': 243, 'looking': 244, 'car': 245, 'served': 246, 'stops': 247, 'general': 248, 'mitchell': 249, 'connecting': 250, 'breakfast': 251, 'sixth': 252, '2': 253, 'meals': 254, 'eastern': 255, 'ninth': 256, 'third': 257, 'possible': 258, 'out': 259, 'cities': 260, 'price': 261, 'airfare': 262, '3': 263, 'back': 264, 'has': 265, 'prices': 266, 'using': 267, 'will': 268, 'number': 269, 'goes': 270, 'tenth': 271, 'times': 272, 'plane': 273, 'business': 274, '1000': 275, 'this': 276, 'ua': 277, 'late': 278, 'display': 279, 'types': 280, 'most': 281, 'through': 282, 'limousine': 283, 'other': 284, 'your': 285, 'twentieth': 286, 'today': 287, 'two': 288, 'stand': 289, 'only': 290, 'week': 291, 'guardia': 292, '1991': 293, 'fifteenth': 294, 'thirtieth': 295, 'fourth': 296, 'wednesdays': 297, 'rental': 298, 'bwi': 299, 'via': 300, 'also': 301, 'then': 302, 'interested': 303, 'dl': 304, 'restriction': 305, 'twelfth': 306, 'same': 307, 'canadian': 308, 'midwest': 309, 'express': 310, 'listing': 311, 'ap': 312, 'numbers': 313, 'distance': 314, 'seventeenth': 315, 'either': 316, 'use': 317, 'classes': 318, 'should': 319, 'jersey': 320, 'sixteenth': 321, 'florida': 322, 'jfk': 323, 'smallest': 324, 'again': 325, 'far': 326, 'f': 327, 'tickets': 328, 'weekday': 329, 'layover': 330, 'north': 331, 'carolina': 332, '1': 333, 'my': 334, 'but': 335, 'people': 336, 'explain': 337, 'where': 338, 'october': 339, 'thirty': 340, 'their': 341, 'makes': 342, 'yes': 343, 'colorado': 344, 'shortest': 345, 'hi': 346, 'traveling': 347, 'arrangements': 348, 'stopovers': 349, 'returning': 350, 'rent': 351, 'eleventh': 352, 'hours': 353, 'when': 354, 'departure': 355, 'area': 356, 'midnight': 357, 'nineteenth': 358, 'm80': 359, 'offer': 360, 'transport': 361, 'y': 362, 'q': 363, 'qx': 364, 'abbreviation': 365, 'no': 366, 'arizona': 367, 'ohio': 368, 'tower': 369, '57': 370, 'mco': 371, 'dfw': 372, 'both': 373, 'january': 374, 'right': 375, 'under': 376, 'each': 377, 'if': 378, 'mornings': 379, 'thank': 380, 'lunch': 381, 'some': 382, 'over': 383, '11': 384, 'live': 385, 'alaska': 386, 'canada': 387, 'february': 388, \"i'll\": 389, 'codes': 390, 'during': 391, 'days': 392, 'logan': 393, 'minnesota': 394, 'taxi': 395, 'anywhere': 396, 'fourteenth': 397, '466': 398, 'airplane': 399, 'planes': 400, 'thrift': 401, 'lufthansa': 402, 'utah': 403, 'indiana': 404, 'serving': 405, '838': 406, 'these': 407, 'hp': 408, 'trips': 409, 'texas': 410, '1115': 411, '1245': 412, 'near': 413, 'sfo': 414, 'march': 415, 'those': 416, 'costs': 417, 'provided': 418, \"york's\": 419, 'passengers': 420, 'name': 421, 'sixteen': 422, 'more': 423, 'total': 424, 'boeing': 425, '72s': 426, 'uses': 427, '73s': 428, '757': 429, 'making': 430, 'eighteenth': 431, 'yn': 432, 'different': 433, 'pennsylvania': 434, 'quebec': 435, 'michigan': 436, \"let's\": 437, 'takeoffs': 438, 'landings': 439, 'coming': 440, 'qw': 441, 'h': 442, '747': 443, 'three': 444, 'dc10': 445, 'sometime': 446, 'saturdays': 447, '825': 448, 'ea': 449, 'close': 450, '230': 451, \"what're\": 452, '630': 453, 'starting': 454, '2100': 455, 'help': 456, 'cheap': 457, 'requesting': 458, 'following': 459, 'meaning': 460, 'restrictions': 461, 'connect': 462, 'options': 463, 'so': 464, 'maximum': 465, 'amount': 466, 'weekdays': 467, 'ten': 468, 'tennessee': 469, '530': 470, 'rates': 471, 'nationair': 472, '1992': 473, 'arrival': 474, 'f28': 475, 'ewr': 476, 'miles': 477, 'describe': 478, 'departures': 479, 'arrivals': 480, 'turboprop': 481, 'fit': 482, 'seats': 483, 'departs': 484, 'provide': 485, 'well': 486, 'services': 487, 'georgia': 488, 'fn': 489, 'trying': 490, 'include': 491, '270': 492, '296': 493, 'destination': 494, '281': 495, '555': 496, '1291': 497, 'co': 498, 'thursdays': 499, 'reservation': 500, \"we're\": 501, 'southwest': 502, 'ff': 503, '718': 504, 'originating': 505, 'choices': 506, 'six': 507, '1700': 508, 'wish': 509, '430': 510, 'noontime': 511, 'arrange': 512, 'plan': 513, 'hello': 514, 'later': 515, 's': 516, 'nevada': 517, 'cars': 518, '210': 519, '852': 520, 'still': 521, 'lastest': 522, '80': 523, '813': 524, 'without': 525, 'rentals': 526, 'ap80': 527, 'america': 528, 'west': 529, '300': 530, '1993': 531, '1994': 532, 'schedules': 533, '269': 534, '1039': 535, '1100': 536, 'repeat': 537, 'ord': 538, 'dca': 539, 'serviced': 540, 'names': 541, 'eight': 542, 'land': 543, 'various': 544, 'dulles': 545, '767': 546, '932': 547, '200': 548, 'along': 549, 'hold': 550, '733': 551, 'airplanes': 552, 'capacities': 553, 'd9s': 554, '505': 555, 'connections': 556, 'four': 557, 'who': 558, 'sure': 559, 'determine': 560, 'booking': 561, 'j31': 562, 'connection': 563, \"delta's\": 564, \"american's\": 565, 'aa': 566, 'too': 567, 'missouri': 568, 'great': 569, 'soon': 570, 'up': 571, 'm': 572, 'difference': 573, 'qo': 574, 'offers': 575, 'very': 576, '727': 577, '343': 578, '1110': 579, '1222': 580, '201': 581, '21': 582, '1500': 583, '217': 584, '3724': 585, 'takeoff': 586, 'nonstops': 587, '1200': 588, 'lives': 589, 'define': 590, 'stands': 591, 'ac': 592, '1145': 593, 'rate': 594, 'reservations': 595, 'look': 596, 'transcontinental': 597, 'month': 598, '720': 599, '934': 600, 'heading': 601, 'highest': 602, 'tuesdays': 603, \"sunday's\": 604, \"atlanta's\": 605, 'beginning': 606, '416': 607, 'ap68': 608, 'closest': 609, 'actually': 610, 'ls': 611, 'designate': 612, 'trans': 613, 'world': 614, '1030': 615, '1130': 616, '730': 617, 'sort': 618, 'fine': 619, 'belong': 620, 'snacks': 621, 'ever': 622, '382': 623, 'route': 624, 'longest': 625, 'red': 626, 'eye': 627, '20': 628, '497766': 629, '705': 630, 'straight': 631, 'another': 632, 'off': 633, 'oak': 634, 'atl': 635, '1220': 636, 'operation': 637, 'ap57': 638, 'lester': 639, 'pearson': 640, 'earlier': 641, '1017': 642, 'located': 643, 'zone': 644, '1850': 645, 'not': 646, 'exceeding': 647, '1505': 648, 'carries': 649, '428': 650, '755': 651, 'nights': 652, 'iah': 653, 'cvg': 654, 'bna': 655, 'mci': 656, 'hou': 657, 'lga': 658, 'lax': 659, 'yyz': 660, 'bur': 661, 'regarding': 662, 'largest': 663, 'greatest': 664, 'instead': 665, 'besides': 666, '1059': 667, 'advertises': 668, 'having': 669, '329': 670, '124': 671, 'equal': 672, '150': 673, '400': 674, 'l1011': 675, '734': 676, 'l10': 677, 'carried': 678, '100': 679, 'level': 680, \"that's\": 681, '163': 682, 'tonight': 683, 'hopefully': 684, 'itinerary': 685, '1940': 686, 'connects': 687, 'including': 688, 'preferably': 689, 'local': 690, 'combination': 691, 'run': 692, '1765': 693, 'come': 694, '320': 695, 'k': 696, 'dh8': 697, 'minimum': 698, 'intercontinental': 699, '459': 700, 'limousines': 701, 'train': 702, 'stapleton': 703, 'limo': 704, '82': 705, '139': 706, 'sounds': 707, 'grounds': 708, 'calling': 709, 'thereafter': 710, 'anything': 711, 'bring': 712, 'b': 713, 'qualify': 714, 'basis': 715, 'bh': 716, 'included': 717, 'whether': 718, 'offered': 719, 'being': 720, 'be1': 721, '737': 722, 'working': 723, 'scenario': 724, 'called': 725, 'd10': 726, 'includes': 727, 'travels': 728, 'snack': 729, 'supper': 730, 'reaches': 731, 'reaching': 732, 'vicinity': 733, 'good': 734, '1800': 735, 'overnight': 736, 'final': 737, 'summer': 738, '297': 739, 'listed': 740, '1055': 741, '405': 742, '315': 743, '486': 744, '1207': 745, '639': 746, '71': 747, '106': 748, '539': 749, '271': 750, '4400': 751, '3357': 752, '345': 753, '771': 754, '1209': 755, '212': 756, '257': 757, '608': 758, '746': 759, 'taking': 760, '311': 761, '417': 762, 'try': 763, 'inform': 764, 'kinds': 765, \"it's\": 766, '419': 767, 'let': 768, 'they': 769, 'kindly': 770, 'proper': 771, 'town': 772, 'kennedy': 773, '1230': 774, 'within': 775, 'friends': 776, 'visit': 777, 'here': 778, 'them': 779, '0900': 780, '1600': 781, \"one's\": 782, 'nighttime': 783, 'usa': 784, 'able': 785, 'put': 786, 'nw': 787, 'symbols': 788, 'kw': 789, 'sam': 790, 'wn': 791, 'sorry': 792, 'must': 793, '225': 794, '1158': 795, 'equipment': 796, '1205': 797, 'abbreviations': 798, 'jet': 799, 'companies': 800, 'continuing': 801, 'represented': 802, 'database': 803, 'single': 804, 'directly': 805, 'afterwards': 806, 'scheduled': 807, 'seat': 808, 'india': 809, 'buy': 810, 'say': 811, 'mealtime': 812, 'economic': 813, 'discount': 814, 'staying': 815, 'while': 816, 'across': 817, 'continent': 818, 'begins': 819, 'lands': 820, 'landing': 821, '110': 822, 'such': 823, '1045': 824, 'toward': 825, 'approximately': 826, '324': 827, '1300': 828, '723': 829, '1020': 830, '645': 831, 'inexpensive': 832, 'thing': 833, 'thanks': 834, 'question': 835, 'spend': 836, 'seventeen': 837, 'priced': 838, 'charges': 839, 'dinnertime': 840, '305': 841, '845': 842, '1026': 843, '823': 844, '2134': 845, '1024': 846, '130': 847, \"i've\": 848, 'got': 849, 'somebody': 850, 'else': 851, 'wants': 852, '420': 853, 'seven': 854, 'catch': 855, 'fifteen': 856, 'thirteenth': 857, 'midway': 858, 'oh': 859, \"don't\": 860, 'prefer': 861, 'comes': 862, 'mondays': 863, 'bound': 864, 'fridays': 865, \"friday's\": 866, 'sundays': 867, 'bay': 868, 'planning': 869, 'home': 870, 'reverse': 871, 'order': 872, 'philly': 873}\n"
     ]
    }
   ],
   "source": [
    "# Usar apenas as sentencas de treinameto\n",
    "# OOV para out of vocab\n",
    "tokenizer = Tokenizer(oov_token='<OOV>')\n",
    "tokenizer.fit_on_texts(atis_1_train['tokens'])\n",
    "\n",
    "word_index = tokenizer.word_index\n",
    "print(word_index)"
   ]
  },
  {
   "cell_type": "code",
   "execution_count": 18,
   "metadata": {},
   "outputs": [
    {
     "name": "stdout",
     "output_type": "stream",
     "text": [
      "Tamanho do vocab:  874  Tamanho da Sentenca:  259\n"
     ]
    }
   ],
   "source": [
    "def valor_maior_sentenca():\n",
    "    maior_sentenca_train = atis_1_train['tokens'].str.len().max()\n",
    "    maior_sentenca_val = atis_1_val['tokens'].str.len().max()\n",
    "    maior_sentenca_test = atis_1_test['tokens'].str.len().max()\n",
    "    maior_sentenca = max([maior_sentenca_train,maior_sentenca_test,maior_sentenca_val])\n",
    "    return maior_sentenca\n",
    "\n",
    "# tamanho do meu vocabulario voca_size adn 1 to unknow\n",
    "vocab_size = len(word_index) + 1\n",
    "\n",
    "# tamanho da maior sentenca dos dados originais\n",
    "maior_sentenca = valor_maior_sentenca()\n",
    "\n",
    "print(\"Tamanho do vocab: \",vocab_size,\" Tamanho da Sentenca: \",maior_sentenca)"
   ]
  },
  {
   "cell_type": "code",
   "execution_count": 19,
   "metadata": {},
   "outputs": [
    {
     "name": "stdout",
     "output_type": "stream",
     "text": [
      "Conjunto de treinamento:  \n",
      " [[  0   0   0 ...   6 168 252]\n",
      " [  0   0   0 ...  37 118  79]\n",
      " [  0   0   0 ...   5 459 220]\n",
      " ...\n",
      " [  0   0   0 ...  12  17  48]\n",
      " [  0   0   0 ...  32 607 194]\n",
      " [  0   0   0 ... 132 305 608]]\n",
      "Conjunto de validação:  \n",
      " [[  0   0   0 ... 350 168 252]\n",
      " [  0   0   0 ... 200 263  37]\n",
      " [  0   0   0 ...   5 220  46]\n",
      " ...\n",
      " [  0   0   0 ...  58 191  37]\n",
      " [  0   0   0 ...  15  31  73]\n",
      " [  0   0   0 ...  25   2  21]]\n",
      "Conjunto de teste:  \n",
      " [[  0   0   0 ... 350 119   1]\n",
      " [  0   0   0 ... 200 263  37]\n",
      " [  0   0   0 ...   5 459 220]\n",
      " ...\n",
      " [  0   0   0 ...   2  90 367]\n",
      " [  0   0   0 ...  15  31  73]\n",
      " [  0   0   0 ...  53 174 258]]\n"
     ]
    }
   ],
   "source": [
    "# Transformar as sentencas dos dados de treinamento e teste para sequencias numericas. ex [[1,2,6],[65,952,15,65],[1,2]]\n",
    "train_data_sentences = tokenizer.texts_to_sequences(atis_1_train['tokens'])\n",
    "val_data_sentences = tokenizer.texts_to_sequences(atis_1_val['tokens'])\n",
    "test_data_sentences = tokenizer.texts_to_sequences(atis_1_test['tokens'])\n",
    "\n",
    "# normalizar o tamnho das sequencias usando padding. ex [[0,1,2,6],[65,952,15,65],[0,0,1,2]]\n",
    "train_padded = pad_sequences(train_data_sentences, maxlen=maior_sentenca)\n",
    "val_padded = pad_sequences(val_data_sentences, maxlen=maior_sentenca)\n",
    "test_padded = pad_sequences(test_data_sentences, maxlen=maior_sentenca)\n",
    "\n",
    "print(\"Conjunto de treinamento: \",\"\\n\",train_padded[0:19])\n",
    "print(\"Conjunto de validação: \",\"\\n\",val_padded[0:19])\n",
    "print(\"Conjunto de teste: \",\"\\n\",test_padded[0:19])"
   ]
  },
  {
   "cell_type": "markdown",
   "metadata": {},
   "source": [
    "### Spacy para Classificar Intents\n",
    "* Erro na hora de passar os vetores para o modelo DEep learning"
   ]
  },
  {
   "cell_type": "code",
   "execution_count": 20,
   "metadata": {},
   "outputs": [],
   "source": [
    "## Load the spacy model: nlp\n",
    "# nlp = spacy.load('en_core_web_md')\n",
    "#\n",
    "##tamnho do vocab\n",
    "#print(len(nlp.vocab.strings))\n",
    "#\n",
    "## dimension vector\n",
    "#print(nlp.vocab.vectors_length)"
   ]
  },
  {
   "cell_type": "code",
   "execution_count": 21,
   "metadata": {},
   "outputs": [],
   "source": [
    "#def valor_maior_sentenca():\n",
    "#    maior_sentenca_train = atis_1_train['tokens'].str.len().max()\n",
    "#    maior_sentenca_val = atis_1_val['tokens'].str.len().max()\n",
    "#    maior_sentenca_test = atis_1_test['tokens'].str.len().max()\n",
    "#    maior_sentenca = max([maior_sentenca_train,maior_sentenca_test,maior_sentenca_val])\n",
    "#    return maior_sentenca"
   ]
  },
  {
   "cell_type": "code",
   "execution_count": 22,
   "metadata": {},
   "outputs": [],
   "source": [
    "#count = 0\n",
    "#for key, vector in nlp.vocab.vectors.items():\n",
    "#    if nlp.vocab.strings[key] != None:\n",
    "#        count += 1\n",
    "#    #print(key, nlp.vocab.strings[key], vector[:3])"
   ]
  },
  {
   "cell_type": "code",
   "execution_count": 23,
   "metadata": {},
   "outputs": [],
   "source": [
    "## valores para o modelo deep learning\n",
    "#\n",
    "##vocab_size = len(nlp.vocab.strings)\n",
    "#vocab_size = count + 1\n",
    "#\n",
    "## tamanho da maior sentença - input_length\n",
    "#maior_sentenca = valor_maior_sentenca()\n",
    "#\n",
    "## embedding\n",
    "#embedding_dim = nlp.vocab.vectors_length\n",
    "#print(vocab_size)\n",
    "#print(embedding_dim)\n",
    "#"
   ]
  },
  {
   "cell_type": "code",
   "execution_count": 24,
   "metadata": {},
   "outputs": [],
   "source": [
    "# guardar valor de encoding dos intents\n",
    "#def vetorizar_sentencas(sentencas,intents):\n",
    "#    # Calculate the length of sentences\n",
    "#    n_sentences = len(sentencas)\n",
    "#\n",
    "#    # Calculate the dimensionality of nlp\n",
    "#    embedding_dim = nlp.vocab.vectors_length\n",
    "#\n",
    "#    # Initialize the array with zeros: X\n",
    "#    sentencas_vetorizadas = np.zeros((n_sentences, embedding_dim))\n",
    "#\n",
    "#    # Iterate over the sentences\n",
    "#    for idx, sentence in enumerate(sentencas):\n",
    "#        # Pass each sentence to the nlp object to create a document\n",
    "#        doc = nlp(sentence)\n",
    "#        # Save the document's .vector attribute to the corresponding row in X\n",
    "#        sentencas_vetorizadas[idx, :] = doc.vector\n",
    "#\n",
    "#    # encoding intents\n",
    "#    count = 0\n",
    "#    # Iterate over the intents\n",
    "#    for intent_label in intents:\n",
    "#        if(intent_label not in dict_Labels):\n",
    "#            dict_Labels[intent_label] = count\n",
    "#            count += 1\n",
    "#\n",
    "#\n",
    "#    intents_encode = np.array([dict_Labels[x] for x in intents])\n",
    "#    \n",
    "#    return [sentencas_vetorizadas,intents_encode]\n",
    "#\n",
    "#train_vectors = vetorizar_sentencas(atis_1_train[\"tokens\"],atis_1_train['intent'])\n",
    "#val_vectors = vetorizar_sentencas(atis_1_val[\"tokens\"],atis_1_val['intent'])\n",
    "#test_vectors = vetorizar_sentencas(atis_1_test[\"tokens\"],atis_1_test['intent'])\n",
    "#\n",
    "##tf.keras.utils.to_categorical\n",
    "#train_sentencas_vetorizadas = train_vectors[0]\n",
    "#train_intent_label = to_categorical(train_vectors[1])\n",
    "#\n",
    "#val_sentencas_vetorizadas = val_vectors[0]\n",
    "#val_intent_label = to_categorical(val_vectors[1])\n",
    "#\n",
    "#test_sentencas_vetorizadas = test_vectors[0]\n",
    "#test_intent_label = to_categorical(test_vectors[1])\n",
    "#\n",
    "#print(\"Shape: \",train_sentencas_vetorizadas.shape,\" type: \",train_sentencas_vetorizadas.dtype)\n",
    "#print(\"Shape: \",train_intent_label.shape,\" type: \",train_intent_label.dtype)\n",
    "#print(\"Shape: \",val_sentencas_vetorizadas.shape,\" type: \",val_sentencas_vetorizadas.dtype)\n",
    "#print(\"Shape: \",val_intent_label.shape,\" type: \",val_intent_label.dtype)\n",
    "#print(\"Shape: \",test_sentencas_vetorizadas.shape,\" type: \",test_sentencas_vetorizadas.dtype)\n",
    "#print(\"Shape: \",test_intent_label.shape,\" type: \",test_intent_label.dtype)"
   ]
  },
  {
   "cell_type": "markdown",
   "metadata": {},
   "source": [
    "#### Model"
   ]
  },
  {
   "cell_type": "code",
   "execution_count": 25,
   "metadata": {},
   "outputs": [],
   "source": [
    "embedding_dim = maior_sentenca"
   ]
  },
  {
   "cell_type": "code",
   "execution_count": 26,
   "metadata": {},
   "outputs": [],
   "source": [
    "model1 = Sequential()\n",
    "model1.add(Embedding(vocab_size,embedding_dim, input_length=maior_sentenca))\n",
    "model1.add(GlobalAveragePooling1D())\n",
    "model1.add(Dense(150, activation='sigmoid'))\n",
    "model1.add(Dropout(0.30))\n",
    "model1.add(Dense(50, activation='relu'))\n",
    "#model1.add(Dense(25, activation='relu'))\n",
    "model1.add(Dense(17, activation='softmax'))\n",
    "\n",
    "\n",
    "#model.compile(loss='categorical_crossentropy', optimizer=sgd)\n",
    "model1.compile(loss='categorical_crossentropy',optimizer='adam',metrics=['accuracy'])"
   ]
  },
  {
   "cell_type": "code",
   "execution_count": 27,
   "metadata": {},
   "outputs": [
    {
     "name": "stdout",
     "output_type": "stream",
     "text": [
      "Model: \"sequential\"\n",
      "_________________________________________________________________\n",
      "Layer (type)                 Output Shape              Param #   \n",
      "=================================================================\n",
      "embedding (Embedding)        (None, 259, 259)          226366    \n",
      "_________________________________________________________________\n",
      "global_average_pooling1d (Gl (None, 259)               0         \n",
      "_________________________________________________________________\n",
      "dense (Dense)                (None, 150)               39000     \n",
      "_________________________________________________________________\n",
      "dropout (Dropout)            (None, 150)               0         \n",
      "_________________________________________________________________\n",
      "dense_1 (Dense)              (None, 50)                7550      \n",
      "_________________________________________________________________\n",
      "dense_2 (Dense)              (None, 17)                867       \n",
      "=================================================================\n",
      "Total params: 273,783\n",
      "Trainable params: 273,783\n",
      "Non-trainable params: 0\n",
      "_________________________________________________________________\n"
     ]
    }
   ],
   "source": [
    "model1.summary()"
   ]
  },
  {
   "cell_type": "code",
   "execution_count": 28,
   "metadata": {},
   "outputs": [
    {
     "name": "stdout",
     "output_type": "stream",
     "text": [
      "Epoch 1/50\n",
      "134/134 [==============================] - 13s 97ms/step - loss: 1.2349 - accuracy: 0.7344 - val_loss: 1.1477 - val_accuracy: 0.7395\n",
      "Epoch 2/50\n",
      "134/134 [==============================] - 10s 78ms/step - loss: 1.1440 - accuracy: 0.7424 - val_loss: 1.1391 - val_accuracy: 0.7395\n",
      "Epoch 3/50\n",
      "134/134 [==============================] - 11s 82ms/step - loss: 1.1325 - accuracy: 0.7424 - val_loss: 1.1138 - val_accuracy: 0.7395\n",
      "Epoch 4/50\n",
      "134/134 [==============================] - 10s 76ms/step - loss: 1.0672 - accuracy: 0.7424 - val_loss: 1.0154 - val_accuracy: 0.7395\n",
      "Epoch 5/50\n",
      "134/134 [==============================] - 11s 81ms/step - loss: 0.9394 - accuracy: 0.7515 - val_loss: 0.8759 - val_accuracy: 0.7640\n",
      "Epoch 6/50\n",
      "134/134 [==============================] - 11s 82ms/step - loss: 0.8410 - accuracy: 0.7705 - val_loss: 0.8186 - val_accuracy: 0.7780\n",
      "Epoch 7/50\n",
      "134/134 [==============================] - 12s 86ms/step - loss: 0.7786 - accuracy: 0.7838 - val_loss: 0.7703 - val_accuracy: 0.7850\n",
      "Epoch 8/50\n",
      "134/134 [==============================] - 11s 79ms/step - loss: 0.7324 - accuracy: 0.7962 - val_loss: 0.7466 - val_accuracy: 0.7885\n",
      "Epoch 9/50\n",
      "134/134 [==============================] - 10s 78ms/step - loss: 0.7006 - accuracy: 0.8018 - val_loss: 0.7211 - val_accuracy: 0.8042\n",
      "Epoch 10/50\n",
      "134/134 [==============================] - 13s 98ms/step - loss: 0.6750 - accuracy: 0.8154 - val_loss: 0.7271 - val_accuracy: 0.8077\n",
      "Epoch 11/50\n",
      "134/134 [==============================] - 13s 94ms/step - loss: 0.6479 - accuracy: 0.8208 - val_loss: 0.7079 - val_accuracy: 0.8059\n",
      "Epoch 12/50\n",
      "134/134 [==============================] - 12s 88ms/step - loss: 0.6426 - accuracy: 0.8208 - val_loss: 0.6710 - val_accuracy: 0.8234\n",
      "Epoch 13/50\n",
      "134/134 [==============================] - 12s 89ms/step - loss: 0.6155 - accuracy: 0.8273 - val_loss: 0.6842 - val_accuracy: 0.8129\n",
      "Epoch 14/50\n",
      "134/134 [==============================] - 12s 87ms/step - loss: 0.5980 - accuracy: 0.8299 - val_loss: 0.6823 - val_accuracy: 0.8217\n",
      "Epoch 15/50\n",
      "134/134 [==============================] - 12s 89ms/step - loss: 0.5831 - accuracy: 0.8336 - val_loss: 0.6464 - val_accuracy: 0.8304\n",
      "Epoch 16/50\n",
      "134/134 [==============================] - 11s 85ms/step - loss: 0.5704 - accuracy: 0.8397 - val_loss: 0.6400 - val_accuracy: 0.8269\n",
      "Epoch 17/50\n",
      "134/134 [==============================] - 11s 82ms/step - loss: 0.5614 - accuracy: 0.8437 - val_loss: 0.6919 - val_accuracy: 0.8287\n",
      "Epoch 18/50\n",
      "134/134 [==============================] - 12s 86ms/step - loss: 0.5526 - accuracy: 0.8463 - val_loss: 0.6286 - val_accuracy: 0.8357\n",
      "Epoch 19/50\n",
      "134/134 [==============================] - 11s 85ms/step - loss: 0.5370 - accuracy: 0.8484 - val_loss: 0.6364 - val_accuracy: 0.8392\n",
      "Epoch 20/50\n",
      "134/134 [==============================] - 11s 85ms/step - loss: 0.5207 - accuracy: 0.8538 - val_loss: 0.6291 - val_accuracy: 0.8392\n",
      "Epoch 21/50\n",
      "134/134 [==============================] - 12s 86ms/step - loss: 0.5090 - accuracy: 0.8563 - val_loss: 0.6130 - val_accuracy: 0.8374\n",
      "Epoch 22/50\n",
      "134/134 [==============================] - 12s 89ms/step - loss: 0.4965 - accuracy: 0.8615 - val_loss: 0.6179 - val_accuracy: 0.8392\n",
      "Epoch 23/50\n",
      "134/134 [==============================] - 12s 91ms/step - loss: 0.4833 - accuracy: 0.8641 - val_loss: 0.6044 - val_accuracy: 0.8444\n",
      "Epoch 24/50\n",
      "134/134 [==============================] - 12s 90ms/step - loss: 0.4663 - accuracy: 0.8671 - val_loss: 0.5851 - val_accuracy: 0.8479\n",
      "Epoch 25/50\n",
      "134/134 [==============================] - 12s 93ms/step - loss: 0.4611 - accuracy: 0.8746 - val_loss: 0.6020 - val_accuracy: 0.8549\n",
      "Epoch 26/50\n",
      "134/134 [==============================] - 12s 89ms/step - loss: 0.4431 - accuracy: 0.8762 - val_loss: 0.5570 - val_accuracy: 0.8636\n",
      "Epoch 27/50\n",
      "134/134 [==============================] - 11s 83ms/step - loss: 0.4225 - accuracy: 0.8800 - val_loss: 0.5498 - val_accuracy: 0.8724\n",
      "Epoch 28/50\n",
      "134/134 [==============================] - 17s 127ms/step - loss: 0.4128 - accuracy: 0.8854 - val_loss: 0.5339 - val_accuracy: 0.8706\n",
      "Epoch 29/50\n",
      "134/134 [==============================] - 16s 122ms/step - loss: 0.4067 - accuracy: 0.8847 - val_loss: 0.5481 - val_accuracy: 0.8636\n",
      "Epoch 30/50\n",
      "134/134 [==============================] - 12s 91ms/step - loss: 0.3843 - accuracy: 0.8877 - val_loss: 0.5171 - val_accuracy: 0.8689\n",
      "Epoch 31/50\n",
      "134/134 [==============================] - 15s 113ms/step - loss: 0.3748 - accuracy: 0.8931 - val_loss: 0.5305 - val_accuracy: 0.8741\n",
      "Epoch 32/50\n",
      "134/134 [==============================] - 18s 131ms/step - loss: 0.3604 - accuracy: 0.8952 - val_loss: 0.5083 - val_accuracy: 0.8741\n",
      "Epoch 33/50\n",
      "134/134 [==============================] - 12s 91ms/step - loss: 0.3475 - accuracy: 0.9003 - val_loss: 0.5058 - val_accuracy: 0.8794\n",
      "Epoch 34/50\n",
      "134/134 [==============================] - 13s 101ms/step - loss: 0.3462 - accuracy: 0.8973 - val_loss: 0.5119 - val_accuracy: 0.8794\n",
      "Epoch 35/50\n",
      "134/134 [==============================] - 11s 84ms/step - loss: 0.3381 - accuracy: 0.9024 - val_loss: 0.5771 - val_accuracy: 0.8724\n",
      "Epoch 36/50\n",
      "134/134 [==============================] - 15s 109ms/step - loss: 0.3269 - accuracy: 0.9050 - val_loss: 0.5711 - val_accuracy: 0.8759\n",
      "Epoch 37/50\n",
      "134/134 [==============================] - 16s 120ms/step - loss: 0.3263 - accuracy: 0.9001 - val_loss: 0.4821 - val_accuracy: 0.8864\n",
      "Epoch 38/50\n",
      "134/134 [==============================] - 12s 91ms/step - loss: 0.3107 - accuracy: 0.9073 - val_loss: 0.5181 - val_accuracy: 0.8829\n",
      "Epoch 39/50\n",
      "134/134 [==============================] - 14s 107ms/step - loss: 0.3106 - accuracy: 0.9066 - val_loss: 0.4814 - val_accuracy: 0.8916\n",
      "Epoch 40/50\n",
      "134/134 [==============================] - 12s 88ms/step - loss: 0.2987 - accuracy: 0.9109 - val_loss: 0.5285 - val_accuracy: 0.8864\n",
      "Epoch 41/50\n",
      "134/134 [==============================] - 12s 88ms/step - loss: 0.2857 - accuracy: 0.9120 - val_loss: 0.4809 - val_accuracy: 0.8951\n",
      "Epoch 42/50\n",
      "134/134 [==============================] - 12s 88ms/step - loss: 0.2928 - accuracy: 0.9102 - val_loss: 0.4776 - val_accuracy: 0.8951\n",
      "Epoch 43/50\n",
      "134/134 [==============================] - 12s 89ms/step - loss: 0.2856 - accuracy: 0.9123 - val_loss: 0.5257 - val_accuracy: 0.8969\n",
      "Epoch 44/50\n",
      "134/134 [==============================] - 12s 88ms/step - loss: 0.2823 - accuracy: 0.9132 - val_loss: 0.4730 - val_accuracy: 0.8986\n",
      "Epoch 45/50\n",
      "134/134 [==============================] - 19s 143ms/step - loss: 0.2762 - accuracy: 0.9137 - val_loss: 0.4713 - val_accuracy: 0.9003\n",
      "Epoch 46/50\n",
      "134/134 [==============================] - 13s 94ms/step - loss: 0.2743 - accuracy: 0.9181 - val_loss: 0.5404 - val_accuracy: 0.8969\n",
      "Epoch 47/50\n",
      "134/134 [==============================] - 13s 94ms/step - loss: 0.2619 - accuracy: 0.9176 - val_loss: 0.4653 - val_accuracy: 0.8969\n",
      "Epoch 48/50\n",
      "134/134 [==============================] - 17s 126ms/step - loss: 0.2578 - accuracy: 0.9202 - val_loss: 0.4927 - val_accuracy: 0.9003\n",
      "Epoch 49/50\n",
      "134/134 [==============================] - 12s 86ms/step - loss: 0.2564 - accuracy: 0.9202 - val_loss: 0.4888 - val_accuracy: 0.8986\n",
      "Epoch 50/50\n",
      "134/134 [==============================] - 11s 80ms/step - loss: 0.2513 - accuracy: 0.9228 - val_loss: 0.4755 - val_accuracy: 0.8969\n"
     ]
    }
   ],
   "source": [
    "num_epochs = 50\n",
    "history1 = model1.fit(train_padded, atis_1_train_label_intent,\n",
    "                      validation_data=(val_padded, atis_1_val_label_intent),\n",
    "                      epochs=num_epochs,\n",
    "                      verbose=1)"
   ]
  },
  {
   "cell_type": "markdown",
   "metadata": {},
   "source": [
    "#### Evaluate"
   ]
  },
  {
   "cell_type": "code",
   "execution_count": 29,
   "metadata": {},
   "outputs": [
    {
     "name": "stdout",
     "output_type": "stream",
     "text": [
      "134/134 [==============================] - 6s 44ms/step - loss: 0.2138 - accuracy: 0.9293\n"
     ]
    },
    {
     "data": {
      "text/plain": [
       "[0.2138354629278183, 0.9293401837348938]"
      ]
     },
     "execution_count": 29,
     "metadata": {},
     "output_type": "execute_result"
    }
   ],
   "source": [
    "model1.evaluate(train_padded,atis_1_train_label_intent)"
   ]
  },
  {
   "cell_type": "code",
   "execution_count": 30,
   "metadata": {},
   "outputs": [
    {
     "name": "stdout",
     "output_type": "stream",
     "text": [
      "18/18 [==============================] - 1s 38ms/step - loss: 0.4755 - accuracy: 0.8969\n"
     ]
    },
    {
     "data": {
      "text/plain": [
       "[0.4755301773548126, 0.8968531489372253]"
      ]
     },
     "execution_count": 30,
     "metadata": {},
     "output_type": "execute_result"
    }
   ],
   "source": [
    "model1.evaluate(val_padded,atis_1_val_label_intent)"
   ]
  },
  {
   "cell_type": "code",
   "execution_count": 31,
   "metadata": {},
   "outputs": [
    {
     "name": "stdout",
     "output_type": "stream",
     "text": [
      "19/19 [==============================] - 1s 42ms/step - loss: 0.3653 - accuracy: 0.8976\n"
     ]
    },
    {
     "data": {
      "text/plain": [
       "[0.3652675151824951, 0.8976109027862549]"
      ]
     },
     "execution_count": 31,
     "metadata": {},
     "output_type": "execute_result"
    }
   ],
   "source": [
    "atis_1_test_label_intent = atis_1_test['Label_intent']\n",
    "atis_1_test_label_intent = to_categorical(np.asarray(atis_1_test_label_intent))\n",
    "\n",
    "model1.evaluate(test_padded,atis_1_test_label_intent)"
   ]
  },
  {
   "cell_type": "markdown",
   "metadata": {},
   "source": [
    "#### Saving\n",
    "* tokenizer\n",
    "* model"
   ]
  },
  {
   "cell_type": "code",
   "execution_count": 32,
   "metadata": {},
   "outputs": [],
   "source": [
    "import pickle\n",
    "# saving\n",
    "with open('recursos/tokenizer.pickle', 'wb') as handle:\n",
    "    pickle.dump(tokenizer, handle, protocol=pickle.HIGHEST_PROTOCOL)"
   ]
  },
  {
   "cell_type": "code",
   "execution_count": 33,
   "metadata": {},
   "outputs": [],
   "source": [
    "#from keras.models import load_model\n",
    "#\n",
    "#model1.save('../recursos/my_model.h5') "
   ]
  },
  {
   "cell_type": "code",
   "execution_count": 34,
   "metadata": {},
   "outputs": [],
   "source": [
    "#filepath = 'recursos/my_model.h5'\n",
    "#\n",
    "#model1.save(model1, filepath)\n",
    "#\n",
    "#tf.keras.models.save_model(\n",
    "#    model1, filepath , overwrite=True, include_optimizer=True, save_format=None,\n",
    "#    signatures=None\n",
    "#)\n",
    "##https://www.tensorflow.org/api_docs/python/tf/keras/models/save_model"
   ]
  },
  {
   "cell_type": "code",
   "execution_count": 35,
   "metadata": {},
   "outputs": [],
   "source": [
    "#predicao =  model1.predict(test_padded)\n",
    "#count = 1\n",
    "#for elemento in predicao[:10]:\n",
    "#    print(\"Sentença {} \".format(count),\"\\nPredição {}: \".format(count),elemento)\n",
    "#    print(\"Best value of confidence: {}\".format(np.argmax(elemento)))\n",
    "#    print(\"Intent da Sentença: {}\".format(inv_dict_labels[np.argmax(elemento)]))\n",
    "#    print(\"\\n\")\n",
    "#    count += 1"
   ]
  },
  {
   "cell_type": "markdown",
   "metadata": {},
   "source": [
    "#### Avaliando modelo com conjunto de Teste"
   ]
  },
  {
   "cell_type": "code",
   "execution_count": 36,
   "metadata": {},
   "outputs": [
    {
     "data": {
      "text/plain": [
       "['atis_flight',\n",
       " 'atis_flight',\n",
       " 'atis_flight',\n",
       " 'atis_abbreviation',\n",
       " 'atis_flight']"
      ]
     },
     "execution_count": 36,
     "metadata": {},
     "output_type": "execute_result"
    }
   ],
   "source": [
    "# Função pare test\n",
    "def Predicao_Labels(sentenca_codificada):\n",
    "    # inverter o dicionario dict_labels para retornar o intent pelo seu valor chave inteiro\n",
    "    inv_dict_labels = {v: k for k, v in dict_Labels.items()}\n",
    "    #print(inv_dict_labels)\n",
    "    # passar a sentenca codificada\n",
    "    predicao = model1.predict([sentenca_codificada])\n",
    "    #print(predicao)\n",
    "    \n",
    "    intent_value = [inv_dict_labels[np.argmax(x)] for x in predicao]\n",
    "    \n",
    "    return intent_value\n",
    "\n",
    "# lista com valores da predicao\n",
    "Predicao_Labels(test_padded)[:5]"
   ]
  },
  {
   "cell_type": "code",
   "execution_count": 37,
   "metadata": {},
   "outputs": [
    {
     "name": "stdout",
     "output_type": "stream",
     "text": [
      "Acurácia: 0.897611\n"
     ]
    }
   ],
   "source": [
    "test_labels = np.array(atis_1_test['intent'])\n",
    "# Acurácia nos dados de test\n",
    "from sklearn.metrics import accuracy_score # importando a biblioteca para calcular a acurácia\n",
    "acuracia = accuracy_score(test_labels,np.array(Predicao_Labels(test_padded)))\n",
    "print('Acurácia: %f' % acuracia)"
   ]
  },
  {
   "cell_type": "code",
   "execution_count": 38,
   "metadata": {},
   "outputs": [
    {
     "name": "stdout",
     "output_type": "stream",
     "text": [
      "                          precision    recall  f1-score   support\n",
      "\n",
      "       atis_abbreviation       0.71      0.62      0.67        16\n",
      "           atis_aircraft       0.25      0.75      0.38         8\n",
      "            atis_airfare       0.87      0.89      0.88        54\n",
      "            atis_airline       0.60      0.83      0.70        18\n",
      "            atis_airport       0.00      0.00      0.00         4\n",
      "           atis_capacity       0.33      0.75      0.46         4\n",
      "               atis_city       0.00      0.00      0.00         3\n",
      "           atis_distance       0.00      0.00      0.00         3\n",
      "             atis_flight       0.97      0.98      0.97       424\n",
      "atis_flight#atis_airfare       0.00      0.00      0.00         3\n",
      "          atis_flight_no       0.00      0.00      0.00         2\n",
      "        atis_flight_time       0.00      0.00      0.00         7\n",
      "        atis_ground_fare       1.00      0.50      0.67         4\n",
      "     atis_ground_service       0.97      0.97      0.97        29\n",
      "               atis_meal       0.00      0.00      0.00         1\n",
      "           atis_quantity       0.00      0.00      0.00         5\n",
      "        atis_restriction       0.00      0.00      0.00         1\n",
      "\n",
      "                accuracy                           0.90       586\n",
      "               macro avg       0.34      0.37      0.33       586\n",
      "            weighted avg       0.88      0.90      0.88       586\n",
      "\n"
     ]
    }
   ],
   "source": [
    "from sklearn.metrics import classification_report\n",
    "#print(classification_report(test_labels,np.array(Predicao_Labels(test_padded))))\n",
    "print(classification_report(test_labels, np.array(Predicao_Labels(test_padded)), zero_division=0))"
   ]
  },
  {
   "cell_type": "markdown",
   "metadata": {},
   "source": [
    "#### Get Intent de Senteça"
   ]
  },
  {
   "cell_type": "code",
   "execution_count": 39,
   "metadata": {},
   "outputs": [],
   "source": [
    "# intent de sentenças\n",
    "def Intent(sentenca,modelo):\n",
    "    \n",
    "    # loading model and tokenizer\n",
    "    with open('recursos/tokenizer.pickle', 'rb') as handle:\n",
    "        tokenizer = pickle.load(handle)\n",
    "        \n",
    "    # load model not working\n",
    "    #filepath = '../recursos/my_model.h5'\n",
    "    #model = tf.saved_model.load(filepath)\n",
    "    \n",
    "    # codificar a sentenca\n",
    "\n",
    "    sentenca = [sentenca]\n",
    "    sentenca_encoded = tokenizer.texts_to_sequences(sentenca)\n",
    "    sentenca_padded = pad_sequences(sentenca_encoded)\n",
    "    #print(sentenca_padded)\n",
    "    #intent = Predicao_Labels(sentenca_padded)\n",
    "    \n",
    "    #Inverter dict_labels para poder pegar o intent \n",
    "    inv_dict_labels = {v: k for k, v in dict_Labels.items()}\n",
    "    \n",
    "    # Predicao de intent apartir da sentenca codificada e o modelo\n",
    "    predicao = modelo.predict(sentenca_padded)\n",
    "    intent_value = [inv_dict_labels[np.argmax(x)] for x in predicao]\n",
    "    \n",
    "    return intent_value "
   ]
  },
  {
   "cell_type": "code",
   "execution_count": 40,
   "metadata": {},
   "outputs": [
    {
     "name": "stdout",
     "output_type": "stream",
     "text": [
      "WARNING:tensorflow:Model was constructed with shape (None, 259) for input Tensor(\"embedding_input:0\", shape=(None, 259), dtype=float32), but it was called on an input with incompatible shape (None, 11).\n",
      "['atis_flight']\n",
      "['atis_ground_service']\n",
      "['atis_abbreviation']\n"
     ]
    }
   ],
   "source": [
    "sentenca1='I want a list of the flights from Boston to DC'\n",
    "sentenca2='Are there any airports nearby?'\n",
    "sentenca3='fares from DC to NY'\n",
    "print(Intent(sentenca1,model1))\n",
    "print(Intent(sentenca2,model1))\n",
    "print(Intent(sentenca3,model1))"
   ]
  },
  {
   "cell_type": "markdown",
   "metadata": {},
   "source": [
    "### Intent Respostas"
   ]
  },
  {
   "cell_type": "code",
   "execution_count": 41,
   "metadata": {},
   "outputs": [
    {
     "name": "stdout",
     "output_type": "stream",
     "text": [
      "{'greet': re.compile('hello|hi|hey'), 'goodbye': re.compile('bye|farewell'), 'thankyou': re.compile('thank|thx')}\n",
      "{'default': 'default message', 'goodbye': 'goodbye for now', 'greet': 'Hello you! :)', 'thankyou': 'you are very welcome'}\n",
      "{'atis_airfare': [], 'atis_flight': [], 'atis_abbreviation': [], 'atis_ground_service': [], 'atis_restriction': [], 'atis_airport': [], 'atis_quantity': [], 'atis_meal': [], 'atis_airline': [], 'atis_city': [], 'atis_flight_no': [], 'atis_ground_fare': [], 'atis_flight_time': [], 'atis_flight#atis_airfare': [], 'atis_distance': [], 'atis_aircraft': [], 'atis_capacity': [], 'default': ['default message'], 'goodbye': ['goodbye for now'], 'greet': ['Hello you! :)'], 'thankyou': ['you are very welcome']}\n"
     ]
    }
   ],
   "source": [
    "# criar dicionarios para guardar as respostas por intent.\n",
    "# criar alguns intents basicos greetings...\n",
    "\n",
    "#templates\n",
    "user_template = \"USER : {0}\" \n",
    "bot_template = \"BOT : {0}\"\n",
    "\n",
    "dict_atis = dict_Labels\n",
    "\n",
    "# keywords para identificar padrões de intents basicos\n",
    "keywords = {'greet': ['hello', 'hi', 'hey'],\n",
    "            'goodbye': ['bye', 'farewell'],\n",
    "            'thankyou': ['thank', 'thx']}\n",
    "\n",
    "# intents são chaves do dicionario e o valor são as respostas\n",
    "responses = {'default': 'default message',\n",
    "             'goodbye': 'goodbye for now',\n",
    "             'greet': 'Hello you! :)',\n",
    "             'thankyou': 'you are very welcome'}\n",
    "\n",
    "# Novo dicionario de respostas do bot\n",
    "update_responses = {}\n",
    "\n",
    "for intent, value in dict_Labels.items():\n",
    "    if (intent not in update_responses):\n",
    "        update_responses[intent] = []\n",
    "\n",
    "for intent,resposta in responses.items():\n",
    "    if intent not in update_responses:\n",
    "        update_responses[intent] = [resposta]\n",
    "\n",
    "# Define a dictionary of patterns\n",
    "patterns = {}\n",
    "\n",
    "# Iterate over the keywords dictionary\n",
    "for intent, keys in keywords.items():\n",
    "    \n",
    "    # Create regular expressions and compile them into pattern objects\n",
    "    patterns[intent] = re.compile('|'.join(keys))\n",
    "    \n",
    "# Print the dicionarios\n",
    "print(patterns)\n",
    "print(responses)\n",
    "print(update_responses)"
   ]
  },
  {
   "cell_type": "code",
   "execution_count": 42,
   "metadata": {},
   "outputs": [
    {
     "name": "stdout",
     "output_type": "stream",
     "text": [
      "USER : hello!\n",
      "BOT : Hello you! :)\n",
      "USER : Flight from NY\n",
      "BOT : default message\n"
     ]
    }
   ],
   "source": [
    "import random\n",
    "# Define a function to find the intent of a message\n",
    "def match_intent(message):\n",
    "    matched_intent = None\n",
    "    \n",
    "    # para intents dentro do dicionario de padões\n",
    "    for intent, pattern in patterns.items():\n",
    "        # Check if the pattern occurs in the message \n",
    "        if re.search(pattern, message) is not None:\n",
    "            matched_intent = intent\n",
    "\n",
    "    return matched_intent\n",
    "\n",
    "# Define a respond function\n",
    "def respond(message):\n",
    "    \n",
    "    intent = None\n",
    "    # Call the match_intent function\n",
    "    if(match_intent(message) is not None):\n",
    "        intent = match_intent(message)\n",
    "    else:\n",
    "        listaIntent = Intent(message,model1)\n",
    "        intent = listaIntent[0]\n",
    "        #print(intent)\n",
    "        \n",
    "    # Fall back to the default response\n",
    "    key = \"default\"\n",
    "    if intent in update_responses:\n",
    "        if len(update_responses[intent]) != 0:\n",
    "            key = intent\n",
    "    resposta = random.choice(update_responses[key])\n",
    "    \n",
    "    return resposta\n",
    "\n",
    "# Define a function that sends a message to the bot: send_message\n",
    "def send_message(message):\n",
    "    # Print user_template including the user_message\n",
    "    print(user_template.format(message))\n",
    "    # Get the bot's response to the message\n",
    "    response = respond(message)\n",
    "    # Print the bot template including the bot's response.\n",
    "    print(bot_template.format(response))\n",
    "\n",
    "# Send messages\n",
    "send_message(\"hello!\")\n",
    "\n",
    "send_message(\"Flight from NY\")"
   ]
  },
  {
   "cell_type": "markdown",
   "metadata": {},
   "source": [
    "### Entidades"
   ]
  },
  {
   "cell_type": "code",
   "execution_count": 43,
   "metadata": {},
   "outputs": [
    {
     "name": "stdout",
     "output_type": "stream",
     "text": [
      "what are the coach flights between dallas and baltimore leaving august tenth and returning august twelve\n"
     ]
    }
   ],
   "source": [
    "sentence = atis_1_test['tokens'][0]\n",
    "print(sentence)"
   ]
  },
  {
   "cell_type": "code",
   "execution_count": 44,
   "metadata": {},
   "outputs": [],
   "source": [
    "import spacy\n",
    "nlp = spacy.load(\"en_core_web_md\")\n",
    "doc = nlp(sentence)"
   ]
  },
  {
   "cell_type": "code",
   "execution_count": 45,
   "metadata": {},
   "outputs": [
    {
     "data": {
      "text/html": [
       "<span class=\"tex2jax_ignore\"><div class=\"entities\" style=\"line-height: 2.5; direction: ltr\">what are the coach flights between \n",
       "<mark class=\"entity\" style=\"background: #feca74; padding: 0.45em 0.6em; margin: 0 0.25em; line-height: 1; border-radius: 0.35em;\">\n",
       "    dallas\n",
       "    <span style=\"font-size: 0.8em; font-weight: bold; line-height: 1; border-radius: 0.35em; vertical-align: middle; margin-left: 0.5rem\">GPE</span>\n",
       "</mark>\n",
       " and \n",
       "<mark class=\"entity\" style=\"background: #feca74; padding: 0.45em 0.6em; margin: 0 0.25em; line-height: 1; border-radius: 0.35em;\">\n",
       "    baltimore\n",
       "    <span style=\"font-size: 0.8em; font-weight: bold; line-height: 1; border-radius: 0.35em; vertical-align: middle; margin-left: 0.5rem\">GPE</span>\n",
       "</mark>\n",
       " leaving \n",
       "<mark class=\"entity\" style=\"background: #bfe1d9; padding: 0.45em 0.6em; margin: 0 0.25em; line-height: 1; border-radius: 0.35em;\">\n",
       "    august tenth\n",
       "    <span style=\"font-size: 0.8em; font-weight: bold; line-height: 1; border-radius: 0.35em; vertical-align: middle; margin-left: 0.5rem\">DATE</span>\n",
       "</mark>\n",
       " and returning \n",
       "<mark class=\"entity\" style=\"background: #bfe1d9; padding: 0.45em 0.6em; margin: 0 0.25em; line-height: 1; border-radius: 0.35em;\">\n",
       "    august twelve\n",
       "    <span style=\"font-size: 0.8em; font-weight: bold; line-height: 1; border-radius: 0.35em; vertical-align: middle; margin-left: 0.5rem\">DATE</span>\n",
       "</mark>\n",
       "</div></span>"
      ],
      "text/plain": [
       "<IPython.core.display.HTML object>"
      ]
     },
     "metadata": {},
     "output_type": "display_data"
    },
    {
     "data": {
      "text/html": [
       "<span class=\"tex2jax_ignore\"><svg xmlns=\"http://www.w3.org/2000/svg\" xmlns:xlink=\"http://www.w3.org/1999/xlink\" xml:lang=\"en\" id=\"01ae50996057496eb2037f7265fc4666-0\" class=\"displacy\" width=\"1650\" height=\"387.0\" direction=\"ltr\" style=\"max-width: none; height: 387.0px; color: #000000; background: #ffffff; font-family: Arial; direction: ltr\">\n",
       "<text class=\"displacy-token\" fill=\"currentColor\" text-anchor=\"middle\" y=\"297.0\">\n",
       "    <tspan class=\"displacy-word\" fill=\"currentColor\" x=\"50\">what</tspan>\n",
       "    <tspan class=\"displacy-tag\" dy=\"2em\" fill=\"currentColor\" x=\"50\">PRON</tspan>\n",
       "</text>\n",
       "\n",
       "<text class=\"displacy-token\" fill=\"currentColor\" text-anchor=\"middle\" y=\"297.0\">\n",
       "    <tspan class=\"displacy-word\" fill=\"currentColor\" x=\"150\">are</tspan>\n",
       "    <tspan class=\"displacy-tag\" dy=\"2em\" fill=\"currentColor\" x=\"150\">AUX</tspan>\n",
       "</text>\n",
       "\n",
       "<text class=\"displacy-token\" fill=\"currentColor\" text-anchor=\"middle\" y=\"297.0\">\n",
       "    <tspan class=\"displacy-word\" fill=\"currentColor\" x=\"250\">the</tspan>\n",
       "    <tspan class=\"displacy-tag\" dy=\"2em\" fill=\"currentColor\" x=\"250\">DET</tspan>\n",
       "</text>\n",
       "\n",
       "<text class=\"displacy-token\" fill=\"currentColor\" text-anchor=\"middle\" y=\"297.0\">\n",
       "    <tspan class=\"displacy-word\" fill=\"currentColor\" x=\"350\">coach</tspan>\n",
       "    <tspan class=\"displacy-tag\" dy=\"2em\" fill=\"currentColor\" x=\"350\">NOUN</tspan>\n",
       "</text>\n",
       "\n",
       "<text class=\"displacy-token\" fill=\"currentColor\" text-anchor=\"middle\" y=\"297.0\">\n",
       "    <tspan class=\"displacy-word\" fill=\"currentColor\" x=\"450\">flights</tspan>\n",
       "    <tspan class=\"displacy-tag\" dy=\"2em\" fill=\"currentColor\" x=\"450\">NOUN</tspan>\n",
       "</text>\n",
       "\n",
       "<text class=\"displacy-token\" fill=\"currentColor\" text-anchor=\"middle\" y=\"297.0\">\n",
       "    <tspan class=\"displacy-word\" fill=\"currentColor\" x=\"550\">between</tspan>\n",
       "    <tspan class=\"displacy-tag\" dy=\"2em\" fill=\"currentColor\" x=\"550\">ADP</tspan>\n",
       "</text>\n",
       "\n",
       "<text class=\"displacy-token\" fill=\"currentColor\" text-anchor=\"middle\" y=\"297.0\">\n",
       "    <tspan class=\"displacy-word\" fill=\"currentColor\" x=\"650\">dallas</tspan>\n",
       "    <tspan class=\"displacy-tag\" dy=\"2em\" fill=\"currentColor\" x=\"650\">PROPN</tspan>\n",
       "</text>\n",
       "\n",
       "<text class=\"displacy-token\" fill=\"currentColor\" text-anchor=\"middle\" y=\"297.0\">\n",
       "    <tspan class=\"displacy-word\" fill=\"currentColor\" x=\"750\">and</tspan>\n",
       "    <tspan class=\"displacy-tag\" dy=\"2em\" fill=\"currentColor\" x=\"750\">CCONJ</tspan>\n",
       "</text>\n",
       "\n",
       "<text class=\"displacy-token\" fill=\"currentColor\" text-anchor=\"middle\" y=\"297.0\">\n",
       "    <tspan class=\"displacy-word\" fill=\"currentColor\" x=\"850\">baltimore</tspan>\n",
       "    <tspan class=\"displacy-tag\" dy=\"2em\" fill=\"currentColor\" x=\"850\">PROPN</tspan>\n",
       "</text>\n",
       "\n",
       "<text class=\"displacy-token\" fill=\"currentColor\" text-anchor=\"middle\" y=\"297.0\">\n",
       "    <tspan class=\"displacy-word\" fill=\"currentColor\" x=\"950\">leaving</tspan>\n",
       "    <tspan class=\"displacy-tag\" dy=\"2em\" fill=\"currentColor\" x=\"950\">VERB</tspan>\n",
       "</text>\n",
       "\n",
       "<text class=\"displacy-token\" fill=\"currentColor\" text-anchor=\"middle\" y=\"297.0\">\n",
       "    <tspan class=\"displacy-word\" fill=\"currentColor\" x=\"1050\">august</tspan>\n",
       "    <tspan class=\"displacy-tag\" dy=\"2em\" fill=\"currentColor\" x=\"1050\">PROPN</tspan>\n",
       "</text>\n",
       "\n",
       "<text class=\"displacy-token\" fill=\"currentColor\" text-anchor=\"middle\" y=\"297.0\">\n",
       "    <tspan class=\"displacy-word\" fill=\"currentColor\" x=\"1150\">tenth</tspan>\n",
       "    <tspan class=\"displacy-tag\" dy=\"2em\" fill=\"currentColor\" x=\"1150\">NOUN</tspan>\n",
       "</text>\n",
       "\n",
       "<text class=\"displacy-token\" fill=\"currentColor\" text-anchor=\"middle\" y=\"297.0\">\n",
       "    <tspan class=\"displacy-word\" fill=\"currentColor\" x=\"1250\">and</tspan>\n",
       "    <tspan class=\"displacy-tag\" dy=\"2em\" fill=\"currentColor\" x=\"1250\">CCONJ</tspan>\n",
       "</text>\n",
       "\n",
       "<text class=\"displacy-token\" fill=\"currentColor\" text-anchor=\"middle\" y=\"297.0\">\n",
       "    <tspan class=\"displacy-word\" fill=\"currentColor\" x=\"1350\">returning</tspan>\n",
       "    <tspan class=\"displacy-tag\" dy=\"2em\" fill=\"currentColor\" x=\"1350\">VERB</tspan>\n",
       "</text>\n",
       "\n",
       "<text class=\"displacy-token\" fill=\"currentColor\" text-anchor=\"middle\" y=\"297.0\">\n",
       "    <tspan class=\"displacy-word\" fill=\"currentColor\" x=\"1450\">august</tspan>\n",
       "    <tspan class=\"displacy-tag\" dy=\"2em\" fill=\"currentColor\" x=\"1450\">PROPN</tspan>\n",
       "</text>\n",
       "\n",
       "<text class=\"displacy-token\" fill=\"currentColor\" text-anchor=\"middle\" y=\"297.0\">\n",
       "    <tspan class=\"displacy-word\" fill=\"currentColor\" x=\"1550\">twelve</tspan>\n",
       "    <tspan class=\"displacy-tag\" dy=\"2em\" fill=\"currentColor\" x=\"1550\">NUM</tspan>\n",
       "</text>\n",
       "\n",
       "<g class=\"displacy-arrow\">\n",
       "    <path class=\"displacy-arc\" id=\"arrow-01ae50996057496eb2037f7265fc4666-0-0\" stroke-width=\"2px\" d=\"M70,252.0 C70,202.0 130.0,202.0 130.0,252.0\" fill=\"none\" stroke=\"currentColor\"/>\n",
       "    <text dy=\"1.25em\" style=\"font-size: 0.8em; letter-spacing: 1px\">\n",
       "        <textPath xlink:href=\"#arrow-01ae50996057496eb2037f7265fc4666-0-0\" class=\"displacy-label\" startOffset=\"50%\" side=\"left\" fill=\"currentColor\" text-anchor=\"middle\">attr</textPath>\n",
       "    </text>\n",
       "    <path class=\"displacy-arrowhead\" d=\"M70,254.0 L62,242.0 78,242.0\" fill=\"currentColor\"/>\n",
       "</g>\n",
       "\n",
       "<g class=\"displacy-arrow\">\n",
       "    <path class=\"displacy-arc\" id=\"arrow-01ae50996057496eb2037f7265fc4666-0-1\" stroke-width=\"2px\" d=\"M270,252.0 C270,152.0 435.0,152.0 435.0,252.0\" fill=\"none\" stroke=\"currentColor\"/>\n",
       "    <text dy=\"1.25em\" style=\"font-size: 0.8em; letter-spacing: 1px\">\n",
       "        <textPath xlink:href=\"#arrow-01ae50996057496eb2037f7265fc4666-0-1\" class=\"displacy-label\" startOffset=\"50%\" side=\"left\" fill=\"currentColor\" text-anchor=\"middle\">det</textPath>\n",
       "    </text>\n",
       "    <path class=\"displacy-arrowhead\" d=\"M270,254.0 L262,242.0 278,242.0\" fill=\"currentColor\"/>\n",
       "</g>\n",
       "\n",
       "<g class=\"displacy-arrow\">\n",
       "    <path class=\"displacy-arc\" id=\"arrow-01ae50996057496eb2037f7265fc4666-0-2\" stroke-width=\"2px\" d=\"M370,252.0 C370,202.0 430.0,202.0 430.0,252.0\" fill=\"none\" stroke=\"currentColor\"/>\n",
       "    <text dy=\"1.25em\" style=\"font-size: 0.8em; letter-spacing: 1px\">\n",
       "        <textPath xlink:href=\"#arrow-01ae50996057496eb2037f7265fc4666-0-2\" class=\"displacy-label\" startOffset=\"50%\" side=\"left\" fill=\"currentColor\" text-anchor=\"middle\">compound</textPath>\n",
       "    </text>\n",
       "    <path class=\"displacy-arrowhead\" d=\"M370,254.0 L362,242.0 378,242.0\" fill=\"currentColor\"/>\n",
       "</g>\n",
       "\n",
       "<g class=\"displacy-arrow\">\n",
       "    <path class=\"displacy-arc\" id=\"arrow-01ae50996057496eb2037f7265fc4666-0-3\" stroke-width=\"2px\" d=\"M170,252.0 C170,102.0 440.0,102.0 440.0,252.0\" fill=\"none\" stroke=\"currentColor\"/>\n",
       "    <text dy=\"1.25em\" style=\"font-size: 0.8em; letter-spacing: 1px\">\n",
       "        <textPath xlink:href=\"#arrow-01ae50996057496eb2037f7265fc4666-0-3\" class=\"displacy-label\" startOffset=\"50%\" side=\"left\" fill=\"currentColor\" text-anchor=\"middle\">nsubj</textPath>\n",
       "    </text>\n",
       "    <path class=\"displacy-arrowhead\" d=\"M440.0,254.0 L448.0,242.0 432.0,242.0\" fill=\"currentColor\"/>\n",
       "</g>\n",
       "\n",
       "<g class=\"displacy-arrow\">\n",
       "    <path class=\"displacy-arc\" id=\"arrow-01ae50996057496eb2037f7265fc4666-0-4\" stroke-width=\"2px\" d=\"M470,252.0 C470,202.0 530.0,202.0 530.0,252.0\" fill=\"none\" stroke=\"currentColor\"/>\n",
       "    <text dy=\"1.25em\" style=\"font-size: 0.8em; letter-spacing: 1px\">\n",
       "        <textPath xlink:href=\"#arrow-01ae50996057496eb2037f7265fc4666-0-4\" class=\"displacy-label\" startOffset=\"50%\" side=\"left\" fill=\"currentColor\" text-anchor=\"middle\">prep</textPath>\n",
       "    </text>\n",
       "    <path class=\"displacy-arrowhead\" d=\"M530.0,254.0 L538.0,242.0 522.0,242.0\" fill=\"currentColor\"/>\n",
       "</g>\n",
       "\n",
       "<g class=\"displacy-arrow\">\n",
       "    <path class=\"displacy-arc\" id=\"arrow-01ae50996057496eb2037f7265fc4666-0-5\" stroke-width=\"2px\" d=\"M570,252.0 C570,202.0 630.0,202.0 630.0,252.0\" fill=\"none\" stroke=\"currentColor\"/>\n",
       "    <text dy=\"1.25em\" style=\"font-size: 0.8em; letter-spacing: 1px\">\n",
       "        <textPath xlink:href=\"#arrow-01ae50996057496eb2037f7265fc4666-0-5\" class=\"displacy-label\" startOffset=\"50%\" side=\"left\" fill=\"currentColor\" text-anchor=\"middle\">pobj</textPath>\n",
       "    </text>\n",
       "    <path class=\"displacy-arrowhead\" d=\"M630.0,254.0 L638.0,242.0 622.0,242.0\" fill=\"currentColor\"/>\n",
       "</g>\n",
       "\n",
       "<g class=\"displacy-arrow\">\n",
       "    <path class=\"displacy-arc\" id=\"arrow-01ae50996057496eb2037f7265fc4666-0-6\" stroke-width=\"2px\" d=\"M670,252.0 C670,202.0 730.0,202.0 730.0,252.0\" fill=\"none\" stroke=\"currentColor\"/>\n",
       "    <text dy=\"1.25em\" style=\"font-size: 0.8em; letter-spacing: 1px\">\n",
       "        <textPath xlink:href=\"#arrow-01ae50996057496eb2037f7265fc4666-0-6\" class=\"displacy-label\" startOffset=\"50%\" side=\"left\" fill=\"currentColor\" text-anchor=\"middle\">cc</textPath>\n",
       "    </text>\n",
       "    <path class=\"displacy-arrowhead\" d=\"M730.0,254.0 L738.0,242.0 722.0,242.0\" fill=\"currentColor\"/>\n",
       "</g>\n",
       "\n",
       "<g class=\"displacy-arrow\">\n",
       "    <path class=\"displacy-arc\" id=\"arrow-01ae50996057496eb2037f7265fc4666-0-7\" stroke-width=\"2px\" d=\"M670,252.0 C670,152.0 835.0,152.0 835.0,252.0\" fill=\"none\" stroke=\"currentColor\"/>\n",
       "    <text dy=\"1.25em\" style=\"font-size: 0.8em; letter-spacing: 1px\">\n",
       "        <textPath xlink:href=\"#arrow-01ae50996057496eb2037f7265fc4666-0-7\" class=\"displacy-label\" startOffset=\"50%\" side=\"left\" fill=\"currentColor\" text-anchor=\"middle\">conj</textPath>\n",
       "    </text>\n",
       "    <path class=\"displacy-arrowhead\" d=\"M835.0,254.0 L843.0,242.0 827.0,242.0\" fill=\"currentColor\"/>\n",
       "</g>\n",
       "\n",
       "<g class=\"displacy-arrow\">\n",
       "    <path class=\"displacy-arc\" id=\"arrow-01ae50996057496eb2037f7265fc4666-0-8\" stroke-width=\"2px\" d=\"M470,252.0 C470,2.0 950.0,2.0 950.0,252.0\" fill=\"none\" stroke=\"currentColor\"/>\n",
       "    <text dy=\"1.25em\" style=\"font-size: 0.8em; letter-spacing: 1px\">\n",
       "        <textPath xlink:href=\"#arrow-01ae50996057496eb2037f7265fc4666-0-8\" class=\"displacy-label\" startOffset=\"50%\" side=\"left\" fill=\"currentColor\" text-anchor=\"middle\">acl</textPath>\n",
       "    </text>\n",
       "    <path class=\"displacy-arrowhead\" d=\"M950.0,254.0 L958.0,242.0 942.0,242.0\" fill=\"currentColor\"/>\n",
       "</g>\n",
       "\n",
       "<g class=\"displacy-arrow\">\n",
       "    <path class=\"displacy-arc\" id=\"arrow-01ae50996057496eb2037f7265fc4666-0-9\" stroke-width=\"2px\" d=\"M970,252.0 C970,202.0 1030.0,202.0 1030.0,252.0\" fill=\"none\" stroke=\"currentColor\"/>\n",
       "    <text dy=\"1.25em\" style=\"font-size: 0.8em; letter-spacing: 1px\">\n",
       "        <textPath xlink:href=\"#arrow-01ae50996057496eb2037f7265fc4666-0-9\" class=\"displacy-label\" startOffset=\"50%\" side=\"left\" fill=\"currentColor\" text-anchor=\"middle\">dobj</textPath>\n",
       "    </text>\n",
       "    <path class=\"displacy-arrowhead\" d=\"M1030.0,254.0 L1038.0,242.0 1022.0,242.0\" fill=\"currentColor\"/>\n",
       "</g>\n",
       "\n",
       "<g class=\"displacy-arrow\">\n",
       "    <path class=\"displacy-arc\" id=\"arrow-01ae50996057496eb2037f7265fc4666-0-10\" stroke-width=\"2px\" d=\"M970,252.0 C970,152.0 1135.0,152.0 1135.0,252.0\" fill=\"none\" stroke=\"currentColor\"/>\n",
       "    <text dy=\"1.25em\" style=\"font-size: 0.8em; letter-spacing: 1px\">\n",
       "        <textPath xlink:href=\"#arrow-01ae50996057496eb2037f7265fc4666-0-10\" class=\"displacy-label\" startOffset=\"50%\" side=\"left\" fill=\"currentColor\" text-anchor=\"middle\">dobj</textPath>\n",
       "    </text>\n",
       "    <path class=\"displacy-arrowhead\" d=\"M1135.0,254.0 L1143.0,242.0 1127.0,242.0\" fill=\"currentColor\"/>\n",
       "</g>\n",
       "\n",
       "<g class=\"displacy-arrow\">\n",
       "    <path class=\"displacy-arc\" id=\"arrow-01ae50996057496eb2037f7265fc4666-0-11\" stroke-width=\"2px\" d=\"M970,252.0 C970,102.0 1240.0,102.0 1240.0,252.0\" fill=\"none\" stroke=\"currentColor\"/>\n",
       "    <text dy=\"1.25em\" style=\"font-size: 0.8em; letter-spacing: 1px\">\n",
       "        <textPath xlink:href=\"#arrow-01ae50996057496eb2037f7265fc4666-0-11\" class=\"displacy-label\" startOffset=\"50%\" side=\"left\" fill=\"currentColor\" text-anchor=\"middle\">cc</textPath>\n",
       "    </text>\n",
       "    <path class=\"displacy-arrowhead\" d=\"M1240.0,254.0 L1248.0,242.0 1232.0,242.0\" fill=\"currentColor\"/>\n",
       "</g>\n",
       "\n",
       "<g class=\"displacy-arrow\">\n",
       "    <path class=\"displacy-arc\" id=\"arrow-01ae50996057496eb2037f7265fc4666-0-12\" stroke-width=\"2px\" d=\"M970,252.0 C970,52.0 1345.0,52.0 1345.0,252.0\" fill=\"none\" stroke=\"currentColor\"/>\n",
       "    <text dy=\"1.25em\" style=\"font-size: 0.8em; letter-spacing: 1px\">\n",
       "        <textPath xlink:href=\"#arrow-01ae50996057496eb2037f7265fc4666-0-12\" class=\"displacy-label\" startOffset=\"50%\" side=\"left\" fill=\"currentColor\" text-anchor=\"middle\">conj</textPath>\n",
       "    </text>\n",
       "    <path class=\"displacy-arrowhead\" d=\"M1345.0,254.0 L1353.0,242.0 1337.0,242.0\" fill=\"currentColor\"/>\n",
       "</g>\n",
       "\n",
       "<g class=\"displacy-arrow\">\n",
       "    <path class=\"displacy-arc\" id=\"arrow-01ae50996057496eb2037f7265fc4666-0-13\" stroke-width=\"2px\" d=\"M1370,252.0 C1370,202.0 1430.0,202.0 1430.0,252.0\" fill=\"none\" stroke=\"currentColor\"/>\n",
       "    <text dy=\"1.25em\" style=\"font-size: 0.8em; letter-spacing: 1px\">\n",
       "        <textPath xlink:href=\"#arrow-01ae50996057496eb2037f7265fc4666-0-13\" class=\"displacy-label\" startOffset=\"50%\" side=\"left\" fill=\"currentColor\" text-anchor=\"middle\">npadvmod</textPath>\n",
       "    </text>\n",
       "    <path class=\"displacy-arrowhead\" d=\"M1430.0,254.0 L1438.0,242.0 1422.0,242.0\" fill=\"currentColor\"/>\n",
       "</g>\n",
       "\n",
       "<g class=\"displacy-arrow\">\n",
       "    <path class=\"displacy-arc\" id=\"arrow-01ae50996057496eb2037f7265fc4666-0-14\" stroke-width=\"2px\" d=\"M1470,252.0 C1470,202.0 1530.0,202.0 1530.0,252.0\" fill=\"none\" stroke=\"currentColor\"/>\n",
       "    <text dy=\"1.25em\" style=\"font-size: 0.8em; letter-spacing: 1px\">\n",
       "        <textPath xlink:href=\"#arrow-01ae50996057496eb2037f7265fc4666-0-14\" class=\"displacy-label\" startOffset=\"50%\" side=\"left\" fill=\"currentColor\" text-anchor=\"middle\">nummod</textPath>\n",
       "    </text>\n",
       "    <path class=\"displacy-arrowhead\" d=\"M1530.0,254.0 L1538.0,242.0 1522.0,242.0\" fill=\"currentColor\"/>\n",
       "</g>\n",
       "</svg></span>"
      ],
      "text/plain": [
       "<IPython.core.display.HTML object>"
      ]
     },
     "metadata": {},
     "output_type": "display_data"
    }
   ],
   "source": [
    "from spacy import displacy\n",
    "displacy.render(doc,style='ent',jupyter=True)\n",
    "displacy.render(doc,style='dep',jupyter=True,options={'distance':100})"
   ]
  },
  {
   "cell_type": "code",
   "execution_count": 46,
   "metadata": {},
   "outputs": [],
   "source": [
    "def show_ents(doc):\n",
    "    if doc.ents:\n",
    "        for ent in doc.ents:\n",
    "            print(ent.text+\" - \"+str(ent.start_char)+\" - \"+str(ent.end_char)+\" - \"+ent.label_+\" - \"+\n",
    "                 str(spacy.explain(ent.label_)))\n",
    "    else:\n",
    "        print(\"No named entities found.\")"
   ]
  },
  {
   "cell_type": "code",
   "execution_count": 47,
   "metadata": {},
   "outputs": [
    {
     "name": "stdout",
     "output_type": "stream",
     "text": [
      "dallas - 35 - 41 - GPE - Countries, cities, states\n",
      "baltimore - 46 - 55 - GPE - Countries, cities, states\n",
      "august tenth - 64 - 76 - DATE - Absolute or relative dates or periods\n",
      "august twelve - 91 - 104 - DATE - Absolute or relative dates or periods\n"
     ]
    }
   ],
   "source": [
    "show_ents(doc)"
   ]
  },
  {
   "cell_type": "code",
   "execution_count": 48,
   "metadata": {},
   "outputs": [
    {
     "name": "stdout",
     "output_type": "stream",
     "text": [
      "Match found: the coach flights\n",
      "Match found: coach flights\n"
     ]
    }
   ],
   "source": [
    "entidades = []\n",
    "#padroes\n",
    "from spacy.matcher import Matcher\n",
    "matcher = Matcher(nlp.vocab)\n",
    "pattern = [{\"POS\": \"DET\", \"OP\": \"?\"},{\"POS\": \"NOUN\"}, {\"POS\": \"NOUN\"}]\n",
    "\n",
    "# Add the pattern to the matcher and apply the matcher to the doc\n",
    "matcher.add('Entities_PATTERN', [pattern])\n",
    "matches = matcher(doc)\n",
    "\n",
    "# Iterate over the matches and print the span text\n",
    "for match_id, start, end in matches:\n",
    "    print('Match found:', doc[start:end].text)\n",
    "    entidade_found = doc[start:end].text\n",
    "    for ent in doc.ents:\n",
    "        entidades.append((entidade_found,ent.text))"
   ]
  },
  {
   "cell_type": "code",
   "execution_count": 49,
   "metadata": {},
   "outputs": [
    {
     "name": "stdout",
     "output_type": "stream",
     "text": [
      "[('the coach flights', 'dallas'), ('the coach flights', 'baltimore'), ('the coach flights', 'august tenth'), ('the coach flights', 'august twelve'), ('coach flights', 'dallas'), ('coach flights', 'baltimore'), ('coach flights', 'august tenth'), ('coach flights', 'august twelve')]\n"
     ]
    }
   ],
   "source": [
    "print(entidades)"
   ]
  },
  {
   "cell_type": "code",
   "execution_count": 50,
   "metadata": {},
   "outputs": [],
   "source": [
    "def extract_entities(sentenca):\n",
    "    #sentenca = sentenca.replace(\"\\n\\n\",' ')\n",
    "    doc = nlp(sentenca)\n",
    "    dict_entidade_values = {}\n",
    "    \n",
    "    #padroes\n",
    "    from spacy.matcher import Matcher\n",
    "    matcher = Matcher(nlp.vocab)\n",
    "    pattern1 = [{\"POS\": \"DET\", \"OP\": \"?\"},{\"POS\": \"NOUN\"}, {\"POS\": \"NOUN\"}]\n",
    "    pattern2 = [{\"POS\": \"DET\", \"OP\": \"?\"},{\"POS\": \"NOUN\"}, {\"POS\": \"ADP\"}]\n",
    "    pattern3 = [{\"POS\": \"NOUN\"},{\"POS\": \"ADP\"},{\"POS\": \"NOUN\"}]\n",
    "\n",
    "    # Add the pattern to the matcher and apply the matcher to the doc\n",
    "    matcher.add('Entities_PATTERN', [pattern1,pattern2,pattern3])\n",
    "    matches = matcher(doc)\n",
    "\n",
    "    # Iterate over the matches and print the span text\n",
    "    for match_id, start, end in matches:\n",
    "        #print('Match found:', doc[start:end].text)\n",
    "        #entidade_found = doc[start:end].text\n",
    "        pattern_found = doc[start:end].text\n",
    "        \n",
    "        entidade_found = \"\" #pattern_found\n",
    "        doc2 = nlp(pattern_found)\n",
    "        #chunks = list(doc2.noun_chunks)\n",
    "        #print(chunks)\n",
    "        for token in doc2:\n",
    "            if token.pos_ == \"NOUN\":\n",
    "                entidade_found = entidade_found +\" \"+ token.text\n",
    "        \n",
    "        if entidade_found not in dict_entidade_values:\n",
    "            \n",
    "            dict_entidade_values[entidade_found] = []\n",
    "        \n",
    "            for ent in doc.ents:\n",
    "                if ent.text not in dict_entidade_values[entidade_found]:\n",
    "                    lista_value = dict_entidade_values[entidade_found]\n",
    "                    lista_value.append([ent.text,ent.label_])\n",
    "        \n",
    "        if len(entidade_found) == 0:\n",
    "            entidade_found = pattern_found\n",
    "        \n",
    "        \n",
    "    return dict_entidade_values"
   ]
  },
  {
   "cell_type": "code",
   "execution_count": 51,
   "metadata": {},
   "outputs": [
    {
     "data": {
      "text/plain": [
       "{' coach flights': [['dallas', 'GPE'],\n",
       "  ['baltimore', 'GPE'],\n",
       "  ['august tenth', 'DATE'],\n",
       "  ['august twelve', 'DATE']],\n",
       " ' flights': [['dallas', 'GPE'],\n",
       "  ['baltimore', 'GPE'],\n",
       "  ['august tenth', 'DATE'],\n",
       "  ['august twelve', 'DATE']]}"
      ]
     },
     "execution_count": 51,
     "metadata": {},
     "output_type": "execute_result"
    }
   ],
   "source": [
    "sentence = atis_1_test['tokens'][0]\n",
    "extract_entities(sentence)"
   ]
  },
  {
   "cell_type": "code",
   "execution_count": 52,
   "metadata": {},
   "outputs": [
    {
     "data": {
      "text/html": [
       "<span class=\"tex2jax_ignore\"><div class=\"entities\" style=\"line-height: 2.5; direction: ltr\">what are the coach flights between \n",
       "<mark class=\"entity\" style=\"background: #feca74; padding: 0.45em 0.6em; margin: 0 0.25em; line-height: 1; border-radius: 0.35em;\">\n",
       "    dallas\n",
       "    <span style=\"font-size: 0.8em; font-weight: bold; line-height: 1; border-radius: 0.35em; vertical-align: middle; margin-left: 0.5rem\">GPE</span>\n",
       "</mark>\n",
       " and \n",
       "<mark class=\"entity\" style=\"background: #feca74; padding: 0.45em 0.6em; margin: 0 0.25em; line-height: 1; border-radius: 0.35em;\">\n",
       "    baltimore\n",
       "    <span style=\"font-size: 0.8em; font-weight: bold; line-height: 1; border-radius: 0.35em; vertical-align: middle; margin-left: 0.5rem\">GPE</span>\n",
       "</mark>\n",
       " leaving \n",
       "<mark class=\"entity\" style=\"background: #bfe1d9; padding: 0.45em 0.6em; margin: 0 0.25em; line-height: 1; border-radius: 0.35em;\">\n",
       "    august tenth\n",
       "    <span style=\"font-size: 0.8em; font-weight: bold; line-height: 1; border-radius: 0.35em; vertical-align: middle; margin-left: 0.5rem\">DATE</span>\n",
       "</mark>\n",
       " and returning \n",
       "<mark class=\"entity\" style=\"background: #bfe1d9; padding: 0.45em 0.6em; margin: 0 0.25em; line-height: 1; border-radius: 0.35em;\">\n",
       "    august twelve\n",
       "    <span style=\"font-size: 0.8em; font-weight: bold; line-height: 1; border-radius: 0.35em; vertical-align: middle; margin-left: 0.5rem\">DATE</span>\n",
       "</mark>\n",
       "</div></span>"
      ],
      "text/plain": [
       "<IPython.core.display.HTML object>"
      ]
     },
     "metadata": {},
     "output_type": "display_data"
    },
    {
     "data": {
      "text/html": [
       "<span class=\"tex2jax_ignore\"><svg xmlns=\"http://www.w3.org/2000/svg\" xmlns:xlink=\"http://www.w3.org/1999/xlink\" xml:lang=\"en\" id=\"16590c39511243aab86949e91cd8f400-0\" class=\"displacy\" width=\"1650\" height=\"387.0\" direction=\"ltr\" style=\"max-width: none; height: 387.0px; color: #000000; background: #ffffff; font-family: Arial; direction: ltr\">\n",
       "<text class=\"displacy-token\" fill=\"currentColor\" text-anchor=\"middle\" y=\"297.0\">\n",
       "    <tspan class=\"displacy-word\" fill=\"currentColor\" x=\"50\">what</tspan>\n",
       "    <tspan class=\"displacy-tag\" dy=\"2em\" fill=\"currentColor\" x=\"50\">PRON</tspan>\n",
       "</text>\n",
       "\n",
       "<text class=\"displacy-token\" fill=\"currentColor\" text-anchor=\"middle\" y=\"297.0\">\n",
       "    <tspan class=\"displacy-word\" fill=\"currentColor\" x=\"150\">are</tspan>\n",
       "    <tspan class=\"displacy-tag\" dy=\"2em\" fill=\"currentColor\" x=\"150\">AUX</tspan>\n",
       "</text>\n",
       "\n",
       "<text class=\"displacy-token\" fill=\"currentColor\" text-anchor=\"middle\" y=\"297.0\">\n",
       "    <tspan class=\"displacy-word\" fill=\"currentColor\" x=\"250\">the</tspan>\n",
       "    <tspan class=\"displacy-tag\" dy=\"2em\" fill=\"currentColor\" x=\"250\">DET</tspan>\n",
       "</text>\n",
       "\n",
       "<text class=\"displacy-token\" fill=\"currentColor\" text-anchor=\"middle\" y=\"297.0\">\n",
       "    <tspan class=\"displacy-word\" fill=\"currentColor\" x=\"350\">coach</tspan>\n",
       "    <tspan class=\"displacy-tag\" dy=\"2em\" fill=\"currentColor\" x=\"350\">NOUN</tspan>\n",
       "</text>\n",
       "\n",
       "<text class=\"displacy-token\" fill=\"currentColor\" text-anchor=\"middle\" y=\"297.0\">\n",
       "    <tspan class=\"displacy-word\" fill=\"currentColor\" x=\"450\">flights</tspan>\n",
       "    <tspan class=\"displacy-tag\" dy=\"2em\" fill=\"currentColor\" x=\"450\">NOUN</tspan>\n",
       "</text>\n",
       "\n",
       "<text class=\"displacy-token\" fill=\"currentColor\" text-anchor=\"middle\" y=\"297.0\">\n",
       "    <tspan class=\"displacy-word\" fill=\"currentColor\" x=\"550\">between</tspan>\n",
       "    <tspan class=\"displacy-tag\" dy=\"2em\" fill=\"currentColor\" x=\"550\">ADP</tspan>\n",
       "</text>\n",
       "\n",
       "<text class=\"displacy-token\" fill=\"currentColor\" text-anchor=\"middle\" y=\"297.0\">\n",
       "    <tspan class=\"displacy-word\" fill=\"currentColor\" x=\"650\">dallas</tspan>\n",
       "    <tspan class=\"displacy-tag\" dy=\"2em\" fill=\"currentColor\" x=\"650\">PROPN</tspan>\n",
       "</text>\n",
       "\n",
       "<text class=\"displacy-token\" fill=\"currentColor\" text-anchor=\"middle\" y=\"297.0\">\n",
       "    <tspan class=\"displacy-word\" fill=\"currentColor\" x=\"750\">and</tspan>\n",
       "    <tspan class=\"displacy-tag\" dy=\"2em\" fill=\"currentColor\" x=\"750\">CCONJ</tspan>\n",
       "</text>\n",
       "\n",
       "<text class=\"displacy-token\" fill=\"currentColor\" text-anchor=\"middle\" y=\"297.0\">\n",
       "    <tspan class=\"displacy-word\" fill=\"currentColor\" x=\"850\">baltimore</tspan>\n",
       "    <tspan class=\"displacy-tag\" dy=\"2em\" fill=\"currentColor\" x=\"850\">PROPN</tspan>\n",
       "</text>\n",
       "\n",
       "<text class=\"displacy-token\" fill=\"currentColor\" text-anchor=\"middle\" y=\"297.0\">\n",
       "    <tspan class=\"displacy-word\" fill=\"currentColor\" x=\"950\">leaving</tspan>\n",
       "    <tspan class=\"displacy-tag\" dy=\"2em\" fill=\"currentColor\" x=\"950\">VERB</tspan>\n",
       "</text>\n",
       "\n",
       "<text class=\"displacy-token\" fill=\"currentColor\" text-anchor=\"middle\" y=\"297.0\">\n",
       "    <tspan class=\"displacy-word\" fill=\"currentColor\" x=\"1050\">august</tspan>\n",
       "    <tspan class=\"displacy-tag\" dy=\"2em\" fill=\"currentColor\" x=\"1050\">PROPN</tspan>\n",
       "</text>\n",
       "\n",
       "<text class=\"displacy-token\" fill=\"currentColor\" text-anchor=\"middle\" y=\"297.0\">\n",
       "    <tspan class=\"displacy-word\" fill=\"currentColor\" x=\"1150\">tenth</tspan>\n",
       "    <tspan class=\"displacy-tag\" dy=\"2em\" fill=\"currentColor\" x=\"1150\">NOUN</tspan>\n",
       "</text>\n",
       "\n",
       "<text class=\"displacy-token\" fill=\"currentColor\" text-anchor=\"middle\" y=\"297.0\">\n",
       "    <tspan class=\"displacy-word\" fill=\"currentColor\" x=\"1250\">and</tspan>\n",
       "    <tspan class=\"displacy-tag\" dy=\"2em\" fill=\"currentColor\" x=\"1250\">CCONJ</tspan>\n",
       "</text>\n",
       "\n",
       "<text class=\"displacy-token\" fill=\"currentColor\" text-anchor=\"middle\" y=\"297.0\">\n",
       "    <tspan class=\"displacy-word\" fill=\"currentColor\" x=\"1350\">returning</tspan>\n",
       "    <tspan class=\"displacy-tag\" dy=\"2em\" fill=\"currentColor\" x=\"1350\">VERB</tspan>\n",
       "</text>\n",
       "\n",
       "<text class=\"displacy-token\" fill=\"currentColor\" text-anchor=\"middle\" y=\"297.0\">\n",
       "    <tspan class=\"displacy-word\" fill=\"currentColor\" x=\"1450\">august</tspan>\n",
       "    <tspan class=\"displacy-tag\" dy=\"2em\" fill=\"currentColor\" x=\"1450\">PROPN</tspan>\n",
       "</text>\n",
       "\n",
       "<text class=\"displacy-token\" fill=\"currentColor\" text-anchor=\"middle\" y=\"297.0\">\n",
       "    <tspan class=\"displacy-word\" fill=\"currentColor\" x=\"1550\">twelve</tspan>\n",
       "    <tspan class=\"displacy-tag\" dy=\"2em\" fill=\"currentColor\" x=\"1550\">NUM</tspan>\n",
       "</text>\n",
       "\n",
       "<g class=\"displacy-arrow\">\n",
       "    <path class=\"displacy-arc\" id=\"arrow-16590c39511243aab86949e91cd8f400-0-0\" stroke-width=\"2px\" d=\"M70,252.0 C70,202.0 130.0,202.0 130.0,252.0\" fill=\"none\" stroke=\"currentColor\"/>\n",
       "    <text dy=\"1.25em\" style=\"font-size: 0.8em; letter-spacing: 1px\">\n",
       "        <textPath xlink:href=\"#arrow-16590c39511243aab86949e91cd8f400-0-0\" class=\"displacy-label\" startOffset=\"50%\" side=\"left\" fill=\"currentColor\" text-anchor=\"middle\">attr</textPath>\n",
       "    </text>\n",
       "    <path class=\"displacy-arrowhead\" d=\"M70,254.0 L62,242.0 78,242.0\" fill=\"currentColor\"/>\n",
       "</g>\n",
       "\n",
       "<g class=\"displacy-arrow\">\n",
       "    <path class=\"displacy-arc\" id=\"arrow-16590c39511243aab86949e91cd8f400-0-1\" stroke-width=\"2px\" d=\"M270,252.0 C270,152.0 435.0,152.0 435.0,252.0\" fill=\"none\" stroke=\"currentColor\"/>\n",
       "    <text dy=\"1.25em\" style=\"font-size: 0.8em; letter-spacing: 1px\">\n",
       "        <textPath xlink:href=\"#arrow-16590c39511243aab86949e91cd8f400-0-1\" class=\"displacy-label\" startOffset=\"50%\" side=\"left\" fill=\"currentColor\" text-anchor=\"middle\">det</textPath>\n",
       "    </text>\n",
       "    <path class=\"displacy-arrowhead\" d=\"M270,254.0 L262,242.0 278,242.0\" fill=\"currentColor\"/>\n",
       "</g>\n",
       "\n",
       "<g class=\"displacy-arrow\">\n",
       "    <path class=\"displacy-arc\" id=\"arrow-16590c39511243aab86949e91cd8f400-0-2\" stroke-width=\"2px\" d=\"M370,252.0 C370,202.0 430.0,202.0 430.0,252.0\" fill=\"none\" stroke=\"currentColor\"/>\n",
       "    <text dy=\"1.25em\" style=\"font-size: 0.8em; letter-spacing: 1px\">\n",
       "        <textPath xlink:href=\"#arrow-16590c39511243aab86949e91cd8f400-0-2\" class=\"displacy-label\" startOffset=\"50%\" side=\"left\" fill=\"currentColor\" text-anchor=\"middle\">compound</textPath>\n",
       "    </text>\n",
       "    <path class=\"displacy-arrowhead\" d=\"M370,254.0 L362,242.0 378,242.0\" fill=\"currentColor\"/>\n",
       "</g>\n",
       "\n",
       "<g class=\"displacy-arrow\">\n",
       "    <path class=\"displacy-arc\" id=\"arrow-16590c39511243aab86949e91cd8f400-0-3\" stroke-width=\"2px\" d=\"M170,252.0 C170,102.0 440.0,102.0 440.0,252.0\" fill=\"none\" stroke=\"currentColor\"/>\n",
       "    <text dy=\"1.25em\" style=\"font-size: 0.8em; letter-spacing: 1px\">\n",
       "        <textPath xlink:href=\"#arrow-16590c39511243aab86949e91cd8f400-0-3\" class=\"displacy-label\" startOffset=\"50%\" side=\"left\" fill=\"currentColor\" text-anchor=\"middle\">nsubj</textPath>\n",
       "    </text>\n",
       "    <path class=\"displacy-arrowhead\" d=\"M440.0,254.0 L448.0,242.0 432.0,242.0\" fill=\"currentColor\"/>\n",
       "</g>\n",
       "\n",
       "<g class=\"displacy-arrow\">\n",
       "    <path class=\"displacy-arc\" id=\"arrow-16590c39511243aab86949e91cd8f400-0-4\" stroke-width=\"2px\" d=\"M470,252.0 C470,202.0 530.0,202.0 530.0,252.0\" fill=\"none\" stroke=\"currentColor\"/>\n",
       "    <text dy=\"1.25em\" style=\"font-size: 0.8em; letter-spacing: 1px\">\n",
       "        <textPath xlink:href=\"#arrow-16590c39511243aab86949e91cd8f400-0-4\" class=\"displacy-label\" startOffset=\"50%\" side=\"left\" fill=\"currentColor\" text-anchor=\"middle\">prep</textPath>\n",
       "    </text>\n",
       "    <path class=\"displacy-arrowhead\" d=\"M530.0,254.0 L538.0,242.0 522.0,242.0\" fill=\"currentColor\"/>\n",
       "</g>\n",
       "\n",
       "<g class=\"displacy-arrow\">\n",
       "    <path class=\"displacy-arc\" id=\"arrow-16590c39511243aab86949e91cd8f400-0-5\" stroke-width=\"2px\" d=\"M570,252.0 C570,202.0 630.0,202.0 630.0,252.0\" fill=\"none\" stroke=\"currentColor\"/>\n",
       "    <text dy=\"1.25em\" style=\"font-size: 0.8em; letter-spacing: 1px\">\n",
       "        <textPath xlink:href=\"#arrow-16590c39511243aab86949e91cd8f400-0-5\" class=\"displacy-label\" startOffset=\"50%\" side=\"left\" fill=\"currentColor\" text-anchor=\"middle\">pobj</textPath>\n",
       "    </text>\n",
       "    <path class=\"displacy-arrowhead\" d=\"M630.0,254.0 L638.0,242.0 622.0,242.0\" fill=\"currentColor\"/>\n",
       "</g>\n",
       "\n",
       "<g class=\"displacy-arrow\">\n",
       "    <path class=\"displacy-arc\" id=\"arrow-16590c39511243aab86949e91cd8f400-0-6\" stroke-width=\"2px\" d=\"M670,252.0 C670,202.0 730.0,202.0 730.0,252.0\" fill=\"none\" stroke=\"currentColor\"/>\n",
       "    <text dy=\"1.25em\" style=\"font-size: 0.8em; letter-spacing: 1px\">\n",
       "        <textPath xlink:href=\"#arrow-16590c39511243aab86949e91cd8f400-0-6\" class=\"displacy-label\" startOffset=\"50%\" side=\"left\" fill=\"currentColor\" text-anchor=\"middle\">cc</textPath>\n",
       "    </text>\n",
       "    <path class=\"displacy-arrowhead\" d=\"M730.0,254.0 L738.0,242.0 722.0,242.0\" fill=\"currentColor\"/>\n",
       "</g>\n",
       "\n",
       "<g class=\"displacy-arrow\">\n",
       "    <path class=\"displacy-arc\" id=\"arrow-16590c39511243aab86949e91cd8f400-0-7\" stroke-width=\"2px\" d=\"M670,252.0 C670,152.0 835.0,152.0 835.0,252.0\" fill=\"none\" stroke=\"currentColor\"/>\n",
       "    <text dy=\"1.25em\" style=\"font-size: 0.8em; letter-spacing: 1px\">\n",
       "        <textPath xlink:href=\"#arrow-16590c39511243aab86949e91cd8f400-0-7\" class=\"displacy-label\" startOffset=\"50%\" side=\"left\" fill=\"currentColor\" text-anchor=\"middle\">conj</textPath>\n",
       "    </text>\n",
       "    <path class=\"displacy-arrowhead\" d=\"M835.0,254.0 L843.0,242.0 827.0,242.0\" fill=\"currentColor\"/>\n",
       "</g>\n",
       "\n",
       "<g class=\"displacy-arrow\">\n",
       "    <path class=\"displacy-arc\" id=\"arrow-16590c39511243aab86949e91cd8f400-0-8\" stroke-width=\"2px\" d=\"M470,252.0 C470,2.0 950.0,2.0 950.0,252.0\" fill=\"none\" stroke=\"currentColor\"/>\n",
       "    <text dy=\"1.25em\" style=\"font-size: 0.8em; letter-spacing: 1px\">\n",
       "        <textPath xlink:href=\"#arrow-16590c39511243aab86949e91cd8f400-0-8\" class=\"displacy-label\" startOffset=\"50%\" side=\"left\" fill=\"currentColor\" text-anchor=\"middle\">acl</textPath>\n",
       "    </text>\n",
       "    <path class=\"displacy-arrowhead\" d=\"M950.0,254.0 L958.0,242.0 942.0,242.0\" fill=\"currentColor\"/>\n",
       "</g>\n",
       "\n",
       "<g class=\"displacy-arrow\">\n",
       "    <path class=\"displacy-arc\" id=\"arrow-16590c39511243aab86949e91cd8f400-0-9\" stroke-width=\"2px\" d=\"M970,252.0 C970,202.0 1030.0,202.0 1030.0,252.0\" fill=\"none\" stroke=\"currentColor\"/>\n",
       "    <text dy=\"1.25em\" style=\"font-size: 0.8em; letter-spacing: 1px\">\n",
       "        <textPath xlink:href=\"#arrow-16590c39511243aab86949e91cd8f400-0-9\" class=\"displacy-label\" startOffset=\"50%\" side=\"left\" fill=\"currentColor\" text-anchor=\"middle\">dobj</textPath>\n",
       "    </text>\n",
       "    <path class=\"displacy-arrowhead\" d=\"M1030.0,254.0 L1038.0,242.0 1022.0,242.0\" fill=\"currentColor\"/>\n",
       "</g>\n",
       "\n",
       "<g class=\"displacy-arrow\">\n",
       "    <path class=\"displacy-arc\" id=\"arrow-16590c39511243aab86949e91cd8f400-0-10\" stroke-width=\"2px\" d=\"M970,252.0 C970,152.0 1135.0,152.0 1135.0,252.0\" fill=\"none\" stroke=\"currentColor\"/>\n",
       "    <text dy=\"1.25em\" style=\"font-size: 0.8em; letter-spacing: 1px\">\n",
       "        <textPath xlink:href=\"#arrow-16590c39511243aab86949e91cd8f400-0-10\" class=\"displacy-label\" startOffset=\"50%\" side=\"left\" fill=\"currentColor\" text-anchor=\"middle\">dobj</textPath>\n",
       "    </text>\n",
       "    <path class=\"displacy-arrowhead\" d=\"M1135.0,254.0 L1143.0,242.0 1127.0,242.0\" fill=\"currentColor\"/>\n",
       "</g>\n",
       "\n",
       "<g class=\"displacy-arrow\">\n",
       "    <path class=\"displacy-arc\" id=\"arrow-16590c39511243aab86949e91cd8f400-0-11\" stroke-width=\"2px\" d=\"M970,252.0 C970,102.0 1240.0,102.0 1240.0,252.0\" fill=\"none\" stroke=\"currentColor\"/>\n",
       "    <text dy=\"1.25em\" style=\"font-size: 0.8em; letter-spacing: 1px\">\n",
       "        <textPath xlink:href=\"#arrow-16590c39511243aab86949e91cd8f400-0-11\" class=\"displacy-label\" startOffset=\"50%\" side=\"left\" fill=\"currentColor\" text-anchor=\"middle\">cc</textPath>\n",
       "    </text>\n",
       "    <path class=\"displacy-arrowhead\" d=\"M1240.0,254.0 L1248.0,242.0 1232.0,242.0\" fill=\"currentColor\"/>\n",
       "</g>\n",
       "\n",
       "<g class=\"displacy-arrow\">\n",
       "    <path class=\"displacy-arc\" id=\"arrow-16590c39511243aab86949e91cd8f400-0-12\" stroke-width=\"2px\" d=\"M970,252.0 C970,52.0 1345.0,52.0 1345.0,252.0\" fill=\"none\" stroke=\"currentColor\"/>\n",
       "    <text dy=\"1.25em\" style=\"font-size: 0.8em; letter-spacing: 1px\">\n",
       "        <textPath xlink:href=\"#arrow-16590c39511243aab86949e91cd8f400-0-12\" class=\"displacy-label\" startOffset=\"50%\" side=\"left\" fill=\"currentColor\" text-anchor=\"middle\">conj</textPath>\n",
       "    </text>\n",
       "    <path class=\"displacy-arrowhead\" d=\"M1345.0,254.0 L1353.0,242.0 1337.0,242.0\" fill=\"currentColor\"/>\n",
       "</g>\n",
       "\n",
       "<g class=\"displacy-arrow\">\n",
       "    <path class=\"displacy-arc\" id=\"arrow-16590c39511243aab86949e91cd8f400-0-13\" stroke-width=\"2px\" d=\"M1370,252.0 C1370,202.0 1430.0,202.0 1430.0,252.0\" fill=\"none\" stroke=\"currentColor\"/>\n",
       "    <text dy=\"1.25em\" style=\"font-size: 0.8em; letter-spacing: 1px\">\n",
       "        <textPath xlink:href=\"#arrow-16590c39511243aab86949e91cd8f400-0-13\" class=\"displacy-label\" startOffset=\"50%\" side=\"left\" fill=\"currentColor\" text-anchor=\"middle\">npadvmod</textPath>\n",
       "    </text>\n",
       "    <path class=\"displacy-arrowhead\" d=\"M1430.0,254.0 L1438.0,242.0 1422.0,242.0\" fill=\"currentColor\"/>\n",
       "</g>\n",
       "\n",
       "<g class=\"displacy-arrow\">\n",
       "    <path class=\"displacy-arc\" id=\"arrow-16590c39511243aab86949e91cd8f400-0-14\" stroke-width=\"2px\" d=\"M1470,252.0 C1470,202.0 1530.0,202.0 1530.0,252.0\" fill=\"none\" stroke=\"currentColor\"/>\n",
       "    <text dy=\"1.25em\" style=\"font-size: 0.8em; letter-spacing: 1px\">\n",
       "        <textPath xlink:href=\"#arrow-16590c39511243aab86949e91cd8f400-0-14\" class=\"displacy-label\" startOffset=\"50%\" side=\"left\" fill=\"currentColor\" text-anchor=\"middle\">nummod</textPath>\n",
       "    </text>\n",
       "    <path class=\"displacy-arrowhead\" d=\"M1530.0,254.0 L1538.0,242.0 1522.0,242.0\" fill=\"currentColor\"/>\n",
       "</g>\n",
       "</svg></span>"
      ],
      "text/plain": [
       "<IPython.core.display.HTML object>"
      ]
     },
     "metadata": {},
     "output_type": "display_data"
    }
   ],
   "source": [
    "displacy.render(nlp(sentence),style='ent',jupyter=True)\n",
    "displacy.render(nlp(sentence),style='dep',jupyter=True,options={'distance':100})"
   ]
  },
  {
   "cell_type": "code",
   "execution_count": 53,
   "metadata": {},
   "outputs": [
    {
     "data": {
      "text/plain": [
       "{' flights': [['boston', 'GPE'], ['denver', 'GPE']]}"
      ]
     },
     "execution_count": 53,
     "metadata": {},
     "output_type": "execute_result"
    }
   ],
   "source": [
    "sentence2 = \"show me the flights from boston to denver\"\n",
    "extract_entities(sentence2)"
   ]
  },
  {
   "cell_type": "code",
   "execution_count": 54,
   "metadata": {},
   "outputs": [
    {
     "data": {
      "text/html": [
       "<span class=\"tex2jax_ignore\"><div class=\"entities\" style=\"line-height: 2.5; direction: ltr\">show me the flights from \n",
       "<mark class=\"entity\" style=\"background: #feca74; padding: 0.45em 0.6em; margin: 0 0.25em; line-height: 1; border-radius: 0.35em;\">\n",
       "    boston\n",
       "    <span style=\"font-size: 0.8em; font-weight: bold; line-height: 1; border-radius: 0.35em; vertical-align: middle; margin-left: 0.5rem\">GPE</span>\n",
       "</mark>\n",
       " to \n",
       "<mark class=\"entity\" style=\"background: #feca74; padding: 0.45em 0.6em; margin: 0 0.25em; line-height: 1; border-radius: 0.35em;\">\n",
       "    denver\n",
       "    <span style=\"font-size: 0.8em; font-weight: bold; line-height: 1; border-radius: 0.35em; vertical-align: middle; margin-left: 0.5rem\">GPE</span>\n",
       "</mark>\n",
       "</div></span>"
      ],
      "text/plain": [
       "<IPython.core.display.HTML object>"
      ]
     },
     "metadata": {},
     "output_type": "display_data"
    },
    {
     "data": {
      "text/html": [
       "<span class=\"tex2jax_ignore\"><svg xmlns=\"http://www.w3.org/2000/svg\" xmlns:xlink=\"http://www.w3.org/1999/xlink\" xml:lang=\"en\" id=\"db31f01d2fb946d89db713ad67b23ee6-0\" class=\"displacy\" width=\"850\" height=\"237.0\" direction=\"ltr\" style=\"max-width: none; height: 237.0px; color: #000000; background: #ffffff; font-family: Arial; direction: ltr\">\n",
       "<text class=\"displacy-token\" fill=\"currentColor\" text-anchor=\"middle\" y=\"147.0\">\n",
       "    <tspan class=\"displacy-word\" fill=\"currentColor\" x=\"50\">show</tspan>\n",
       "    <tspan class=\"displacy-tag\" dy=\"2em\" fill=\"currentColor\" x=\"50\">VERB</tspan>\n",
       "</text>\n",
       "\n",
       "<text class=\"displacy-token\" fill=\"currentColor\" text-anchor=\"middle\" y=\"147.0\">\n",
       "    <tspan class=\"displacy-word\" fill=\"currentColor\" x=\"150\">me</tspan>\n",
       "    <tspan class=\"displacy-tag\" dy=\"2em\" fill=\"currentColor\" x=\"150\">PRON</tspan>\n",
       "</text>\n",
       "\n",
       "<text class=\"displacy-token\" fill=\"currentColor\" text-anchor=\"middle\" y=\"147.0\">\n",
       "    <tspan class=\"displacy-word\" fill=\"currentColor\" x=\"250\">the</tspan>\n",
       "    <tspan class=\"displacy-tag\" dy=\"2em\" fill=\"currentColor\" x=\"250\">DET</tspan>\n",
       "</text>\n",
       "\n",
       "<text class=\"displacy-token\" fill=\"currentColor\" text-anchor=\"middle\" y=\"147.0\">\n",
       "    <tspan class=\"displacy-word\" fill=\"currentColor\" x=\"350\">flights</tspan>\n",
       "    <tspan class=\"displacy-tag\" dy=\"2em\" fill=\"currentColor\" x=\"350\">NOUN</tspan>\n",
       "</text>\n",
       "\n",
       "<text class=\"displacy-token\" fill=\"currentColor\" text-anchor=\"middle\" y=\"147.0\">\n",
       "    <tspan class=\"displacy-word\" fill=\"currentColor\" x=\"450\">from</tspan>\n",
       "    <tspan class=\"displacy-tag\" dy=\"2em\" fill=\"currentColor\" x=\"450\">ADP</tspan>\n",
       "</text>\n",
       "\n",
       "<text class=\"displacy-token\" fill=\"currentColor\" text-anchor=\"middle\" y=\"147.0\">\n",
       "    <tspan class=\"displacy-word\" fill=\"currentColor\" x=\"550\">boston</tspan>\n",
       "    <tspan class=\"displacy-tag\" dy=\"2em\" fill=\"currentColor\" x=\"550\">PROPN</tspan>\n",
       "</text>\n",
       "\n",
       "<text class=\"displacy-token\" fill=\"currentColor\" text-anchor=\"middle\" y=\"147.0\">\n",
       "    <tspan class=\"displacy-word\" fill=\"currentColor\" x=\"650\">to</tspan>\n",
       "    <tspan class=\"displacy-tag\" dy=\"2em\" fill=\"currentColor\" x=\"650\">ADP</tspan>\n",
       "</text>\n",
       "\n",
       "<text class=\"displacy-token\" fill=\"currentColor\" text-anchor=\"middle\" y=\"147.0\">\n",
       "    <tspan class=\"displacy-word\" fill=\"currentColor\" x=\"750\">denver</tspan>\n",
       "    <tspan class=\"displacy-tag\" dy=\"2em\" fill=\"currentColor\" x=\"750\">PROPN</tspan>\n",
       "</text>\n",
       "\n",
       "<g class=\"displacy-arrow\">\n",
       "    <path class=\"displacy-arc\" id=\"arrow-db31f01d2fb946d89db713ad67b23ee6-0-0\" stroke-width=\"2px\" d=\"M70,102.0 C70,52.0 145.0,52.0 145.0,102.0\" fill=\"none\" stroke=\"currentColor\"/>\n",
       "    <text dy=\"1.25em\" style=\"font-size: 0.8em; letter-spacing: 1px\">\n",
       "        <textPath xlink:href=\"#arrow-db31f01d2fb946d89db713ad67b23ee6-0-0\" class=\"displacy-label\" startOffset=\"50%\" side=\"left\" fill=\"currentColor\" text-anchor=\"middle\">dative</textPath>\n",
       "    </text>\n",
       "    <path class=\"displacy-arrowhead\" d=\"M145.0,104.0 L153.0,92.0 137.0,92.0\" fill=\"currentColor\"/>\n",
       "</g>\n",
       "\n",
       "<g class=\"displacy-arrow\">\n",
       "    <path class=\"displacy-arc\" id=\"arrow-db31f01d2fb946d89db713ad67b23ee6-0-1\" stroke-width=\"2px\" d=\"M270,102.0 C270,52.0 345.0,52.0 345.0,102.0\" fill=\"none\" stroke=\"currentColor\"/>\n",
       "    <text dy=\"1.25em\" style=\"font-size: 0.8em; letter-spacing: 1px\">\n",
       "        <textPath xlink:href=\"#arrow-db31f01d2fb946d89db713ad67b23ee6-0-1\" class=\"displacy-label\" startOffset=\"50%\" side=\"left\" fill=\"currentColor\" text-anchor=\"middle\">det</textPath>\n",
       "    </text>\n",
       "    <path class=\"displacy-arrowhead\" d=\"M270,104.0 L262,92.0 278,92.0\" fill=\"currentColor\"/>\n",
       "</g>\n",
       "\n",
       "<g class=\"displacy-arrow\">\n",
       "    <path class=\"displacy-arc\" id=\"arrow-db31f01d2fb946d89db713ad67b23ee6-0-2\" stroke-width=\"2px\" d=\"M70,102.0 C70,2.0 350.0,2.0 350.0,102.0\" fill=\"none\" stroke=\"currentColor\"/>\n",
       "    <text dy=\"1.25em\" style=\"font-size: 0.8em; letter-spacing: 1px\">\n",
       "        <textPath xlink:href=\"#arrow-db31f01d2fb946d89db713ad67b23ee6-0-2\" class=\"displacy-label\" startOffset=\"50%\" side=\"left\" fill=\"currentColor\" text-anchor=\"middle\">dobj</textPath>\n",
       "    </text>\n",
       "    <path class=\"displacy-arrowhead\" d=\"M350.0,104.0 L358.0,92.0 342.0,92.0\" fill=\"currentColor\"/>\n",
       "</g>\n",
       "\n",
       "<g class=\"displacy-arrow\">\n",
       "    <path class=\"displacy-arc\" id=\"arrow-db31f01d2fb946d89db713ad67b23ee6-0-3\" stroke-width=\"2px\" d=\"M370,102.0 C370,52.0 445.0,52.0 445.0,102.0\" fill=\"none\" stroke=\"currentColor\"/>\n",
       "    <text dy=\"1.25em\" style=\"font-size: 0.8em; letter-spacing: 1px\">\n",
       "        <textPath xlink:href=\"#arrow-db31f01d2fb946d89db713ad67b23ee6-0-3\" class=\"displacy-label\" startOffset=\"50%\" side=\"left\" fill=\"currentColor\" text-anchor=\"middle\">prep</textPath>\n",
       "    </text>\n",
       "    <path class=\"displacy-arrowhead\" d=\"M445.0,104.0 L453.0,92.0 437.0,92.0\" fill=\"currentColor\"/>\n",
       "</g>\n",
       "\n",
       "<g class=\"displacy-arrow\">\n",
       "    <path class=\"displacy-arc\" id=\"arrow-db31f01d2fb946d89db713ad67b23ee6-0-4\" stroke-width=\"2px\" d=\"M470,102.0 C470,52.0 545.0,52.0 545.0,102.0\" fill=\"none\" stroke=\"currentColor\"/>\n",
       "    <text dy=\"1.25em\" style=\"font-size: 0.8em; letter-spacing: 1px\">\n",
       "        <textPath xlink:href=\"#arrow-db31f01d2fb946d89db713ad67b23ee6-0-4\" class=\"displacy-label\" startOffset=\"50%\" side=\"left\" fill=\"currentColor\" text-anchor=\"middle\">pobj</textPath>\n",
       "    </text>\n",
       "    <path class=\"displacy-arrowhead\" d=\"M545.0,104.0 L553.0,92.0 537.0,92.0\" fill=\"currentColor\"/>\n",
       "</g>\n",
       "\n",
       "<g class=\"displacy-arrow\">\n",
       "    <path class=\"displacy-arc\" id=\"arrow-db31f01d2fb946d89db713ad67b23ee6-0-5\" stroke-width=\"2px\" d=\"M370,102.0 C370,2.0 650.0,2.0 650.0,102.0\" fill=\"none\" stroke=\"currentColor\"/>\n",
       "    <text dy=\"1.25em\" style=\"font-size: 0.8em; letter-spacing: 1px\">\n",
       "        <textPath xlink:href=\"#arrow-db31f01d2fb946d89db713ad67b23ee6-0-5\" class=\"displacy-label\" startOffset=\"50%\" side=\"left\" fill=\"currentColor\" text-anchor=\"middle\">prep</textPath>\n",
       "    </text>\n",
       "    <path class=\"displacy-arrowhead\" d=\"M650.0,104.0 L658.0,92.0 642.0,92.0\" fill=\"currentColor\"/>\n",
       "</g>\n",
       "\n",
       "<g class=\"displacy-arrow\">\n",
       "    <path class=\"displacy-arc\" id=\"arrow-db31f01d2fb946d89db713ad67b23ee6-0-6\" stroke-width=\"2px\" d=\"M670,102.0 C670,52.0 745.0,52.0 745.0,102.0\" fill=\"none\" stroke=\"currentColor\"/>\n",
       "    <text dy=\"1.25em\" style=\"font-size: 0.8em; letter-spacing: 1px\">\n",
       "        <textPath xlink:href=\"#arrow-db31f01d2fb946d89db713ad67b23ee6-0-6\" class=\"displacy-label\" startOffset=\"50%\" side=\"left\" fill=\"currentColor\" text-anchor=\"middle\">pobj</textPath>\n",
       "    </text>\n",
       "    <path class=\"displacy-arrowhead\" d=\"M745.0,104.0 L753.0,92.0 737.0,92.0\" fill=\"currentColor\"/>\n",
       "</g>\n",
       "</svg></span>"
      ],
      "text/plain": [
       "<IPython.core.display.HTML object>"
      ]
     },
     "metadata": {},
     "output_type": "display_data"
    }
   ],
   "source": [
    "displacy.render(nlp(sentence2),style='ent',jupyter=True)\n",
    "displacy.render(nlp(sentence2),style='dep',jupyter=True,options={'distance':100})"
   ]
  },
  {
   "cell_type": "code",
   "execution_count": 55,
   "metadata": {},
   "outputs": [
    {
     "data": {
      "text/plain": [
       "{' aircraft types': [['NYC', 'GPE'],\n",
       "  ['Auckland', 'GPE'],\n",
       "  ['California', 'GPE']]}"
      ]
     },
     "execution_count": 55,
     "metadata": {},
     "output_type": "execute_result"
    }
   ],
   "source": [
    "sentence3 = \"which aircraft types are used in NYC, Auckland and California\"\n",
    "extract_entities(sentence3)"
   ]
  },
  {
   "cell_type": "code",
   "execution_count": 56,
   "metadata": {},
   "outputs": [
    {
     "data": {
      "text/html": [
       "<span class=\"tex2jax_ignore\"><div class=\"entities\" style=\"line-height: 2.5; direction: ltr\">which aircraft types are used in \n",
       "<mark class=\"entity\" style=\"background: #feca74; padding: 0.45em 0.6em; margin: 0 0.25em; line-height: 1; border-radius: 0.35em;\">\n",
       "    NYC\n",
       "    <span style=\"font-size: 0.8em; font-weight: bold; line-height: 1; border-radius: 0.35em; vertical-align: middle; margin-left: 0.5rem\">GPE</span>\n",
       "</mark>\n",
       ", \n",
       "<mark class=\"entity\" style=\"background: #feca74; padding: 0.45em 0.6em; margin: 0 0.25em; line-height: 1; border-radius: 0.35em;\">\n",
       "    Auckland\n",
       "    <span style=\"font-size: 0.8em; font-weight: bold; line-height: 1; border-radius: 0.35em; vertical-align: middle; margin-left: 0.5rem\">GPE</span>\n",
       "</mark>\n",
       " and \n",
       "<mark class=\"entity\" style=\"background: #feca74; padding: 0.45em 0.6em; margin: 0 0.25em; line-height: 1; border-radius: 0.35em;\">\n",
       "    California\n",
       "    <span style=\"font-size: 0.8em; font-weight: bold; line-height: 1; border-radius: 0.35em; vertical-align: middle; margin-left: 0.5rem\">GPE</span>\n",
       "</mark>\n",
       "</div></span>"
      ],
      "text/plain": [
       "<IPython.core.display.HTML object>"
      ]
     },
     "metadata": {},
     "output_type": "display_data"
    },
    {
     "data": {
      "text/html": [
       "<span class=\"tex2jax_ignore\"><svg xmlns=\"http://www.w3.org/2000/svg\" xmlns:xlink=\"http://www.w3.org/1999/xlink\" xml:lang=\"en\" id=\"2a1f1ef8972545f2b3e75986525d7b93-0\" class=\"displacy\" width=\"1050\" height=\"237.0\" direction=\"ltr\" style=\"max-width: none; height: 237.0px; color: #000000; background: #ffffff; font-family: Arial; direction: ltr\">\n",
       "<text class=\"displacy-token\" fill=\"currentColor\" text-anchor=\"middle\" y=\"147.0\">\n",
       "    <tspan class=\"displacy-word\" fill=\"currentColor\" x=\"50\">which</tspan>\n",
       "    <tspan class=\"displacy-tag\" dy=\"2em\" fill=\"currentColor\" x=\"50\">DET</tspan>\n",
       "</text>\n",
       "\n",
       "<text class=\"displacy-token\" fill=\"currentColor\" text-anchor=\"middle\" y=\"147.0\">\n",
       "    <tspan class=\"displacy-word\" fill=\"currentColor\" x=\"150\">aircraft</tspan>\n",
       "    <tspan class=\"displacy-tag\" dy=\"2em\" fill=\"currentColor\" x=\"150\">NOUN</tspan>\n",
       "</text>\n",
       "\n",
       "<text class=\"displacy-token\" fill=\"currentColor\" text-anchor=\"middle\" y=\"147.0\">\n",
       "    <tspan class=\"displacy-word\" fill=\"currentColor\" x=\"250\">types</tspan>\n",
       "    <tspan class=\"displacy-tag\" dy=\"2em\" fill=\"currentColor\" x=\"250\">NOUN</tspan>\n",
       "</text>\n",
       "\n",
       "<text class=\"displacy-token\" fill=\"currentColor\" text-anchor=\"middle\" y=\"147.0\">\n",
       "    <tspan class=\"displacy-word\" fill=\"currentColor\" x=\"350\">are</tspan>\n",
       "    <tspan class=\"displacy-tag\" dy=\"2em\" fill=\"currentColor\" x=\"350\">AUX</tspan>\n",
       "</text>\n",
       "\n",
       "<text class=\"displacy-token\" fill=\"currentColor\" text-anchor=\"middle\" y=\"147.0\">\n",
       "    <tspan class=\"displacy-word\" fill=\"currentColor\" x=\"450\">used</tspan>\n",
       "    <tspan class=\"displacy-tag\" dy=\"2em\" fill=\"currentColor\" x=\"450\">VERB</tspan>\n",
       "</text>\n",
       "\n",
       "<text class=\"displacy-token\" fill=\"currentColor\" text-anchor=\"middle\" y=\"147.0\">\n",
       "    <tspan class=\"displacy-word\" fill=\"currentColor\" x=\"550\">in</tspan>\n",
       "    <tspan class=\"displacy-tag\" dy=\"2em\" fill=\"currentColor\" x=\"550\">ADP</tspan>\n",
       "</text>\n",
       "\n",
       "<text class=\"displacy-token\" fill=\"currentColor\" text-anchor=\"middle\" y=\"147.0\">\n",
       "    <tspan class=\"displacy-word\" fill=\"currentColor\" x=\"650\">NYC,</tspan>\n",
       "    <tspan class=\"displacy-tag\" dy=\"2em\" fill=\"currentColor\" x=\"650\">PROPN</tspan>\n",
       "</text>\n",
       "\n",
       "<text class=\"displacy-token\" fill=\"currentColor\" text-anchor=\"middle\" y=\"147.0\">\n",
       "    <tspan class=\"displacy-word\" fill=\"currentColor\" x=\"750\">Auckland</tspan>\n",
       "    <tspan class=\"displacy-tag\" dy=\"2em\" fill=\"currentColor\" x=\"750\">PROPN</tspan>\n",
       "</text>\n",
       "\n",
       "<text class=\"displacy-token\" fill=\"currentColor\" text-anchor=\"middle\" y=\"147.0\">\n",
       "    <tspan class=\"displacy-word\" fill=\"currentColor\" x=\"850\">and</tspan>\n",
       "    <tspan class=\"displacy-tag\" dy=\"2em\" fill=\"currentColor\" x=\"850\">CCONJ</tspan>\n",
       "</text>\n",
       "\n",
       "<text class=\"displacy-token\" fill=\"currentColor\" text-anchor=\"middle\" y=\"147.0\">\n",
       "    <tspan class=\"displacy-word\" fill=\"currentColor\" x=\"950\">California</tspan>\n",
       "    <tspan class=\"displacy-tag\" dy=\"2em\" fill=\"currentColor\" x=\"950\">PROPN</tspan>\n",
       "</text>\n",
       "\n",
       "<g class=\"displacy-arrow\">\n",
       "    <path class=\"displacy-arc\" id=\"arrow-2a1f1ef8972545f2b3e75986525d7b93-0-0\" stroke-width=\"2px\" d=\"M70,102.0 C70,2.0 250.0,2.0 250.0,102.0\" fill=\"none\" stroke=\"currentColor\"/>\n",
       "    <text dy=\"1.25em\" style=\"font-size: 0.8em; letter-spacing: 1px\">\n",
       "        <textPath xlink:href=\"#arrow-2a1f1ef8972545f2b3e75986525d7b93-0-0\" class=\"displacy-label\" startOffset=\"50%\" side=\"left\" fill=\"currentColor\" text-anchor=\"middle\">det</textPath>\n",
       "    </text>\n",
       "    <path class=\"displacy-arrowhead\" d=\"M70,104.0 L62,92.0 78,92.0\" fill=\"currentColor\"/>\n",
       "</g>\n",
       "\n",
       "<g class=\"displacy-arrow\">\n",
       "    <path class=\"displacy-arc\" id=\"arrow-2a1f1ef8972545f2b3e75986525d7b93-0-1\" stroke-width=\"2px\" d=\"M170,102.0 C170,52.0 245.0,52.0 245.0,102.0\" fill=\"none\" stroke=\"currentColor\"/>\n",
       "    <text dy=\"1.25em\" style=\"font-size: 0.8em; letter-spacing: 1px\">\n",
       "        <textPath xlink:href=\"#arrow-2a1f1ef8972545f2b3e75986525d7b93-0-1\" class=\"displacy-label\" startOffset=\"50%\" side=\"left\" fill=\"currentColor\" text-anchor=\"middle\">compound</textPath>\n",
       "    </text>\n",
       "    <path class=\"displacy-arrowhead\" d=\"M170,104.0 L162,92.0 178,92.0\" fill=\"currentColor\"/>\n",
       "</g>\n",
       "\n",
       "<g class=\"displacy-arrow\">\n",
       "    <path class=\"displacy-arc\" id=\"arrow-2a1f1ef8972545f2b3e75986525d7b93-0-2\" stroke-width=\"2px\" d=\"M270,102.0 C270,2.0 450.0,2.0 450.0,102.0\" fill=\"none\" stroke=\"currentColor\"/>\n",
       "    <text dy=\"1.25em\" style=\"font-size: 0.8em; letter-spacing: 1px\">\n",
       "        <textPath xlink:href=\"#arrow-2a1f1ef8972545f2b3e75986525d7b93-0-2\" class=\"displacy-label\" startOffset=\"50%\" side=\"left\" fill=\"currentColor\" text-anchor=\"middle\">nsubjpass</textPath>\n",
       "    </text>\n",
       "    <path class=\"displacy-arrowhead\" d=\"M270,104.0 L262,92.0 278,92.0\" fill=\"currentColor\"/>\n",
       "</g>\n",
       "\n",
       "<g class=\"displacy-arrow\">\n",
       "    <path class=\"displacy-arc\" id=\"arrow-2a1f1ef8972545f2b3e75986525d7b93-0-3\" stroke-width=\"2px\" d=\"M370,102.0 C370,52.0 445.0,52.0 445.0,102.0\" fill=\"none\" stroke=\"currentColor\"/>\n",
       "    <text dy=\"1.25em\" style=\"font-size: 0.8em; letter-spacing: 1px\">\n",
       "        <textPath xlink:href=\"#arrow-2a1f1ef8972545f2b3e75986525d7b93-0-3\" class=\"displacy-label\" startOffset=\"50%\" side=\"left\" fill=\"currentColor\" text-anchor=\"middle\">auxpass</textPath>\n",
       "    </text>\n",
       "    <path class=\"displacy-arrowhead\" d=\"M370,104.0 L362,92.0 378,92.0\" fill=\"currentColor\"/>\n",
       "</g>\n",
       "\n",
       "<g class=\"displacy-arrow\">\n",
       "    <path class=\"displacy-arc\" id=\"arrow-2a1f1ef8972545f2b3e75986525d7b93-0-4\" stroke-width=\"2px\" d=\"M470,102.0 C470,52.0 545.0,52.0 545.0,102.0\" fill=\"none\" stroke=\"currentColor\"/>\n",
       "    <text dy=\"1.25em\" style=\"font-size: 0.8em; letter-spacing: 1px\">\n",
       "        <textPath xlink:href=\"#arrow-2a1f1ef8972545f2b3e75986525d7b93-0-4\" class=\"displacy-label\" startOffset=\"50%\" side=\"left\" fill=\"currentColor\" text-anchor=\"middle\">prep</textPath>\n",
       "    </text>\n",
       "    <path class=\"displacy-arrowhead\" d=\"M545.0,104.0 L553.0,92.0 537.0,92.0\" fill=\"currentColor\"/>\n",
       "</g>\n",
       "\n",
       "<g class=\"displacy-arrow\">\n",
       "    <path class=\"displacy-arc\" id=\"arrow-2a1f1ef8972545f2b3e75986525d7b93-0-5\" stroke-width=\"2px\" d=\"M570,102.0 C570,52.0 645.0,52.0 645.0,102.0\" fill=\"none\" stroke=\"currentColor\"/>\n",
       "    <text dy=\"1.25em\" style=\"font-size: 0.8em; letter-spacing: 1px\">\n",
       "        <textPath xlink:href=\"#arrow-2a1f1ef8972545f2b3e75986525d7b93-0-5\" class=\"displacy-label\" startOffset=\"50%\" side=\"left\" fill=\"currentColor\" text-anchor=\"middle\">pobj</textPath>\n",
       "    </text>\n",
       "    <path class=\"displacy-arrowhead\" d=\"M645.0,104.0 L653.0,92.0 637.0,92.0\" fill=\"currentColor\"/>\n",
       "</g>\n",
       "\n",
       "<g class=\"displacy-arrow\">\n",
       "    <path class=\"displacy-arc\" id=\"arrow-2a1f1ef8972545f2b3e75986525d7b93-0-6\" stroke-width=\"2px\" d=\"M670,102.0 C670,52.0 745.0,52.0 745.0,102.0\" fill=\"none\" stroke=\"currentColor\"/>\n",
       "    <text dy=\"1.25em\" style=\"font-size: 0.8em; letter-spacing: 1px\">\n",
       "        <textPath xlink:href=\"#arrow-2a1f1ef8972545f2b3e75986525d7b93-0-6\" class=\"displacy-label\" startOffset=\"50%\" side=\"left\" fill=\"currentColor\" text-anchor=\"middle\">conj</textPath>\n",
       "    </text>\n",
       "    <path class=\"displacy-arrowhead\" d=\"M745.0,104.0 L753.0,92.0 737.0,92.0\" fill=\"currentColor\"/>\n",
       "</g>\n",
       "\n",
       "<g class=\"displacy-arrow\">\n",
       "    <path class=\"displacy-arc\" id=\"arrow-2a1f1ef8972545f2b3e75986525d7b93-0-7\" stroke-width=\"2px\" d=\"M770,102.0 C770,52.0 845.0,52.0 845.0,102.0\" fill=\"none\" stroke=\"currentColor\"/>\n",
       "    <text dy=\"1.25em\" style=\"font-size: 0.8em; letter-spacing: 1px\">\n",
       "        <textPath xlink:href=\"#arrow-2a1f1ef8972545f2b3e75986525d7b93-0-7\" class=\"displacy-label\" startOffset=\"50%\" side=\"left\" fill=\"currentColor\" text-anchor=\"middle\">cc</textPath>\n",
       "    </text>\n",
       "    <path class=\"displacy-arrowhead\" d=\"M845.0,104.0 L853.0,92.0 837.0,92.0\" fill=\"currentColor\"/>\n",
       "</g>\n",
       "\n",
       "<g class=\"displacy-arrow\">\n",
       "    <path class=\"displacy-arc\" id=\"arrow-2a1f1ef8972545f2b3e75986525d7b93-0-8\" stroke-width=\"2px\" d=\"M770,102.0 C770,2.0 950.0,2.0 950.0,102.0\" fill=\"none\" stroke=\"currentColor\"/>\n",
       "    <text dy=\"1.25em\" style=\"font-size: 0.8em; letter-spacing: 1px\">\n",
       "        <textPath xlink:href=\"#arrow-2a1f1ef8972545f2b3e75986525d7b93-0-8\" class=\"displacy-label\" startOffset=\"50%\" side=\"left\" fill=\"currentColor\" text-anchor=\"middle\">conj</textPath>\n",
       "    </text>\n",
       "    <path class=\"displacy-arrowhead\" d=\"M950.0,104.0 L958.0,92.0 942.0,92.0\" fill=\"currentColor\"/>\n",
       "</g>\n",
       "</svg></span>"
      ],
      "text/plain": [
       "<IPython.core.display.HTML object>"
      ]
     },
     "metadata": {},
     "output_type": "display_data"
    }
   ],
   "source": [
    "displacy.render(nlp(sentence3),style='ent',jupyter=True)\n",
    "displacy.render(nlp(sentence3),style='dep',jupyter=True,options={'distance':100})"
   ]
  },
  {
   "cell_type": "code",
   "execution_count": 57,
   "metadata": {},
   "outputs": [
    {
     "data": {
      "text/plain": [
       "{' flight': [['nashville', 'GPE'],\n",
       "  ['seattle', 'GPE'],\n",
       "  ['no later than 3 pm', 'TIME']]}"
      ]
     },
     "execution_count": 57,
     "metadata": {},
     "output_type": "execute_result"
    }
   ],
   "source": [
    "sentence4 = atis_1_test['tokens'][1]\n",
    "extract_entities(sentence4)"
   ]
  },
  {
   "cell_type": "code",
   "execution_count": 58,
   "metadata": {},
   "outputs": [
    {
     "data": {
      "text/html": [
       "<span class=\"tex2jax_ignore\"><div class=\"entities\" style=\"line-height: 2.5; direction: ltr\">i want a flight from \n",
       "<mark class=\"entity\" style=\"background: #feca74; padding: 0.45em 0.6em; margin: 0 0.25em; line-height: 1; border-radius: 0.35em;\">\n",
       "    nashville\n",
       "    <span style=\"font-size: 0.8em; font-weight: bold; line-height: 1; border-radius: 0.35em; vertical-align: middle; margin-left: 0.5rem\">GPE</span>\n",
       "</mark>\n",
       " to \n",
       "<mark class=\"entity\" style=\"background: #feca74; padding: 0.45em 0.6em; margin: 0 0.25em; line-height: 1; border-radius: 0.35em;\">\n",
       "    seattle\n",
       "    <span style=\"font-size: 0.8em; font-weight: bold; line-height: 1; border-radius: 0.35em; vertical-align: middle; margin-left: 0.5rem\">GPE</span>\n",
       "</mark>\n",
       " that arrives \n",
       "<mark class=\"entity\" style=\"background: #bfe1d9; padding: 0.45em 0.6em; margin: 0 0.25em; line-height: 1; border-radius: 0.35em;\">\n",
       "    no later than 3 pm\n",
       "    <span style=\"font-size: 0.8em; font-weight: bold; line-height: 1; border-radius: 0.35em; vertical-align: middle; margin-left: 0.5rem\">TIME</span>\n",
       "</mark>\n",
       "</div></span>"
      ],
      "text/plain": [
       "<IPython.core.display.HTML object>"
      ]
     },
     "metadata": {},
     "output_type": "display_data"
    },
    {
     "data": {
      "text/html": [
       "<span class=\"tex2jax_ignore\"><svg xmlns=\"http://www.w3.org/2000/svg\" xmlns:xlink=\"http://www.w3.org/1999/xlink\" xml:lang=\"en\" id=\"590b6380f8774aaba7319ee4576e488a-0\" class=\"displacy\" width=\"1550\" height=\"387.0\" direction=\"ltr\" style=\"max-width: none; height: 387.0px; color: #000000; background: #ffffff; font-family: Arial; direction: ltr\">\n",
       "<text class=\"displacy-token\" fill=\"currentColor\" text-anchor=\"middle\" y=\"297.0\">\n",
       "    <tspan class=\"displacy-word\" fill=\"currentColor\" x=\"50\">i</tspan>\n",
       "    <tspan class=\"displacy-tag\" dy=\"2em\" fill=\"currentColor\" x=\"50\">PRON</tspan>\n",
       "</text>\n",
       "\n",
       "<text class=\"displacy-token\" fill=\"currentColor\" text-anchor=\"middle\" y=\"297.0\">\n",
       "    <tspan class=\"displacy-word\" fill=\"currentColor\" x=\"150\">want</tspan>\n",
       "    <tspan class=\"displacy-tag\" dy=\"2em\" fill=\"currentColor\" x=\"150\">VERB</tspan>\n",
       "</text>\n",
       "\n",
       "<text class=\"displacy-token\" fill=\"currentColor\" text-anchor=\"middle\" y=\"297.0\">\n",
       "    <tspan class=\"displacy-word\" fill=\"currentColor\" x=\"250\">a</tspan>\n",
       "    <tspan class=\"displacy-tag\" dy=\"2em\" fill=\"currentColor\" x=\"250\">DET</tspan>\n",
       "</text>\n",
       "\n",
       "<text class=\"displacy-token\" fill=\"currentColor\" text-anchor=\"middle\" y=\"297.0\">\n",
       "    <tspan class=\"displacy-word\" fill=\"currentColor\" x=\"350\">flight</tspan>\n",
       "    <tspan class=\"displacy-tag\" dy=\"2em\" fill=\"currentColor\" x=\"350\">NOUN</tspan>\n",
       "</text>\n",
       "\n",
       "<text class=\"displacy-token\" fill=\"currentColor\" text-anchor=\"middle\" y=\"297.0\">\n",
       "    <tspan class=\"displacy-word\" fill=\"currentColor\" x=\"450\">from</tspan>\n",
       "    <tspan class=\"displacy-tag\" dy=\"2em\" fill=\"currentColor\" x=\"450\">ADP</tspan>\n",
       "</text>\n",
       "\n",
       "<text class=\"displacy-token\" fill=\"currentColor\" text-anchor=\"middle\" y=\"297.0\">\n",
       "    <tspan class=\"displacy-word\" fill=\"currentColor\" x=\"550\">nashville</tspan>\n",
       "    <tspan class=\"displacy-tag\" dy=\"2em\" fill=\"currentColor\" x=\"550\">PROPN</tspan>\n",
       "</text>\n",
       "\n",
       "<text class=\"displacy-token\" fill=\"currentColor\" text-anchor=\"middle\" y=\"297.0\">\n",
       "    <tspan class=\"displacy-word\" fill=\"currentColor\" x=\"650\">to</tspan>\n",
       "    <tspan class=\"displacy-tag\" dy=\"2em\" fill=\"currentColor\" x=\"650\">ADP</tspan>\n",
       "</text>\n",
       "\n",
       "<text class=\"displacy-token\" fill=\"currentColor\" text-anchor=\"middle\" y=\"297.0\">\n",
       "    <tspan class=\"displacy-word\" fill=\"currentColor\" x=\"750\">seattle</tspan>\n",
       "    <tspan class=\"displacy-tag\" dy=\"2em\" fill=\"currentColor\" x=\"750\">PROPN</tspan>\n",
       "</text>\n",
       "\n",
       "<text class=\"displacy-token\" fill=\"currentColor\" text-anchor=\"middle\" y=\"297.0\">\n",
       "    <tspan class=\"displacy-word\" fill=\"currentColor\" x=\"850\">that</tspan>\n",
       "    <tspan class=\"displacy-tag\" dy=\"2em\" fill=\"currentColor\" x=\"850\">DET</tspan>\n",
       "</text>\n",
       "\n",
       "<text class=\"displacy-token\" fill=\"currentColor\" text-anchor=\"middle\" y=\"297.0\">\n",
       "    <tspan class=\"displacy-word\" fill=\"currentColor\" x=\"950\">arrives</tspan>\n",
       "    <tspan class=\"displacy-tag\" dy=\"2em\" fill=\"currentColor\" x=\"950\">VERB</tspan>\n",
       "</text>\n",
       "\n",
       "<text class=\"displacy-token\" fill=\"currentColor\" text-anchor=\"middle\" y=\"297.0\">\n",
       "    <tspan class=\"displacy-word\" fill=\"currentColor\" x=\"1050\">no</tspan>\n",
       "    <tspan class=\"displacy-tag\" dy=\"2em\" fill=\"currentColor\" x=\"1050\">DET</tspan>\n",
       "</text>\n",
       "\n",
       "<text class=\"displacy-token\" fill=\"currentColor\" text-anchor=\"middle\" y=\"297.0\">\n",
       "    <tspan class=\"displacy-word\" fill=\"currentColor\" x=\"1150\">later</tspan>\n",
       "    <tspan class=\"displacy-tag\" dy=\"2em\" fill=\"currentColor\" x=\"1150\">ADV</tspan>\n",
       "</text>\n",
       "\n",
       "<text class=\"displacy-token\" fill=\"currentColor\" text-anchor=\"middle\" y=\"297.0\">\n",
       "    <tspan class=\"displacy-word\" fill=\"currentColor\" x=\"1250\">than</tspan>\n",
       "    <tspan class=\"displacy-tag\" dy=\"2em\" fill=\"currentColor\" x=\"1250\">SCONJ</tspan>\n",
       "</text>\n",
       "\n",
       "<text class=\"displacy-token\" fill=\"currentColor\" text-anchor=\"middle\" y=\"297.0\">\n",
       "    <tspan class=\"displacy-word\" fill=\"currentColor\" x=\"1350\">3</tspan>\n",
       "    <tspan class=\"displacy-tag\" dy=\"2em\" fill=\"currentColor\" x=\"1350\">NUM</tspan>\n",
       "</text>\n",
       "\n",
       "<text class=\"displacy-token\" fill=\"currentColor\" text-anchor=\"middle\" y=\"297.0\">\n",
       "    <tspan class=\"displacy-word\" fill=\"currentColor\" x=\"1450\">pm</tspan>\n",
       "    <tspan class=\"displacy-tag\" dy=\"2em\" fill=\"currentColor\" x=\"1450\">NOUN</tspan>\n",
       "</text>\n",
       "\n",
       "<g class=\"displacy-arrow\">\n",
       "    <path class=\"displacy-arc\" id=\"arrow-590b6380f8774aaba7319ee4576e488a-0-0\" stroke-width=\"2px\" d=\"M70,252.0 C70,202.0 130.0,202.0 130.0,252.0\" fill=\"none\" stroke=\"currentColor\"/>\n",
       "    <text dy=\"1.25em\" style=\"font-size: 0.8em; letter-spacing: 1px\">\n",
       "        <textPath xlink:href=\"#arrow-590b6380f8774aaba7319ee4576e488a-0-0\" class=\"displacy-label\" startOffset=\"50%\" side=\"left\" fill=\"currentColor\" text-anchor=\"middle\">nsubj</textPath>\n",
       "    </text>\n",
       "    <path class=\"displacy-arrowhead\" d=\"M70,254.0 L62,242.0 78,242.0\" fill=\"currentColor\"/>\n",
       "</g>\n",
       "\n",
       "<g class=\"displacy-arrow\">\n",
       "    <path class=\"displacy-arc\" id=\"arrow-590b6380f8774aaba7319ee4576e488a-0-1\" stroke-width=\"2px\" d=\"M270,252.0 C270,202.0 330.0,202.0 330.0,252.0\" fill=\"none\" stroke=\"currentColor\"/>\n",
       "    <text dy=\"1.25em\" style=\"font-size: 0.8em; letter-spacing: 1px\">\n",
       "        <textPath xlink:href=\"#arrow-590b6380f8774aaba7319ee4576e488a-0-1\" class=\"displacy-label\" startOffset=\"50%\" side=\"left\" fill=\"currentColor\" text-anchor=\"middle\">det</textPath>\n",
       "    </text>\n",
       "    <path class=\"displacy-arrowhead\" d=\"M270,254.0 L262,242.0 278,242.0\" fill=\"currentColor\"/>\n",
       "</g>\n",
       "\n",
       "<g class=\"displacy-arrow\">\n",
       "    <path class=\"displacy-arc\" id=\"arrow-590b6380f8774aaba7319ee4576e488a-0-2\" stroke-width=\"2px\" d=\"M170,252.0 C170,152.0 335.0,152.0 335.0,252.0\" fill=\"none\" stroke=\"currentColor\"/>\n",
       "    <text dy=\"1.25em\" style=\"font-size: 0.8em; letter-spacing: 1px\">\n",
       "        <textPath xlink:href=\"#arrow-590b6380f8774aaba7319ee4576e488a-0-2\" class=\"displacy-label\" startOffset=\"50%\" side=\"left\" fill=\"currentColor\" text-anchor=\"middle\">dobj</textPath>\n",
       "    </text>\n",
       "    <path class=\"displacy-arrowhead\" d=\"M335.0,254.0 L343.0,242.0 327.0,242.0\" fill=\"currentColor\"/>\n",
       "</g>\n",
       "\n",
       "<g class=\"displacy-arrow\">\n",
       "    <path class=\"displacy-arc\" id=\"arrow-590b6380f8774aaba7319ee4576e488a-0-3\" stroke-width=\"2px\" d=\"M370,252.0 C370,202.0 430.0,202.0 430.0,252.0\" fill=\"none\" stroke=\"currentColor\"/>\n",
       "    <text dy=\"1.25em\" style=\"font-size: 0.8em; letter-spacing: 1px\">\n",
       "        <textPath xlink:href=\"#arrow-590b6380f8774aaba7319ee4576e488a-0-3\" class=\"displacy-label\" startOffset=\"50%\" side=\"left\" fill=\"currentColor\" text-anchor=\"middle\">prep</textPath>\n",
       "    </text>\n",
       "    <path class=\"displacy-arrowhead\" d=\"M430.0,254.0 L438.0,242.0 422.0,242.0\" fill=\"currentColor\"/>\n",
       "</g>\n",
       "\n",
       "<g class=\"displacy-arrow\">\n",
       "    <path class=\"displacy-arc\" id=\"arrow-590b6380f8774aaba7319ee4576e488a-0-4\" stroke-width=\"2px\" d=\"M470,252.0 C470,202.0 530.0,202.0 530.0,252.0\" fill=\"none\" stroke=\"currentColor\"/>\n",
       "    <text dy=\"1.25em\" style=\"font-size: 0.8em; letter-spacing: 1px\">\n",
       "        <textPath xlink:href=\"#arrow-590b6380f8774aaba7319ee4576e488a-0-4\" class=\"displacy-label\" startOffset=\"50%\" side=\"left\" fill=\"currentColor\" text-anchor=\"middle\">pobj</textPath>\n",
       "    </text>\n",
       "    <path class=\"displacy-arrowhead\" d=\"M530.0,254.0 L538.0,242.0 522.0,242.0\" fill=\"currentColor\"/>\n",
       "</g>\n",
       "\n",
       "<g class=\"displacy-arrow\">\n",
       "    <path class=\"displacy-arc\" id=\"arrow-590b6380f8774aaba7319ee4576e488a-0-5\" stroke-width=\"2px\" d=\"M370,252.0 C370,102.0 640.0,102.0 640.0,252.0\" fill=\"none\" stroke=\"currentColor\"/>\n",
       "    <text dy=\"1.25em\" style=\"font-size: 0.8em; letter-spacing: 1px\">\n",
       "        <textPath xlink:href=\"#arrow-590b6380f8774aaba7319ee4576e488a-0-5\" class=\"displacy-label\" startOffset=\"50%\" side=\"left\" fill=\"currentColor\" text-anchor=\"middle\">prep</textPath>\n",
       "    </text>\n",
       "    <path class=\"displacy-arrowhead\" d=\"M640.0,254.0 L648.0,242.0 632.0,242.0\" fill=\"currentColor\"/>\n",
       "</g>\n",
       "\n",
       "<g class=\"displacy-arrow\">\n",
       "    <path class=\"displacy-arc\" id=\"arrow-590b6380f8774aaba7319ee4576e488a-0-6\" stroke-width=\"2px\" d=\"M670,252.0 C670,202.0 730.0,202.0 730.0,252.0\" fill=\"none\" stroke=\"currentColor\"/>\n",
       "    <text dy=\"1.25em\" style=\"font-size: 0.8em; letter-spacing: 1px\">\n",
       "        <textPath xlink:href=\"#arrow-590b6380f8774aaba7319ee4576e488a-0-6\" class=\"displacy-label\" startOffset=\"50%\" side=\"left\" fill=\"currentColor\" text-anchor=\"middle\">pobj</textPath>\n",
       "    </text>\n",
       "    <path class=\"displacy-arrowhead\" d=\"M730.0,254.0 L738.0,242.0 722.0,242.0\" fill=\"currentColor\"/>\n",
       "</g>\n",
       "\n",
       "<g class=\"displacy-arrow\">\n",
       "    <path class=\"displacy-arc\" id=\"arrow-590b6380f8774aaba7319ee4576e488a-0-7\" stroke-width=\"2px\" d=\"M870,252.0 C870,202.0 930.0,202.0 930.0,252.0\" fill=\"none\" stroke=\"currentColor\"/>\n",
       "    <text dy=\"1.25em\" style=\"font-size: 0.8em; letter-spacing: 1px\">\n",
       "        <textPath xlink:href=\"#arrow-590b6380f8774aaba7319ee4576e488a-0-7\" class=\"displacy-label\" startOffset=\"50%\" side=\"left\" fill=\"currentColor\" text-anchor=\"middle\">nsubj</textPath>\n",
       "    </text>\n",
       "    <path class=\"displacy-arrowhead\" d=\"M870,254.0 L862,242.0 878,242.0\" fill=\"currentColor\"/>\n",
       "</g>\n",
       "\n",
       "<g class=\"displacy-arrow\">\n",
       "    <path class=\"displacy-arc\" id=\"arrow-590b6380f8774aaba7319ee4576e488a-0-8\" stroke-width=\"2px\" d=\"M370,252.0 C370,52.0 945.0,52.0 945.0,252.0\" fill=\"none\" stroke=\"currentColor\"/>\n",
       "    <text dy=\"1.25em\" style=\"font-size: 0.8em; letter-spacing: 1px\">\n",
       "        <textPath xlink:href=\"#arrow-590b6380f8774aaba7319ee4576e488a-0-8\" class=\"displacy-label\" startOffset=\"50%\" side=\"left\" fill=\"currentColor\" text-anchor=\"middle\">relcl</textPath>\n",
       "    </text>\n",
       "    <path class=\"displacy-arrowhead\" d=\"M945.0,254.0 L953.0,242.0 937.0,242.0\" fill=\"currentColor\"/>\n",
       "</g>\n",
       "\n",
       "<g class=\"displacy-arrow\">\n",
       "    <path class=\"displacy-arc\" id=\"arrow-590b6380f8774aaba7319ee4576e488a-0-9\" stroke-width=\"2px\" d=\"M1070,252.0 C1070,202.0 1130.0,202.0 1130.0,252.0\" fill=\"none\" stroke=\"currentColor\"/>\n",
       "    <text dy=\"1.25em\" style=\"font-size: 0.8em; letter-spacing: 1px\">\n",
       "        <textPath xlink:href=\"#arrow-590b6380f8774aaba7319ee4576e488a-0-9\" class=\"displacy-label\" startOffset=\"50%\" side=\"left\" fill=\"currentColor\" text-anchor=\"middle\">neg</textPath>\n",
       "    </text>\n",
       "    <path class=\"displacy-arrowhead\" d=\"M1070,254.0 L1062,242.0 1078,242.0\" fill=\"currentColor\"/>\n",
       "</g>\n",
       "\n",
       "<g class=\"displacy-arrow\">\n",
       "    <path class=\"displacy-arc\" id=\"arrow-590b6380f8774aaba7319ee4576e488a-0-10\" stroke-width=\"2px\" d=\"M970,252.0 C970,152.0 1135.0,152.0 1135.0,252.0\" fill=\"none\" stroke=\"currentColor\"/>\n",
       "    <text dy=\"1.25em\" style=\"font-size: 0.8em; letter-spacing: 1px\">\n",
       "        <textPath xlink:href=\"#arrow-590b6380f8774aaba7319ee4576e488a-0-10\" class=\"displacy-label\" startOffset=\"50%\" side=\"left\" fill=\"currentColor\" text-anchor=\"middle\">advmod</textPath>\n",
       "    </text>\n",
       "    <path class=\"displacy-arrowhead\" d=\"M1135.0,254.0 L1143.0,242.0 1127.0,242.0\" fill=\"currentColor\"/>\n",
       "</g>\n",
       "\n",
       "<g class=\"displacy-arrow\">\n",
       "    <path class=\"displacy-arc\" id=\"arrow-590b6380f8774aaba7319ee4576e488a-0-11\" stroke-width=\"2px\" d=\"M170,252.0 C170,2.0 1250.0,2.0 1250.0,252.0\" fill=\"none\" stroke=\"currentColor\"/>\n",
       "    <text dy=\"1.25em\" style=\"font-size: 0.8em; letter-spacing: 1px\">\n",
       "        <textPath xlink:href=\"#arrow-590b6380f8774aaba7319ee4576e488a-0-11\" class=\"displacy-label\" startOffset=\"50%\" side=\"left\" fill=\"currentColor\" text-anchor=\"middle\">prep</textPath>\n",
       "    </text>\n",
       "    <path class=\"displacy-arrowhead\" d=\"M1250.0,254.0 L1258.0,242.0 1242.0,242.0\" fill=\"currentColor\"/>\n",
       "</g>\n",
       "\n",
       "<g class=\"displacy-arrow\">\n",
       "    <path class=\"displacy-arc\" id=\"arrow-590b6380f8774aaba7319ee4576e488a-0-12\" stroke-width=\"2px\" d=\"M1370,252.0 C1370,202.0 1430.0,202.0 1430.0,252.0\" fill=\"none\" stroke=\"currentColor\"/>\n",
       "    <text dy=\"1.25em\" style=\"font-size: 0.8em; letter-spacing: 1px\">\n",
       "        <textPath xlink:href=\"#arrow-590b6380f8774aaba7319ee4576e488a-0-12\" class=\"displacy-label\" startOffset=\"50%\" side=\"left\" fill=\"currentColor\" text-anchor=\"middle\">nummod</textPath>\n",
       "    </text>\n",
       "    <path class=\"displacy-arrowhead\" d=\"M1370,254.0 L1362,242.0 1378,242.0\" fill=\"currentColor\"/>\n",
       "</g>\n",
       "\n",
       "<g class=\"displacy-arrow\">\n",
       "    <path class=\"displacy-arc\" id=\"arrow-590b6380f8774aaba7319ee4576e488a-0-13\" stroke-width=\"2px\" d=\"M1270,252.0 C1270,152.0 1435.0,152.0 1435.0,252.0\" fill=\"none\" stroke=\"currentColor\"/>\n",
       "    <text dy=\"1.25em\" style=\"font-size: 0.8em; letter-spacing: 1px\">\n",
       "        <textPath xlink:href=\"#arrow-590b6380f8774aaba7319ee4576e488a-0-13\" class=\"displacy-label\" startOffset=\"50%\" side=\"left\" fill=\"currentColor\" text-anchor=\"middle\">pobj</textPath>\n",
       "    </text>\n",
       "    <path class=\"displacy-arrowhead\" d=\"M1435.0,254.0 L1443.0,242.0 1427.0,242.0\" fill=\"currentColor\"/>\n",
       "</g>\n",
       "</svg></span>"
      ],
      "text/plain": [
       "<IPython.core.display.HTML object>"
      ]
     },
     "metadata": {},
     "output_type": "display_data"
    }
   ],
   "source": [
    "displacy.render(nlp(sentence4),style='ent',jupyter=True)\n",
    "displacy.render(nlp(sentence4),style='dep',jupyter=True,options={'distance':100})"
   ]
  },
  {
   "cell_type": "code",
   "execution_count": 59,
   "metadata": {},
   "outputs": [],
   "source": [
    "#doc = nlp(atis_1_test['tokens'][1])\n",
    "#pos_sentences = [(token.text,token.pos_) for token in doc]\n",
    "#print(pos_sentences)"
   ]
  },
  {
   "cell_type": "code",
   "execution_count": 60,
   "metadata": {},
   "outputs": [
    {
     "data": {
      "text/plain": [
       "{' cost': [['pittsburgh', 'GPE'],\n",
       "  ['atlanta', 'GPE'],\n",
       "  ['april twenty fifth', 'DATE'],\n",
       "  ['may sixth', 'DATE']],\n",
       " ' trip flight': [['pittsburgh', 'GPE'],\n",
       "  ['atlanta', 'GPE'],\n",
       "  ['april twenty fifth', 'DATE'],\n",
       "  ['may sixth', 'DATE']],\n",
       " ' flight': [['pittsburgh', 'GPE'],\n",
       "  ['atlanta', 'GPE'],\n",
       "  ['april twenty fifth', 'DATE'],\n",
       "  ['may sixth', 'DATE']]}"
      ]
     },
     "execution_count": 60,
     "metadata": {},
     "output_type": "execute_result"
    }
   ],
   "source": [
    "sentence5 =  atis_1_train[\"tokens\"][0]\n",
    "extract_entities(sentence5)"
   ]
  },
  {
   "cell_type": "code",
   "execution_count": 61,
   "metadata": {},
   "outputs": [
    {
     "data": {
      "text/html": [
       "<span class=\"tex2jax_ignore\"><div class=\"entities\" style=\"line-height: 2.5; direction: ltr\">what is the cost of a round trip flight from \n",
       "<mark class=\"entity\" style=\"background: #feca74; padding: 0.45em 0.6em; margin: 0 0.25em; line-height: 1; border-radius: 0.35em;\">\n",
       "    pittsburgh\n",
       "    <span style=\"font-size: 0.8em; font-weight: bold; line-height: 1; border-radius: 0.35em; vertical-align: middle; margin-left: 0.5rem\">GPE</span>\n",
       "</mark>\n",
       " to \n",
       "<mark class=\"entity\" style=\"background: #feca74; padding: 0.45em 0.6em; margin: 0 0.25em; line-height: 1; border-radius: 0.35em;\">\n",
       "    atlanta\n",
       "    <span style=\"font-size: 0.8em; font-weight: bold; line-height: 1; border-radius: 0.35em; vertical-align: middle; margin-left: 0.5rem\">GPE</span>\n",
       "</mark>\n",
       " beginning on \n",
       "<mark class=\"entity\" style=\"background: #bfe1d9; padding: 0.45em 0.6em; margin: 0 0.25em; line-height: 1; border-radius: 0.35em;\">\n",
       "    april twenty fifth\n",
       "    <span style=\"font-size: 0.8em; font-weight: bold; line-height: 1; border-radius: 0.35em; vertical-align: middle; margin-left: 0.5rem\">DATE</span>\n",
       "</mark>\n",
       " and returning on \n",
       "<mark class=\"entity\" style=\"background: #bfe1d9; padding: 0.45em 0.6em; margin: 0 0.25em; line-height: 1; border-radius: 0.35em;\">\n",
       "    may sixth\n",
       "    <span style=\"font-size: 0.8em; font-weight: bold; line-height: 1; border-radius: 0.35em; vertical-align: middle; margin-left: 0.5rem\">DATE</span>\n",
       "</mark>\n",
       "</div></span>"
      ],
      "text/plain": [
       "<IPython.core.display.HTML object>"
      ]
     },
     "metadata": {},
     "output_type": "display_data"
    },
    {
     "data": {
      "text/html": [
       "<span class=\"tex2jax_ignore\"><svg xmlns=\"http://www.w3.org/2000/svg\" xmlns:xlink=\"http://www.w3.org/1999/xlink\" xml:lang=\"en\" id=\"13338698a78f42b1a1655fd14d7f8e4c-0\" class=\"displacy\" width=\"3500\" height=\"812.0\" direction=\"ltr\" style=\"max-width: none; height: 812.0px; color: #000000; background: #ffffff; font-family: Arial; direction: ltr\">\n",
       "<text class=\"displacy-token\" fill=\"currentColor\" text-anchor=\"middle\" y=\"722.0\">\n",
       "    <tspan class=\"displacy-word\" fill=\"currentColor\" x=\"50\">what</tspan>\n",
       "    <tspan class=\"displacy-tag\" dy=\"2em\" fill=\"currentColor\" x=\"50\">PRON</tspan>\n",
       "</text>\n",
       "\n",
       "<text class=\"displacy-token\" fill=\"currentColor\" text-anchor=\"middle\" y=\"722.0\">\n",
       "    <tspan class=\"displacy-word\" fill=\"currentColor\" x=\"200\">is</tspan>\n",
       "    <tspan class=\"displacy-tag\" dy=\"2em\" fill=\"currentColor\" x=\"200\">AUX</tspan>\n",
       "</text>\n",
       "\n",
       "<text class=\"displacy-token\" fill=\"currentColor\" text-anchor=\"middle\" y=\"722.0\">\n",
       "    <tspan class=\"displacy-word\" fill=\"currentColor\" x=\"350\">the</tspan>\n",
       "    <tspan class=\"displacy-tag\" dy=\"2em\" fill=\"currentColor\" x=\"350\">DET</tspan>\n",
       "</text>\n",
       "\n",
       "<text class=\"displacy-token\" fill=\"currentColor\" text-anchor=\"middle\" y=\"722.0\">\n",
       "    <tspan class=\"displacy-word\" fill=\"currentColor\" x=\"500\">cost</tspan>\n",
       "    <tspan class=\"displacy-tag\" dy=\"2em\" fill=\"currentColor\" x=\"500\">NOUN</tspan>\n",
       "</text>\n",
       "\n",
       "<text class=\"displacy-token\" fill=\"currentColor\" text-anchor=\"middle\" y=\"722.0\">\n",
       "    <tspan class=\"displacy-word\" fill=\"currentColor\" x=\"650\">of</tspan>\n",
       "    <tspan class=\"displacy-tag\" dy=\"2em\" fill=\"currentColor\" x=\"650\">ADP</tspan>\n",
       "</text>\n",
       "\n",
       "<text class=\"displacy-token\" fill=\"currentColor\" text-anchor=\"middle\" y=\"722.0\">\n",
       "    <tspan class=\"displacy-word\" fill=\"currentColor\" x=\"800\">a</tspan>\n",
       "    <tspan class=\"displacy-tag\" dy=\"2em\" fill=\"currentColor\" x=\"800\">DET</tspan>\n",
       "</text>\n",
       "\n",
       "<text class=\"displacy-token\" fill=\"currentColor\" text-anchor=\"middle\" y=\"722.0\">\n",
       "    <tspan class=\"displacy-word\" fill=\"currentColor\" x=\"950\">round</tspan>\n",
       "    <tspan class=\"displacy-tag\" dy=\"2em\" fill=\"currentColor\" x=\"950\">ADJ</tspan>\n",
       "</text>\n",
       "\n",
       "<text class=\"displacy-token\" fill=\"currentColor\" text-anchor=\"middle\" y=\"722.0\">\n",
       "    <tspan class=\"displacy-word\" fill=\"currentColor\" x=\"1100\">trip</tspan>\n",
       "    <tspan class=\"displacy-tag\" dy=\"2em\" fill=\"currentColor\" x=\"1100\">NOUN</tspan>\n",
       "</text>\n",
       "\n",
       "<text class=\"displacy-token\" fill=\"currentColor\" text-anchor=\"middle\" y=\"722.0\">\n",
       "    <tspan class=\"displacy-word\" fill=\"currentColor\" x=\"1250\">flight</tspan>\n",
       "    <tspan class=\"displacy-tag\" dy=\"2em\" fill=\"currentColor\" x=\"1250\">NOUN</tspan>\n",
       "</text>\n",
       "\n",
       "<text class=\"displacy-token\" fill=\"currentColor\" text-anchor=\"middle\" y=\"722.0\">\n",
       "    <tspan class=\"displacy-word\" fill=\"currentColor\" x=\"1400\">from</tspan>\n",
       "    <tspan class=\"displacy-tag\" dy=\"2em\" fill=\"currentColor\" x=\"1400\">ADP</tspan>\n",
       "</text>\n",
       "\n",
       "<text class=\"displacy-token\" fill=\"currentColor\" text-anchor=\"middle\" y=\"722.0\">\n",
       "    <tspan class=\"displacy-word\" fill=\"currentColor\" x=\"1550\">pittsburgh</tspan>\n",
       "    <tspan class=\"displacy-tag\" dy=\"2em\" fill=\"currentColor\" x=\"1550\">PROPN</tspan>\n",
       "</text>\n",
       "\n",
       "<text class=\"displacy-token\" fill=\"currentColor\" text-anchor=\"middle\" y=\"722.0\">\n",
       "    <tspan class=\"displacy-word\" fill=\"currentColor\" x=\"1700\">to</tspan>\n",
       "    <tspan class=\"displacy-tag\" dy=\"2em\" fill=\"currentColor\" x=\"1700\">ADP</tspan>\n",
       "</text>\n",
       "\n",
       "<text class=\"displacy-token\" fill=\"currentColor\" text-anchor=\"middle\" y=\"722.0\">\n",
       "    <tspan class=\"displacy-word\" fill=\"currentColor\" x=\"1850\">atlanta</tspan>\n",
       "    <tspan class=\"displacy-tag\" dy=\"2em\" fill=\"currentColor\" x=\"1850\">PROPN</tspan>\n",
       "</text>\n",
       "\n",
       "<text class=\"displacy-token\" fill=\"currentColor\" text-anchor=\"middle\" y=\"722.0\">\n",
       "    <tspan class=\"displacy-word\" fill=\"currentColor\" x=\"2000\">beginning</tspan>\n",
       "    <tspan class=\"displacy-tag\" dy=\"2em\" fill=\"currentColor\" x=\"2000\">VERB</tspan>\n",
       "</text>\n",
       "\n",
       "<text class=\"displacy-token\" fill=\"currentColor\" text-anchor=\"middle\" y=\"722.0\">\n",
       "    <tspan class=\"displacy-word\" fill=\"currentColor\" x=\"2150\">on</tspan>\n",
       "    <tspan class=\"displacy-tag\" dy=\"2em\" fill=\"currentColor\" x=\"2150\">ADP</tspan>\n",
       "</text>\n",
       "\n",
       "<text class=\"displacy-token\" fill=\"currentColor\" text-anchor=\"middle\" y=\"722.0\">\n",
       "    <tspan class=\"displacy-word\" fill=\"currentColor\" x=\"2300\">april</tspan>\n",
       "    <tspan class=\"displacy-tag\" dy=\"2em\" fill=\"currentColor\" x=\"2300\">PROPN</tspan>\n",
       "</text>\n",
       "\n",
       "<text class=\"displacy-token\" fill=\"currentColor\" text-anchor=\"middle\" y=\"722.0\">\n",
       "    <tspan class=\"displacy-word\" fill=\"currentColor\" x=\"2450\">twenty</tspan>\n",
       "    <tspan class=\"displacy-tag\" dy=\"2em\" fill=\"currentColor\" x=\"2450\">NUM</tspan>\n",
       "</text>\n",
       "\n",
       "<text class=\"displacy-token\" fill=\"currentColor\" text-anchor=\"middle\" y=\"722.0\">\n",
       "    <tspan class=\"displacy-word\" fill=\"currentColor\" x=\"2600\">fifth</tspan>\n",
       "    <tspan class=\"displacy-tag\" dy=\"2em\" fill=\"currentColor\" x=\"2600\">ADJ</tspan>\n",
       "</text>\n",
       "\n",
       "<text class=\"displacy-token\" fill=\"currentColor\" text-anchor=\"middle\" y=\"722.0\">\n",
       "    <tspan class=\"displacy-word\" fill=\"currentColor\" x=\"2750\">and</tspan>\n",
       "    <tspan class=\"displacy-tag\" dy=\"2em\" fill=\"currentColor\" x=\"2750\">CCONJ</tspan>\n",
       "</text>\n",
       "\n",
       "<text class=\"displacy-token\" fill=\"currentColor\" text-anchor=\"middle\" y=\"722.0\">\n",
       "    <tspan class=\"displacy-word\" fill=\"currentColor\" x=\"2900\">returning</tspan>\n",
       "    <tspan class=\"displacy-tag\" dy=\"2em\" fill=\"currentColor\" x=\"2900\">VERB</tspan>\n",
       "</text>\n",
       "\n",
       "<text class=\"displacy-token\" fill=\"currentColor\" text-anchor=\"middle\" y=\"722.0\">\n",
       "    <tspan class=\"displacy-word\" fill=\"currentColor\" x=\"3050\">on</tspan>\n",
       "    <tspan class=\"displacy-tag\" dy=\"2em\" fill=\"currentColor\" x=\"3050\">ADP</tspan>\n",
       "</text>\n",
       "\n",
       "<text class=\"displacy-token\" fill=\"currentColor\" text-anchor=\"middle\" y=\"722.0\">\n",
       "    <tspan class=\"displacy-word\" fill=\"currentColor\" x=\"3200\">may</tspan>\n",
       "    <tspan class=\"displacy-tag\" dy=\"2em\" fill=\"currentColor\" x=\"3200\">PROPN</tspan>\n",
       "</text>\n",
       "\n",
       "<text class=\"displacy-token\" fill=\"currentColor\" text-anchor=\"middle\" y=\"722.0\">\n",
       "    <tspan class=\"displacy-word\" fill=\"currentColor\" x=\"3350\">sixth</tspan>\n",
       "    <tspan class=\"displacy-tag\" dy=\"2em\" fill=\"currentColor\" x=\"3350\">ADJ</tspan>\n",
       "</text>\n",
       "\n",
       "<g class=\"displacy-arrow\">\n",
       "    <path class=\"displacy-arc\" id=\"arrow-13338698a78f42b1a1655fd14d7f8e4c-0-0\" stroke-width=\"2px\" d=\"M70,677.0 C70,602.0 160.0,602.0 160.0,677.0\" fill=\"none\" stroke=\"currentColor\"/>\n",
       "    <text dy=\"1.25em\" style=\"font-size: 0.8em; letter-spacing: 1px\">\n",
       "        <textPath xlink:href=\"#arrow-13338698a78f42b1a1655fd14d7f8e4c-0-0\" class=\"displacy-label\" startOffset=\"50%\" side=\"left\" fill=\"currentColor\" text-anchor=\"middle\">attr</textPath>\n",
       "    </text>\n",
       "    <path class=\"displacy-arrowhead\" d=\"M70,679.0 L62,667.0 78,667.0\" fill=\"currentColor\"/>\n",
       "</g>\n",
       "\n",
       "<g class=\"displacy-arrow\">\n",
       "    <path class=\"displacy-arc\" id=\"arrow-13338698a78f42b1a1655fd14d7f8e4c-0-1\" stroke-width=\"2px\" d=\"M370,677.0 C370,602.0 460.0,602.0 460.0,677.0\" fill=\"none\" stroke=\"currentColor\"/>\n",
       "    <text dy=\"1.25em\" style=\"font-size: 0.8em; letter-spacing: 1px\">\n",
       "        <textPath xlink:href=\"#arrow-13338698a78f42b1a1655fd14d7f8e4c-0-1\" class=\"displacy-label\" startOffset=\"50%\" side=\"left\" fill=\"currentColor\" text-anchor=\"middle\">det</textPath>\n",
       "    </text>\n",
       "    <path class=\"displacy-arrowhead\" d=\"M370,679.0 L362,667.0 378,667.0\" fill=\"currentColor\"/>\n",
       "</g>\n",
       "\n",
       "<g class=\"displacy-arrow\">\n",
       "    <path class=\"displacy-arc\" id=\"arrow-13338698a78f42b1a1655fd14d7f8e4c-0-2\" stroke-width=\"2px\" d=\"M220,677.0 C220,527.0 465.0,527.0 465.0,677.0\" fill=\"none\" stroke=\"currentColor\"/>\n",
       "    <text dy=\"1.25em\" style=\"font-size: 0.8em; letter-spacing: 1px\">\n",
       "        <textPath xlink:href=\"#arrow-13338698a78f42b1a1655fd14d7f8e4c-0-2\" class=\"displacy-label\" startOffset=\"50%\" side=\"left\" fill=\"currentColor\" text-anchor=\"middle\">nsubj</textPath>\n",
       "    </text>\n",
       "    <path class=\"displacy-arrowhead\" d=\"M465.0,679.0 L473.0,667.0 457.0,667.0\" fill=\"currentColor\"/>\n",
       "</g>\n",
       "\n",
       "<g class=\"displacy-arrow\">\n",
       "    <path class=\"displacy-arc\" id=\"arrow-13338698a78f42b1a1655fd14d7f8e4c-0-3\" stroke-width=\"2px\" d=\"M520,677.0 C520,602.0 610.0,602.0 610.0,677.0\" fill=\"none\" stroke=\"currentColor\"/>\n",
       "    <text dy=\"1.25em\" style=\"font-size: 0.8em; letter-spacing: 1px\">\n",
       "        <textPath xlink:href=\"#arrow-13338698a78f42b1a1655fd14d7f8e4c-0-3\" class=\"displacy-label\" startOffset=\"50%\" side=\"left\" fill=\"currentColor\" text-anchor=\"middle\">prep</textPath>\n",
       "    </text>\n",
       "    <path class=\"displacy-arrowhead\" d=\"M610.0,679.0 L618.0,667.0 602.0,667.0\" fill=\"currentColor\"/>\n",
       "</g>\n",
       "\n",
       "<g class=\"displacy-arrow\">\n",
       "    <path class=\"displacy-arc\" id=\"arrow-13338698a78f42b1a1655fd14d7f8e4c-0-4\" stroke-width=\"2px\" d=\"M820,677.0 C820,452.0 1220.0,452.0 1220.0,677.0\" fill=\"none\" stroke=\"currentColor\"/>\n",
       "    <text dy=\"1.25em\" style=\"font-size: 0.8em; letter-spacing: 1px\">\n",
       "        <textPath xlink:href=\"#arrow-13338698a78f42b1a1655fd14d7f8e4c-0-4\" class=\"displacy-label\" startOffset=\"50%\" side=\"left\" fill=\"currentColor\" text-anchor=\"middle\">det</textPath>\n",
       "    </text>\n",
       "    <path class=\"displacy-arrowhead\" d=\"M820,679.0 L812,667.0 828,667.0\" fill=\"currentColor\"/>\n",
       "</g>\n",
       "\n",
       "<g class=\"displacy-arrow\">\n",
       "    <path class=\"displacy-arc\" id=\"arrow-13338698a78f42b1a1655fd14d7f8e4c-0-5\" stroke-width=\"2px\" d=\"M970,677.0 C970,602.0 1060.0,602.0 1060.0,677.0\" fill=\"none\" stroke=\"currentColor\"/>\n",
       "    <text dy=\"1.25em\" style=\"font-size: 0.8em; letter-spacing: 1px\">\n",
       "        <textPath xlink:href=\"#arrow-13338698a78f42b1a1655fd14d7f8e4c-0-5\" class=\"displacy-label\" startOffset=\"50%\" side=\"left\" fill=\"currentColor\" text-anchor=\"middle\">amod</textPath>\n",
       "    </text>\n",
       "    <path class=\"displacy-arrowhead\" d=\"M970,679.0 L962,667.0 978,667.0\" fill=\"currentColor\"/>\n",
       "</g>\n",
       "\n",
       "<g class=\"displacy-arrow\">\n",
       "    <path class=\"displacy-arc\" id=\"arrow-13338698a78f42b1a1655fd14d7f8e4c-0-6\" stroke-width=\"2px\" d=\"M1120,677.0 C1120,602.0 1210.0,602.0 1210.0,677.0\" fill=\"none\" stroke=\"currentColor\"/>\n",
       "    <text dy=\"1.25em\" style=\"font-size: 0.8em; letter-spacing: 1px\">\n",
       "        <textPath xlink:href=\"#arrow-13338698a78f42b1a1655fd14d7f8e4c-0-6\" class=\"displacy-label\" startOffset=\"50%\" side=\"left\" fill=\"currentColor\" text-anchor=\"middle\">compound</textPath>\n",
       "    </text>\n",
       "    <path class=\"displacy-arrowhead\" d=\"M1120,679.0 L1112,667.0 1128,667.0\" fill=\"currentColor\"/>\n",
       "</g>\n",
       "\n",
       "<g class=\"displacy-arrow\">\n",
       "    <path class=\"displacy-arc\" id=\"arrow-13338698a78f42b1a1655fd14d7f8e4c-0-7\" stroke-width=\"2px\" d=\"M670,677.0 C670,377.0 1225.0,377.0 1225.0,677.0\" fill=\"none\" stroke=\"currentColor\"/>\n",
       "    <text dy=\"1.25em\" style=\"font-size: 0.8em; letter-spacing: 1px\">\n",
       "        <textPath xlink:href=\"#arrow-13338698a78f42b1a1655fd14d7f8e4c-0-7\" class=\"displacy-label\" startOffset=\"50%\" side=\"left\" fill=\"currentColor\" text-anchor=\"middle\">pobj</textPath>\n",
       "    </text>\n",
       "    <path class=\"displacy-arrowhead\" d=\"M1225.0,679.0 L1233.0,667.0 1217.0,667.0\" fill=\"currentColor\"/>\n",
       "</g>\n",
       "\n",
       "<g class=\"displacy-arrow\">\n",
       "    <path class=\"displacy-arc\" id=\"arrow-13338698a78f42b1a1655fd14d7f8e4c-0-8\" stroke-width=\"2px\" d=\"M1270,677.0 C1270,602.0 1360.0,602.0 1360.0,677.0\" fill=\"none\" stroke=\"currentColor\"/>\n",
       "    <text dy=\"1.25em\" style=\"font-size: 0.8em; letter-spacing: 1px\">\n",
       "        <textPath xlink:href=\"#arrow-13338698a78f42b1a1655fd14d7f8e4c-0-8\" class=\"displacy-label\" startOffset=\"50%\" side=\"left\" fill=\"currentColor\" text-anchor=\"middle\">prep</textPath>\n",
       "    </text>\n",
       "    <path class=\"displacy-arrowhead\" d=\"M1360.0,679.0 L1368.0,667.0 1352.0,667.0\" fill=\"currentColor\"/>\n",
       "</g>\n",
       "\n",
       "<g class=\"displacy-arrow\">\n",
       "    <path class=\"displacy-arc\" id=\"arrow-13338698a78f42b1a1655fd14d7f8e4c-0-9\" stroke-width=\"2px\" d=\"M1420,677.0 C1420,602.0 1510.0,602.0 1510.0,677.0\" fill=\"none\" stroke=\"currentColor\"/>\n",
       "    <text dy=\"1.25em\" style=\"font-size: 0.8em; letter-spacing: 1px\">\n",
       "        <textPath xlink:href=\"#arrow-13338698a78f42b1a1655fd14d7f8e4c-0-9\" class=\"displacy-label\" startOffset=\"50%\" side=\"left\" fill=\"currentColor\" text-anchor=\"middle\">pobj</textPath>\n",
       "    </text>\n",
       "    <path class=\"displacy-arrowhead\" d=\"M1510.0,679.0 L1518.0,667.0 1502.0,667.0\" fill=\"currentColor\"/>\n",
       "</g>\n",
       "\n",
       "<g class=\"displacy-arrow\">\n",
       "    <path class=\"displacy-arc\" id=\"arrow-13338698a78f42b1a1655fd14d7f8e4c-0-10\" stroke-width=\"2px\" d=\"M1270,677.0 C1270,452.0 1670.0,452.0 1670.0,677.0\" fill=\"none\" stroke=\"currentColor\"/>\n",
       "    <text dy=\"1.25em\" style=\"font-size: 0.8em; letter-spacing: 1px\">\n",
       "        <textPath xlink:href=\"#arrow-13338698a78f42b1a1655fd14d7f8e4c-0-10\" class=\"displacy-label\" startOffset=\"50%\" side=\"left\" fill=\"currentColor\" text-anchor=\"middle\">prep</textPath>\n",
       "    </text>\n",
       "    <path class=\"displacy-arrowhead\" d=\"M1670.0,679.0 L1678.0,667.0 1662.0,667.0\" fill=\"currentColor\"/>\n",
       "</g>\n",
       "\n",
       "<g class=\"displacy-arrow\">\n",
       "    <path class=\"displacy-arc\" id=\"arrow-13338698a78f42b1a1655fd14d7f8e4c-0-11\" stroke-width=\"2px\" d=\"M1720,677.0 C1720,602.0 1810.0,602.0 1810.0,677.0\" fill=\"none\" stroke=\"currentColor\"/>\n",
       "    <text dy=\"1.25em\" style=\"font-size: 0.8em; letter-spacing: 1px\">\n",
       "        <textPath xlink:href=\"#arrow-13338698a78f42b1a1655fd14d7f8e4c-0-11\" class=\"displacy-label\" startOffset=\"50%\" side=\"left\" fill=\"currentColor\" text-anchor=\"middle\">pobj</textPath>\n",
       "    </text>\n",
       "    <path class=\"displacy-arrowhead\" d=\"M1810.0,679.0 L1818.0,667.0 1802.0,667.0\" fill=\"currentColor\"/>\n",
       "</g>\n",
       "\n",
       "<g class=\"displacy-arrow\">\n",
       "    <path class=\"displacy-arc\" id=\"arrow-13338698a78f42b1a1655fd14d7f8e4c-0-12\" stroke-width=\"2px\" d=\"M220,677.0 C220,302.0 1980.0,302.0 1980.0,677.0\" fill=\"none\" stroke=\"currentColor\"/>\n",
       "    <text dy=\"1.25em\" style=\"font-size: 0.8em; letter-spacing: 1px\">\n",
       "        <textPath xlink:href=\"#arrow-13338698a78f42b1a1655fd14d7f8e4c-0-12\" class=\"displacy-label\" startOffset=\"50%\" side=\"left\" fill=\"currentColor\" text-anchor=\"middle\">prep</textPath>\n",
       "    </text>\n",
       "    <path class=\"displacy-arrowhead\" d=\"M1980.0,679.0 L1988.0,667.0 1972.0,667.0\" fill=\"currentColor\"/>\n",
       "</g>\n",
       "\n",
       "<g class=\"displacy-arrow\">\n",
       "    <path class=\"displacy-arc\" id=\"arrow-13338698a78f42b1a1655fd14d7f8e4c-0-13\" stroke-width=\"2px\" d=\"M2020,677.0 C2020,602.0 2110.0,602.0 2110.0,677.0\" fill=\"none\" stroke=\"currentColor\"/>\n",
       "    <text dy=\"1.25em\" style=\"font-size: 0.8em; letter-spacing: 1px\">\n",
       "        <textPath xlink:href=\"#arrow-13338698a78f42b1a1655fd14d7f8e4c-0-13\" class=\"displacy-label\" startOffset=\"50%\" side=\"left\" fill=\"currentColor\" text-anchor=\"middle\">prep</textPath>\n",
       "    </text>\n",
       "    <path class=\"displacy-arrowhead\" d=\"M2110.0,679.0 L2118.0,667.0 2102.0,667.0\" fill=\"currentColor\"/>\n",
       "</g>\n",
       "\n",
       "<g class=\"displacy-arrow\">\n",
       "    <path class=\"displacy-arc\" id=\"arrow-13338698a78f42b1a1655fd14d7f8e4c-0-14\" stroke-width=\"2px\" d=\"M2170,677.0 C2170,602.0 2260.0,602.0 2260.0,677.0\" fill=\"none\" stroke=\"currentColor\"/>\n",
       "    <text dy=\"1.25em\" style=\"font-size: 0.8em; letter-spacing: 1px\">\n",
       "        <textPath xlink:href=\"#arrow-13338698a78f42b1a1655fd14d7f8e4c-0-14\" class=\"displacy-label\" startOffset=\"50%\" side=\"left\" fill=\"currentColor\" text-anchor=\"middle\">pobj</textPath>\n",
       "    </text>\n",
       "    <path class=\"displacy-arrowhead\" d=\"M2260.0,679.0 L2268.0,667.0 2252.0,667.0\" fill=\"currentColor\"/>\n",
       "</g>\n",
       "\n",
       "<g class=\"displacy-arrow\">\n",
       "    <path class=\"displacy-arc\" id=\"arrow-13338698a78f42b1a1655fd14d7f8e4c-0-15\" stroke-width=\"2px\" d=\"M2320,677.0 C2320,602.0 2410.0,602.0 2410.0,677.0\" fill=\"none\" stroke=\"currentColor\"/>\n",
       "    <text dy=\"1.25em\" style=\"font-size: 0.8em; letter-spacing: 1px\">\n",
       "        <textPath xlink:href=\"#arrow-13338698a78f42b1a1655fd14d7f8e4c-0-15\" class=\"displacy-label\" startOffset=\"50%\" side=\"left\" fill=\"currentColor\" text-anchor=\"middle\">nummod</textPath>\n",
       "    </text>\n",
       "    <path class=\"displacy-arrowhead\" d=\"M2410.0,679.0 L2418.0,667.0 2402.0,667.0\" fill=\"currentColor\"/>\n",
       "</g>\n",
       "\n",
       "<g class=\"displacy-arrow\">\n",
       "    <path class=\"displacy-arc\" id=\"arrow-13338698a78f42b1a1655fd14d7f8e4c-0-16\" stroke-width=\"2px\" d=\"M220,677.0 C220,227.0 2585.0,227.0 2585.0,677.0\" fill=\"none\" stroke=\"currentColor\"/>\n",
       "    <text dy=\"1.25em\" style=\"font-size: 0.8em; letter-spacing: 1px\">\n",
       "        <textPath xlink:href=\"#arrow-13338698a78f42b1a1655fd14d7f8e4c-0-16\" class=\"displacy-label\" startOffset=\"50%\" side=\"left\" fill=\"currentColor\" text-anchor=\"middle\">acomp</textPath>\n",
       "    </text>\n",
       "    <path class=\"displacy-arrowhead\" d=\"M2585.0,679.0 L2593.0,667.0 2577.0,667.0\" fill=\"currentColor\"/>\n",
       "</g>\n",
       "\n",
       "<g class=\"displacy-arrow\">\n",
       "    <path class=\"displacy-arc\" id=\"arrow-13338698a78f42b1a1655fd14d7f8e4c-0-17\" stroke-width=\"2px\" d=\"M220,677.0 C220,152.0 2740.0,152.0 2740.0,677.0\" fill=\"none\" stroke=\"currentColor\"/>\n",
       "    <text dy=\"1.25em\" style=\"font-size: 0.8em; letter-spacing: 1px\">\n",
       "        <textPath xlink:href=\"#arrow-13338698a78f42b1a1655fd14d7f8e4c-0-17\" class=\"displacy-label\" startOffset=\"50%\" side=\"left\" fill=\"currentColor\" text-anchor=\"middle\">cc</textPath>\n",
       "    </text>\n",
       "    <path class=\"displacy-arrowhead\" d=\"M2740.0,679.0 L2748.0,667.0 2732.0,667.0\" fill=\"currentColor\"/>\n",
       "</g>\n",
       "\n",
       "<g class=\"displacy-arrow\">\n",
       "    <path class=\"displacy-arc\" id=\"arrow-13338698a78f42b1a1655fd14d7f8e4c-0-18\" stroke-width=\"2px\" d=\"M220,677.0 C220,77.0 2895.0,77.0 2895.0,677.0\" fill=\"none\" stroke=\"currentColor\"/>\n",
       "    <text dy=\"1.25em\" style=\"font-size: 0.8em; letter-spacing: 1px\">\n",
       "        <textPath xlink:href=\"#arrow-13338698a78f42b1a1655fd14d7f8e4c-0-18\" class=\"displacy-label\" startOffset=\"50%\" side=\"left\" fill=\"currentColor\" text-anchor=\"middle\">conj</textPath>\n",
       "    </text>\n",
       "    <path class=\"displacy-arrowhead\" d=\"M2895.0,679.0 L2903.0,667.0 2887.0,667.0\" fill=\"currentColor\"/>\n",
       "</g>\n",
       "\n",
       "<g class=\"displacy-arrow\">\n",
       "    <path class=\"displacy-arc\" id=\"arrow-13338698a78f42b1a1655fd14d7f8e4c-0-19\" stroke-width=\"2px\" d=\"M2920,677.0 C2920,602.0 3010.0,602.0 3010.0,677.0\" fill=\"none\" stroke=\"currentColor\"/>\n",
       "    <text dy=\"1.25em\" style=\"font-size: 0.8em; letter-spacing: 1px\">\n",
       "        <textPath xlink:href=\"#arrow-13338698a78f42b1a1655fd14d7f8e4c-0-19\" class=\"displacy-label\" startOffset=\"50%\" side=\"left\" fill=\"currentColor\" text-anchor=\"middle\">prep</textPath>\n",
       "    </text>\n",
       "    <path class=\"displacy-arrowhead\" d=\"M3010.0,679.0 L3018.0,667.0 3002.0,667.0\" fill=\"currentColor\"/>\n",
       "</g>\n",
       "\n",
       "<g class=\"displacy-arrow\">\n",
       "    <path class=\"displacy-arc\" id=\"arrow-13338698a78f42b1a1655fd14d7f8e4c-0-20\" stroke-width=\"2px\" d=\"M3220,677.0 C3220,602.0 3310.0,602.0 3310.0,677.0\" fill=\"none\" stroke=\"currentColor\"/>\n",
       "    <text dy=\"1.25em\" style=\"font-size: 0.8em; letter-spacing: 1px\">\n",
       "        <textPath xlink:href=\"#arrow-13338698a78f42b1a1655fd14d7f8e4c-0-20\" class=\"displacy-label\" startOffset=\"50%\" side=\"left\" fill=\"currentColor\" text-anchor=\"middle\">det</textPath>\n",
       "    </text>\n",
       "    <path class=\"displacy-arrowhead\" d=\"M3220,679.0 L3212,667.0 3228,667.0\" fill=\"currentColor\"/>\n",
       "</g>\n",
       "\n",
       "<g class=\"displacy-arrow\">\n",
       "    <path class=\"displacy-arc\" id=\"arrow-13338698a78f42b1a1655fd14d7f8e4c-0-21\" stroke-width=\"2px\" d=\"M220,677.0 C220,2.0 3350.0,2.0 3350.0,677.0\" fill=\"none\" stroke=\"currentColor\"/>\n",
       "    <text dy=\"1.25em\" style=\"font-size: 0.8em; letter-spacing: 1px\">\n",
       "        <textPath xlink:href=\"#arrow-13338698a78f42b1a1655fd14d7f8e4c-0-21\" class=\"displacy-label\" startOffset=\"50%\" side=\"left\" fill=\"currentColor\" text-anchor=\"middle\">nsubj</textPath>\n",
       "    </text>\n",
       "    <path class=\"displacy-arrowhead\" d=\"M3350.0,679.0 L3358.0,667.0 3342.0,667.0\" fill=\"currentColor\"/>\n",
       "</g>\n",
       "</svg></span>"
      ],
      "text/plain": [
       "<IPython.core.display.HTML object>"
      ]
     },
     "metadata": {},
     "output_type": "display_data"
    }
   ],
   "source": [
    "displacy.render(nlp(sentence5),style='ent',jupyter=True)\n",
    "displacy.render(nlp(sentence5),style='dep',jupyter=True,options={'distance':150})"
   ]
  },
  {
   "cell_type": "code",
   "execution_count": 62,
   "metadata": {},
   "outputs": [
    {
     "data": {
      "text/plain": [
       "{' meaning': [], ' meaning meal': [], ' meal code': [], ' s': []}"
      ]
     },
     "execution_count": 62,
     "metadata": {},
     "output_type": "execute_result"
    }
   ],
   "source": [
    "sentence6 =  atis_1_train[\"tokens\"][3]\n",
    "extract_entities(sentence6)"
   ]
  },
  {
   "cell_type": "code",
   "execution_count": 63,
   "metadata": {},
   "outputs": [
    {
     "data": {
      "text/html": [
       "<span class=\"tex2jax_ignore\"><svg xmlns=\"http://www.w3.org/2000/svg\" xmlns:xlink=\"http://www.w3.org/1999/xlink\" xml:lang=\"en\" id=\"f1bda3ad9fd34893aa433c1e63916e43-0\" class=\"displacy\" width=\"850\" height=\"287.0\" direction=\"ltr\" style=\"max-width: none; height: 287.0px; color: #000000; background: #ffffff; font-family: Arial; direction: ltr\">\n",
       "<text class=\"displacy-token\" fill=\"currentColor\" text-anchor=\"middle\" y=\"197.0\">\n",
       "    <tspan class=\"displacy-word\" fill=\"currentColor\" x=\"50\">what</tspan>\n",
       "    <tspan class=\"displacy-tag\" dy=\"2em\" fill=\"currentColor\" x=\"50\">PRON</tspan>\n",
       "</text>\n",
       "\n",
       "<text class=\"displacy-token\" fill=\"currentColor\" text-anchor=\"middle\" y=\"197.0\">\n",
       "    <tspan class=\"displacy-word\" fill=\"currentColor\" x=\"150\">is</tspan>\n",
       "    <tspan class=\"displacy-tag\" dy=\"2em\" fill=\"currentColor\" x=\"150\">AUX</tspan>\n",
       "</text>\n",
       "\n",
       "<text class=\"displacy-token\" fill=\"currentColor\" text-anchor=\"middle\" y=\"197.0\">\n",
       "    <tspan class=\"displacy-word\" fill=\"currentColor\" x=\"250\">the</tspan>\n",
       "    <tspan class=\"displacy-tag\" dy=\"2em\" fill=\"currentColor\" x=\"250\">DET</tspan>\n",
       "</text>\n",
       "\n",
       "<text class=\"displacy-token\" fill=\"currentColor\" text-anchor=\"middle\" y=\"197.0\">\n",
       "    <tspan class=\"displacy-word\" fill=\"currentColor\" x=\"350\">meaning</tspan>\n",
       "    <tspan class=\"displacy-tag\" dy=\"2em\" fill=\"currentColor\" x=\"350\">NOUN</tspan>\n",
       "</text>\n",
       "\n",
       "<text class=\"displacy-token\" fill=\"currentColor\" text-anchor=\"middle\" y=\"197.0\">\n",
       "    <tspan class=\"displacy-word\" fill=\"currentColor\" x=\"450\">of</tspan>\n",
       "    <tspan class=\"displacy-tag\" dy=\"2em\" fill=\"currentColor\" x=\"450\">ADP</tspan>\n",
       "</text>\n",
       "\n",
       "<text class=\"displacy-token\" fill=\"currentColor\" text-anchor=\"middle\" y=\"197.0\">\n",
       "    <tspan class=\"displacy-word\" fill=\"currentColor\" x=\"550\">meal</tspan>\n",
       "    <tspan class=\"displacy-tag\" dy=\"2em\" fill=\"currentColor\" x=\"550\">NOUN</tspan>\n",
       "</text>\n",
       "\n",
       "<text class=\"displacy-token\" fill=\"currentColor\" text-anchor=\"middle\" y=\"197.0\">\n",
       "    <tspan class=\"displacy-word\" fill=\"currentColor\" x=\"650\">code</tspan>\n",
       "    <tspan class=\"displacy-tag\" dy=\"2em\" fill=\"currentColor\" x=\"650\">NOUN</tspan>\n",
       "</text>\n",
       "\n",
       "<text class=\"displacy-token\" fill=\"currentColor\" text-anchor=\"middle\" y=\"197.0\">\n",
       "    <tspan class=\"displacy-word\" fill=\"currentColor\" x=\"750\">s</tspan>\n",
       "    <tspan class=\"displacy-tag\" dy=\"2em\" fill=\"currentColor\" x=\"750\">NOUN</tspan>\n",
       "</text>\n",
       "\n",
       "<g class=\"displacy-arrow\">\n",
       "    <path class=\"displacy-arc\" id=\"arrow-f1bda3ad9fd34893aa433c1e63916e43-0-0\" stroke-width=\"2px\" d=\"M70,152.0 C70,102.0 140.0,102.0 140.0,152.0\" fill=\"none\" stroke=\"currentColor\"/>\n",
       "    <text dy=\"1.25em\" style=\"font-size: 0.8em; letter-spacing: 1px\">\n",
       "        <textPath xlink:href=\"#arrow-f1bda3ad9fd34893aa433c1e63916e43-0-0\" class=\"displacy-label\" startOffset=\"50%\" side=\"left\" fill=\"currentColor\" text-anchor=\"middle\">attr</textPath>\n",
       "    </text>\n",
       "    <path class=\"displacy-arrowhead\" d=\"M70,154.0 L62,142.0 78,142.0\" fill=\"currentColor\"/>\n",
       "</g>\n",
       "\n",
       "<g class=\"displacy-arrow\">\n",
       "    <path class=\"displacy-arc\" id=\"arrow-f1bda3ad9fd34893aa433c1e63916e43-0-1\" stroke-width=\"2px\" d=\"M270,152.0 C270,102.0 340.0,102.0 340.0,152.0\" fill=\"none\" stroke=\"currentColor\"/>\n",
       "    <text dy=\"1.25em\" style=\"font-size: 0.8em; letter-spacing: 1px\">\n",
       "        <textPath xlink:href=\"#arrow-f1bda3ad9fd34893aa433c1e63916e43-0-1\" class=\"displacy-label\" startOffset=\"50%\" side=\"left\" fill=\"currentColor\" text-anchor=\"middle\">det</textPath>\n",
       "    </text>\n",
       "    <path class=\"displacy-arrowhead\" d=\"M270,154.0 L262,142.0 278,142.0\" fill=\"currentColor\"/>\n",
       "</g>\n",
       "\n",
       "<g class=\"displacy-arrow\">\n",
       "    <path class=\"displacy-arc\" id=\"arrow-f1bda3ad9fd34893aa433c1e63916e43-0-2\" stroke-width=\"2px\" d=\"M170,152.0 C170,52.0 345.0,52.0 345.0,152.0\" fill=\"none\" stroke=\"currentColor\"/>\n",
       "    <text dy=\"1.25em\" style=\"font-size: 0.8em; letter-spacing: 1px\">\n",
       "        <textPath xlink:href=\"#arrow-f1bda3ad9fd34893aa433c1e63916e43-0-2\" class=\"displacy-label\" startOffset=\"50%\" side=\"left\" fill=\"currentColor\" text-anchor=\"middle\">nsubj</textPath>\n",
       "    </text>\n",
       "    <path class=\"displacy-arrowhead\" d=\"M345.0,154.0 L353.0,142.0 337.0,142.0\" fill=\"currentColor\"/>\n",
       "</g>\n",
       "\n",
       "<g class=\"displacy-arrow\">\n",
       "    <path class=\"displacy-arc\" id=\"arrow-f1bda3ad9fd34893aa433c1e63916e43-0-3\" stroke-width=\"2px\" d=\"M370,152.0 C370,102.0 440.0,102.0 440.0,152.0\" fill=\"none\" stroke=\"currentColor\"/>\n",
       "    <text dy=\"1.25em\" style=\"font-size: 0.8em; letter-spacing: 1px\">\n",
       "        <textPath xlink:href=\"#arrow-f1bda3ad9fd34893aa433c1e63916e43-0-3\" class=\"displacy-label\" startOffset=\"50%\" side=\"left\" fill=\"currentColor\" text-anchor=\"middle\">prep</textPath>\n",
       "    </text>\n",
       "    <path class=\"displacy-arrowhead\" d=\"M440.0,154.0 L448.0,142.0 432.0,142.0\" fill=\"currentColor\"/>\n",
       "</g>\n",
       "\n",
       "<g class=\"displacy-arrow\">\n",
       "    <path class=\"displacy-arc\" id=\"arrow-f1bda3ad9fd34893aa433c1e63916e43-0-4\" stroke-width=\"2px\" d=\"M570,152.0 C570,102.0 640.0,102.0 640.0,152.0\" fill=\"none\" stroke=\"currentColor\"/>\n",
       "    <text dy=\"1.25em\" style=\"font-size: 0.8em; letter-spacing: 1px\">\n",
       "        <textPath xlink:href=\"#arrow-f1bda3ad9fd34893aa433c1e63916e43-0-4\" class=\"displacy-label\" startOffset=\"50%\" side=\"left\" fill=\"currentColor\" text-anchor=\"middle\">compound</textPath>\n",
       "    </text>\n",
       "    <path class=\"displacy-arrowhead\" d=\"M570,154.0 L562,142.0 578,142.0\" fill=\"currentColor\"/>\n",
       "</g>\n",
       "\n",
       "<g class=\"displacy-arrow\">\n",
       "    <path class=\"displacy-arc\" id=\"arrow-f1bda3ad9fd34893aa433c1e63916e43-0-5\" stroke-width=\"2px\" d=\"M670,152.0 C670,102.0 740.0,102.0 740.0,152.0\" fill=\"none\" stroke=\"currentColor\"/>\n",
       "    <text dy=\"1.25em\" style=\"font-size: 0.8em; letter-spacing: 1px\">\n",
       "        <textPath xlink:href=\"#arrow-f1bda3ad9fd34893aa433c1e63916e43-0-5\" class=\"displacy-label\" startOffset=\"50%\" side=\"left\" fill=\"currentColor\" text-anchor=\"middle\">compound</textPath>\n",
       "    </text>\n",
       "    <path class=\"displacy-arrowhead\" d=\"M670,154.0 L662,142.0 678,142.0\" fill=\"currentColor\"/>\n",
       "</g>\n",
       "\n",
       "<g class=\"displacy-arrow\">\n",
       "    <path class=\"displacy-arc\" id=\"arrow-f1bda3ad9fd34893aa433c1e63916e43-0-6\" stroke-width=\"2px\" d=\"M470,152.0 C470,2.0 750.0,2.0 750.0,152.0\" fill=\"none\" stroke=\"currentColor\"/>\n",
       "    <text dy=\"1.25em\" style=\"font-size: 0.8em; letter-spacing: 1px\">\n",
       "        <textPath xlink:href=\"#arrow-f1bda3ad9fd34893aa433c1e63916e43-0-6\" class=\"displacy-label\" startOffset=\"50%\" side=\"left\" fill=\"currentColor\" text-anchor=\"middle\">pobj</textPath>\n",
       "    </text>\n",
       "    <path class=\"displacy-arrowhead\" d=\"M750.0,154.0 L758.0,142.0 742.0,142.0\" fill=\"currentColor\"/>\n",
       "</g>\n",
       "</svg></span>"
      ],
      "text/plain": [
       "<IPython.core.display.HTML object>"
      ]
     },
     "metadata": {},
     "output_type": "display_data"
    }
   ],
   "source": [
    "#displacy.render(nlp(sentence6),style='ent',jupyter=True)\n",
    "displacy.render(nlp(sentence6),style='dep',jupyter=True,options={'distance':100})"
   ]
  },
  {
   "cell_type": "markdown",
   "metadata": {},
   "source": [
    "### Chat"
   ]
  },
  {
   "cell_type": "code",
   "execution_count": 106,
   "metadata": {},
   "outputs": [
    {
     "name": "stdout",
     "output_type": "stream",
     "text": [
      "{'atis_airfare': [], 'atis_flight': ['the available flights are {0}', 'the available flights are {0} from {1} to {2}', 'the available flights are {0} to {1} from {2}'], 'atis_abbreviation': [], 'atis_ground_service': [], 'atis_restriction': [], 'atis_airport': [], 'atis_quantity': [], 'atis_meal': [], 'atis_airline': [], 'atis_city': [], 'atis_flight_no': [], 'atis_ground_fare': [], 'atis_flight_time': [], 'atis_flight#atis_airfare': [], 'atis_distance': [], 'atis_aircraft': [], 'atis_capacity': [], 'default': 'default', 'goodbye': ['goodbye for now'], 'greet': ['Hello you! :)'], 'thankyou': ['you are very welcome']}\n"
     ]
    }
   ],
   "source": [
    "# dicionario com respostas | intent:[respostas]\n",
    "\n",
    "respostas = {}\n",
    "for intent,value in dict_Labels.items():\n",
    "    if intent not in respostas:\n",
    "        respostas[intent] = []\n",
    "#print(\"Criando Dicionario de Respostas: {}\".format(respostas))\n",
    "\n",
    "#print(\"###########################################################\")\n",
    "\n",
    "# add respostas \n",
    "flight_respostas = [\"the available flights are {0}\", \"the available flights are {0} from {1} to {2}\",\n",
    "                   \"the available flights are {0} to {1} from {2}\"]\n",
    "\n",
    "if len(respostas['atis_flight']) == 0:\n",
    "    respostas['atis_flight'] = flight_respostas\n",
    "\n",
    "respostas[\"default\"] = \"default\"\n",
    "#print(respostas['atis_flight'])\n",
    "\n",
    "intent_basics= {\"goodbye\": 'goodbye for now',\n",
    "               'greet': 'Hello you! :)',\n",
    "               'thankyou': 'you are very welcome'}\n",
    "\n",
    "for key, value in intent_basics.items():\n",
    "    if key not in respostas:\n",
    "        respostas[key] = [value]\n",
    "        \n",
    "print(respostas)"
   ]
  },
  {
   "cell_type": "code",
   "execution_count": 107,
   "metadata": {},
   "outputs": [],
   "source": [
    "# funçoes para resposta do bot\n",
    "def Matche_Intent(mensagem):\n",
    "    matched_intent = None\n",
    "    \n",
    "    # intents basicos\n",
    "    # keywords para identificar padrões de intents basicos\n",
    "    keywords = {'greet': ['hello', 'hi', 'hey'],\n",
    "                'goodbye': ['bye', 'farewell'],\n",
    "                'thankyou': ['thank', 'thx']}\n",
    "\n",
    "    # Define a dictionary of patterns\n",
    "    patterns = {}\n",
    "\n",
    "    # Iterate over the keywords dictionary\n",
    "    for intent, keys in keywords.items():\n",
    "        # Create regular expressions and compile them into pattern objects\n",
    "        patterns[intent] = re.compile('|'.join(keys))\n",
    "    #print(patterns)\n",
    "    \n",
    "    # para intents dentro do dicionario de padões\n",
    "    for intent, pattern in patterns.items():\n",
    "        # Check if the pattern occurs in the message \n",
    "        if re.search(pattern, mensagem) is not None:\n",
    "           # print(\"Mensagem> \",mensagem)\n",
    "           # print(pattern)\n",
    "            #print(intent)\n",
    "            matched_intent = intent\n",
    "            \n",
    "    return matched_intent\n",
    "\n",
    "# funçoes para resposta do bot\n",
    "def Get_Intent(mensagem):\n",
    "    # model = Load modelo -- Not working so hard pass the model1\n",
    "    # Qual intent da sentenca\n",
    "    intent = Intent(mensagem,model1)[0]\n",
    "    \n",
    "    return intent\n",
    "\n",
    "#print(\"O intent da sentenca é : {}\".format(Matche_Intent(\"Flights from California\")))\n",
    "\n",
    "def Get_Entidades(mensagem):    \n",
    "    entidades = extract_entities(mensagem)\n",
    "    return entidades\n",
    "\n",
    "#print(\"################################################################\")\n",
    "#print(\"As entidades da sentenca é : {}\".format(Get_Entidades(\"Flights from California\")))\n",
    "\n",
    "# Dados do BD exemplo\n",
    "# {'atis_flight':['companhia area, N do voo,modelo de aviao, Local partida, local destino , data saida, horario da saida]}\n",
    "\n",
    "def Get_Dados(intencao,entidades):\n",
    "    # Retornar valores de um banco de dados\n",
    "    # o-comphia, 1-numero voo , 2-modeloAviao, 3-LocalPartida 4-Destino 5-Data saida, 6-horario da saida  \n",
    "    # i want a flight from nashville to seattle that arrives no later than 3 pm\n",
    "    Dados = [\n",
    "        ['atis_flight',['AZUL','985','Carcará','Recife','Santa Catarina','15 july','15 pm']],\n",
    "        ['atis_flight',['GOAL','7849','CArameLo','Boston','Recife','19 december','10 am']],\n",
    "        ['atis_flight',['AZULL','019','Co','Boston','seattle','13 december','4 pm']],\n",
    "        ['atis_flight',['GOAL','7989','CarYo','Orlando','New Zeland','18 april','3 pm']],\n",
    "        ['atis_flight',['GOAL','7989','Boing 6549','nashville','seattle','1 may','6 pm']],\n",
    "        ['atis_flight',['GOAL','7989','U98','Carpina','NY','16 june','3 pm']],\n",
    "        ['atis_flight',['GOAL','7989','UNYTY7','nashville','California','16 November','3 pm']],\n",
    "        ['atis_flight',['GOAL','7989','Pipa','DC','seattle','16 december','3 pm']]\n",
    "    ] \n",
    "   # print(\"Dados do BD\",Dados)\n",
    "    valores_encontrados = []\n",
    "    for lista in Dados:        \n",
    "        if lista[0].casefold() == intencao.casefold():\n",
    "            #print(\"Intencao igual a chave\")\n",
    "            data = lista[1]\n",
    "            \n",
    "            # ex entidade {' Flights': [['California', 'GPE')]]}\n",
    "            for ent,valor in entidades.items():\n",
    "                #print(\"Entidade \",ent ,\" Valor \",valor)\n",
    "                \n",
    "                # val - [['California', 'GPE')]]\n",
    "                for val in valor:\n",
    "                    #print(val)\n",
    "                    # casos de Localização\n",
    "                    if val[1].casefold() == \"GPE\".casefold():\n",
    "                        if val[0].casefold() == data[3].casefold() or val[0].casefold() == data[4].casefold():\n",
    "                            if(data not in valores_encontrados):\n",
    "                                valores_encontrados.append(data)\n",
    "                    \n",
    "                    # casos Data\n",
    "                    if val[1].casefold() == \"DATE\".casefold():\n",
    "                        if (val[0] in data[5]) or (data[4] in val[0]):\n",
    "                            if(data not in valores_encontrados):\n",
    "                                valores_encontrados.append(data)\n",
    "    \n",
    "    return valores_encontrados\n",
    "\n",
    "def Resposta(mensagem):\n",
    "    resposta_bot = []\n",
    "    intent = None\n",
    "    \n",
    "    # Compor a resposta do bot    \n",
    "    # Call the match_intent function\n",
    "    if(Matche_Intent(mensagem) is not None):\n",
    "        intent = match_intent(mensagem)\n",
    "        \n",
    "        # Fall back to the default response\n",
    "        key = \"default\"\n",
    "        if intent in respostas:\n",
    "            if len(respostas[intent]) != 0:\n",
    "                key = intent\n",
    "        resposta_bot = random.choice(respostas[key])\n",
    "        \n",
    "    else:\n",
    "        intent = Intent(mensagem,model1)[0]\n",
    "        \n",
    "        # Fall back to the default response\n",
    "        key = \"default\"\n",
    "        if intent in respostas:\n",
    "            if len(respostas[intent]) != 0:\n",
    "                key = intent\n",
    "        temp_rep = random.choice(respostas[key])\n",
    "\n",
    "        Lista_dados = Get_Dados(intent,extract_entities(mensagem))\n",
    "        \n",
    "        #print(Lista_dados)\n",
    "\n",
    "        possiveis_respostas = []\n",
    "        \n",
    "        for dados in Lista_dados:\n",
    "            available_flight = \"Voo \"+dados[1]+\" from \"+dados[0]\n",
    "            rep = temp_rep.format(available_flight,dados[3],dados[4])\n",
    "            #print(\"Rep: \",rep)\n",
    "            possiveis_respostas.append(rep)\n",
    "        \n",
    "        if(len(possiveis_respostas)==0):\n",
    "            resposta_bot =random.choice(respostas['default'])\n",
    "        else:\n",
    "            resposta_bot = random.choice(possiveis_respostas)\n",
    "       \n",
    "    return resposta_bot\n",
    "\n",
    "#print(\"################################################################\")\n",
    "\n",
    "#print(\"Resposta do Bot : {}\".format(Resposta(\"Flights from California\")))\n"
   ]
  },
  {
   "cell_type": "code",
   "execution_count": 108,
   "metadata": {},
   "outputs": [
    {
     "data": {
      "text/plain": [
       "[['AZUL', '985', 'Carcará', 'Recife', 'Santa Catarina', '15 july', '15 pm'],\n",
       " ['GOAL', '7849', 'CArameLo', 'Boston', 'Recife', '19 december', '10 am']]"
      ]
     },
     "execution_count": 108,
     "metadata": {},
     "output_type": "execute_result"
    }
   ],
   "source": [
    "Get_Dados(Intent(\"Flight from Recife\",model1)[0],extract_entities(\"Flight from Recife\"))"
   ]
  },
  {
   "cell_type": "code",
   "execution_count": 109,
   "metadata": {},
   "outputs": [
    {
     "data": {
      "text/plain": [
       "[['AZULL', '019', 'Co', 'Boston', 'seattle', '13 december', '4 pm'],\n",
       " ['GOAL', '7989', 'Boing 6549', 'nashville', 'seattle', '1 may', '6 pm'],\n",
       " ['GOAL', '7989', 'UNYTY7', 'nashville', 'California', '16 November', '3 pm'],\n",
       " ['GOAL', '7989', 'Pipa', 'DC', 'seattle', '16 december', '3 pm']]"
      ]
     },
     "execution_count": 109,
     "metadata": {},
     "output_type": "execute_result"
    }
   ],
   "source": [
    "Get_Dados(\n",
    "    Intent(\"i want a flight from nashville to seattle that arrives no later than 3 pm\",model1)[0],\n",
    "    extract_entities(\"i want a flight from nashville to seattle that arrives no later than 3 pm\"))"
   ]
  },
  {
   "cell_type": "code",
   "execution_count": 110,
   "metadata": {},
   "outputs": [],
   "source": [
    "# Define a function that sends a message to the bot: send_message\n",
    "def send_message(message):\n",
    "    # Print user_template including the user_message\n",
    "    print(user_template.format(message))\n",
    "    # Get the bot's response to the message\n",
    "    response = Resposta(message)\n",
    "    # Print the bot template including the bot's response.\n",
    "    print(bot_template.format(response))\n",
    "    \n",
    "    \n"
   ]
  },
  {
   "cell_type": "code",
   "execution_count": 111,
   "metadata": {},
   "outputs": [
    {
     "name": "stdout",
     "output_type": "stream",
     "text": [
      "Send Message: hello\n",
      "\n",
      "\n",
      "USER : hello\n",
      "BOT : Hello you! :)\n",
      "Send Message: Flights from Recife\n",
      "\n",
      "\n",
      "USER : Flights from Recife\n",
      "BOT : the available flights are Voo 7849 from GOAL from Boston to Recife\n",
      "Send Message: Flights from California\n",
      "\n",
      "\n",
      "USER : Flights from California\n",
      "BOT : the available flights are Voo 7989 from GOAL\n",
      "Send Message: I want the flights of Orlando\n",
      "\n",
      "\n",
      "USER : I want the flights of Orlando\n",
      "BOT : the available flights are Voo 7989 from GOAL to Orlando from New Zeland\n",
      "Send Message: Ok, thank you\n",
      "\n",
      "\n",
      "USER : Ok, thank you\n",
      "BOT : you are very welcome\n",
      "Send Message: bye\n",
      "\n",
      "\n",
      "USER : bye\n",
      "BOT : goodbye for now\n",
      "Send Message: exit\n",
      "\n",
      "\n"
     ]
    }
   ],
   "source": [
    "def chatbot():\n",
    "    while True:\n",
    "        message = input(\"Send Message: \")\n",
    "        print(\"\\n\")\n",
    "        if(message == 'exit'):\n",
    "            break\n",
    "        else:\n",
    "            send_message(message)\n",
    "chatbot()"
   ]
  },
  {
   "cell_type": "code",
   "execution_count": null,
   "metadata": {},
   "outputs": [],
   "source": []
  },
  {
   "cell_type": "code",
   "execution_count": null,
   "metadata": {},
   "outputs": [],
   "source": []
  }
 ],
 "metadata": {
  "kernelspec": {
   "display_name": "Python 3",
   "language": "python",
   "name": "python3"
  },
  "language_info": {
   "codemirror_mode": {
    "name": "ipython",
    "version": 3
   },
   "file_extension": ".py",
   "mimetype": "text/x-python",
   "name": "python",
   "nbconvert_exporter": "python",
   "pygments_lexer": "ipython3",
   "version": "3.7.3"
  }
 },
 "nbformat": 4,
 "nbformat_minor": 2
}
